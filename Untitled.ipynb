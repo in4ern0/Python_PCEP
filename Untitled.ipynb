{
 "cells": [
  {
   "cell_type": "code",
   "execution_count": 5,
   "id": "59bfca9d-7290-42c5-9d57-06a9c2378344",
   "metadata": {},
   "outputs": [
    {
     "data": {
      "text/plain": [
       "300000000.0"
      ]
     },
     "execution_count": 5,
     "metadata": {},
     "output_type": "execute_result"
    }
   ],
   "source": [
    "3E8"
   ]
  },
  {
   "cell_type": "code",
   "execution_count": 6,
   "id": "339f967c-0c4d-4427-a5ca-b23e72819783",
   "metadata": {},
   "outputs": [
    {
     "data": {
      "text/plain": [
       "1e-22"
      ]
     },
     "execution_count": 6,
     "metadata": {},
     "output_type": "execute_result"
    }
   ],
   "source": [
    "1e-22"
   ]
  },
  {
   "cell_type": "code",
   "execution_count": 7,
   "id": "f2f3b372-af4a-417f-aedc-7fb8f591a2b0",
   "metadata": {},
   "outputs": [
    {
     "name": "stdout",
     "output_type": "stream",
     "text": [
      "I like \"Monty Python\"\n"
     ]
    }
   ],
   "source": [
    "print(\"I like \\\"Monty Python\\\"\")"
   ]
  },
  {
   "cell_type": "code",
   "execution_count": 8,
   "id": "9e464f5d-9c02-4fbd-af00-86557435b108",
   "metadata": {},
   "outputs": [
    {
     "name": "stdout",
     "output_type": "stream",
     "text": [
      "I like \"Monty Python\"\n"
     ]
    }
   ],
   "source": [
    "print('I like \"Monty Python\"')"
   ]
  },
  {
   "cell_type": "code",
   "execution_count": 9,
   "id": "2bc30e56-684d-4042-bfe7-90d9d7cd281e",
   "metadata": {},
   "outputs": [
    {
     "name": "stdout",
     "output_type": "stream",
     "text": [
      "True\n",
      "False\n"
     ]
    }
   ],
   "source": [
    "print(True > False)\n",
    "print(True < False)"
   ]
  },
  {
   "cell_type": "code",
   "execution_count": 10,
   "id": "8863a1be-9a5a-47cf-bc81-d4a9db049066",
   "metadata": {},
   "outputs": [
    {
     "name": "stdout",
     "output_type": "stream",
     "text": [
      "\"Hello \", \"007\"\n"
     ]
    }
   ],
   "source": [
    "print('\\\"Hello \\\",' , '\\\"007\\\"')"
   ]
  },
  {
   "cell_type": "code",
   "execution_count": 17,
   "id": "4e903ee7-8b68-431c-9bf1-e14c547a4abc",
   "metadata": {},
   "outputs": [
    {
     "name": "stdout",
     "output_type": "stream",
     "text": [
      "1\n"
     ]
    }
   ],
   "source": [
    "print(1%16)"
   ]
  },
  {
   "cell_type": "code",
   "execution_count": 34,
   "id": "a08f9fe1-02b4-4bbf-a378-91033e41a58c",
   "metadata": {},
   "outputs": [
    {
     "name": "stdout",
     "output_type": "stream",
     "text": [
      "1.0\n",
      "3\n",
      "4\n",
      "1\n",
      "2\n",
      "0.5\n"
     ]
    }
   ],
   "source": [
    "print(2/2)\n",
    "print(7//2)\n",
    "print(124%10)\n",
    "print(1**4)\n",
    "print(1*2)\n",
    "print(14 % 4.5)"
   ]
  },
  {
   "cell_type": "code",
   "execution_count": 35,
   "id": "2efa3364-5517-4128-b83f-b65356ad920f",
   "metadata": {},
   "outputs": [
    {
     "name": "stdout",
     "output_type": "stream",
     "text": [
      "1\n"
     ]
    }
   ],
   "source": [
    "print(9 % 6 % 2)"
   ]
  },
  {
   "cell_type": "code",
   "execution_count": 38,
   "id": "306679aa-4550-4e7a-9b80-8d921f9f8028",
   "metadata": {},
   "outputs": [
    {
     "name": "stdout",
     "output_type": "stream",
     "text": [
      "10.0\n"
     ]
    }
   ],
   "source": [
    "print((5 * ((25 % 13) + 100) / (2 * 13)) // 2)"
   ]
  },
  {
   "cell_type": "code",
   "execution_count": 39,
   "id": "d853f5f1-0464-45b2-b82b-db36829f80ca",
   "metadata": {},
   "outputs": [
    {
     "data": {
      "text/plain": [
       "10.0"
      ]
     },
     "execution_count": 39,
     "metadata": {},
     "output_type": "execute_result"
    }
   ],
   "source": [
    "560/26//2"
   ]
  },
  {
   "cell_type": "code",
   "execution_count": 45,
   "id": "be1c1862-95f0-472d-92cc-8503b4a07f69",
   "metadata": {},
   "outputs": [
    {
     "data": {
      "text/plain": [
       "0"
      ]
     },
     "execution_count": 45,
     "metadata": {},
     "output_type": "execute_result"
    }
   ],
   "source": [
    "2//3"
   ]
  },
  {
   "cell_type": "code",
   "execution_count": 46,
   "id": "146ab459-c2cd-4487-a323-5844b7cc21cf",
   "metadata": {},
   "outputs": [
    {
     "name": "stdout",
     "output_type": "stream",
     "text": [
      "500\n"
     ]
    }
   ],
   "source": [
    "var = 100\n",
    "var = 200 + 300\n",
    "print(var)"
   ]
  },
  {
   "cell_type": "code",
   "execution_count": 49,
   "id": "33c89b69-d83a-427f-a833-31433cefbc80",
   "metadata": {},
   "outputs": [
    {
     "data": {
      "text/plain": [
       "3.0"
      ]
     },
     "execution_count": 49,
     "metadata": {},
     "output_type": "execute_result"
    }
   ],
   "source": [
    "9** 0.5"
   ]
  },
  {
   "cell_type": "code",
   "execution_count": 50,
   "id": "d18bfb2b-2c19-416a-b249-1b3aaa0035f0",
   "metadata": {},
   "outputs": [
    {
     "data": {
      "text/plain": [
       "4.0"
      ]
     },
     "execution_count": 50,
     "metadata": {},
     "output_type": "execute_result"
    }
   ],
   "source": [
    "16**0.5"
   ]
  },
  {
   "cell_type": "code",
   "execution_count": 51,
   "id": "37ec37b3-6017-4204-8f56-5c01d1e4ab22",
   "metadata": {},
   "outputs": [
    {
     "name": "stdout",
     "output_type": "stream",
     "text": [
      "c = 5.0\n"
     ]
    }
   ],
   "source": [
    "a = 3.0\n",
    "b = 4.0\n",
    "c = (a ** 2 + b ** 2) ** 0.5\n",
    "print(\"c =\", c)"
   ]
  },
  {
   "cell_type": "code",
   "execution_count": 59,
   "id": "cc743034-3290-463c-b294-8f19dd8a2b38",
   "metadata": {},
   "outputs": [
    {
     "ename": "SyntaxError",
     "evalue": "invalid syntax (3952104574.py, line 8)",
     "output_type": "error",
     "traceback": [
      "\u001B[0;36m  File \u001B[0;32m\"/var/folders/p6/7q961yb17fs5smkgyy230wp80000gp/T/ipykernel_84942/3952104574.py\"\u001B[0;36m, line \u001B[0;32m8\u001B[0m\n\u001B[0;31m    print(\"Total number of apples:\", total_apples_number, \"and\", total_apples.)\u001B[0m\n\u001B[0m                                                                              ^\u001B[0m\n\u001B[0;31mSyntaxError\u001B[0m\u001B[0;31m:\u001B[0m invalid syntax\n"
     ]
    }
   ],
   "source": [
    "john = 3\n",
    "mary = 5\n",
    "adam = 6\n",
    "\n",
    "print(\"john\", \"mary\", \"adam\")\n",
    "total_apples = john + mary + adam\n",
    "#total_apples_number = len('john', 'mary', 'adam')\n",
    "#print(\"Total number of apples:\", total_apples_number, \"and\", total_apples.)"
   ]
  },
  {
   "cell_type": "code",
   "execution_count": 61,
   "id": "83529273-eea9-4963-a2fc-d0ea7aeb146e",
   "metadata": {},
   "outputs": [
    {
     "name": "stdin",
     "output_type": "stream",
     "text": [
      "Enter a number:  3\n"
     ]
    },
    {
     "name": "stdout",
     "output_type": "stream",
     "text": [
      "3.0 to the power of 2 is 9.0\n"
     ]
    }
   ],
   "source": [
    "anything = float(input(\"Enter a number: \"))\n",
    "something = anything ** 2.0\n",
    "print(anything, \"to the power of 2 is\", something)"
   ]
  },
  {
   "cell_type": "code",
   "execution_count": 62,
   "id": "c68e128b-705f-40b6-9d8c-b9d196a60e44",
   "metadata": {},
   "outputs": [
    {
     "name": "stdin",
     "output_type": "stream",
     "text": [
      "Enter your name:  Ilkin\n"
     ]
    },
    {
     "name": "stdout",
     "output_type": "stream",
     "text": [
      "Hello, Ilkin. Nice to meet you!\n",
      "\n",
      "Press Enter to end the program.\n"
     ]
    },
    {
     "name": "stdin",
     "output_type": "stream",
     "text": [
      " \n"
     ]
    },
    {
     "name": "stdout",
     "output_type": "stream",
     "text": [
      "THE END.\n"
     ]
    }
   ],
   "source": [
    "name = input(\"Enter your name: \")\n",
    "print(\"Hello, \" + name + \". Nice to meet you!\")\n",
    "\n",
    "print(\"\\nPress Enter to end the program.\")\n",
    "input()\n",
    "print(\"THE END.\")"
   ]
  },
  {
   "cell_type": "code",
   "execution_count": 65,
   "id": "565ced35-aa9a-4da3-8a26-fdbda923f0a5",
   "metadata": {},
   "outputs": [
    {
     "data": {
      "text/plain": [
       "2012000000.0"
      ]
     },
     "execution_count": 65,
     "metadata": {},
     "output_type": "execute_result"
    }
   ],
   "source": [
    "20.12E8"
   ]
  },
  {
   "cell_type": "code",
   "execution_count": 66,
   "id": "c7be34e6-7072-40a1-a89e-5684ba4725d1",
   "metadata": {},
   "outputs": [
    {
     "name": "stdout",
     "output_type": "stream",
     "text": [
      "0\n"
     ]
    }
   ],
   "source": [
    "print(0)"
   ]
  },
  {
   "cell_type": "code",
   "execution_count": 68,
   "id": "fde8bedf-b80c-460e-829a-7357c0901c14",
   "metadata": {},
   "outputs": [
    {
     "name": "stdin",
     "output_type": "stream",
     "text": [
      "Enter the first number:  3\n",
      "Enter the second number:  5\n"
     ]
    },
    {
     "name": "stdout",
     "output_type": "stream",
     "text": [
      "The larger number is: 5\n"
     ]
    }
   ],
   "source": [
    "# Read two numbers\n",
    "number1 = int(input(\"Enter the first number: \"))\n",
    "number2 = int(input(\"Enter the second number: \"))\n",
    "\n",
    "# Choose the larger number\n",
    "if number1 > number2:\n",
    "    larger_number = number1\n",
    "else:\n",
    "    larger_number = number2\n",
    "\n",
    "# Print the result\n",
    "print(\"The larger number is:\", larger_number)"
   ]
  },
  {
   "cell_type": "code",
   "execution_count": 70,
   "id": "7efe2eff-fbf0-460f-aa3c-eb78f36d2b16",
   "metadata": {},
   "outputs": [
    {
     "name": "stdin",
     "output_type": "stream",
     "text": [
      "Enter the first number:  2\n",
      "Enter the second number:  5\n"
     ]
    },
    {
     "name": "stdout",
     "output_type": "stream",
     "text": [
      "The larger number is: 5\n"
     ]
    }
   ],
   "source": [
    "# Read two numbers\n",
    "number1 = int(input(\"Enter the first number: \"))\n",
    "number2 = int(input(\"Enter the second number: \"))\n",
    "\n",
    "# Choose the larger number\n",
    "if number1 > number2: larger_number = number1\n",
    "else: larger_number = number2\n",
    "\n",
    "# Print the result\n",
    "print(\"The larger number is:\", larger_number)\n",
    "\n"
   ]
  },
  {
   "cell_type": "code",
   "execution_count": 1,
   "id": "27bcfebd-76f0-4bba-aee2-196f92adf749",
   "metadata": {},
   "outputs": [
    {
     "name": "stdin",
     "output_type": "stream",
     "text": [
      " -1\n"
     ]
    },
    {
     "name": "stdout",
     "output_type": "stream",
     "text": [
      "-9\n"
     ]
    }
   ],
   "source": [
    "largest_number = -9#999999\n",
    "number = int(input())\n",
    "if number == -1:\n",
    "    print(largest_number)\n",
    "    exit()\n",
    "if number > largest_number:\n",
    "    largest_number = number\n",
    "# Go to line 02"
   ]
  },
  {
   "cell_type": "code",
   "execution_count": 2,
   "id": "a76e08d1-bf80-46a4-b586-970213ec0bb8",
   "metadata": {},
   "outputs": [
    {
     "name": "stdin",
     "output_type": "stream",
     "text": [
      "Enter the first number:  100\n",
      "Enter the second number:  1\n",
      "Enter the third number:  1000\n"
     ]
    },
    {
     "name": "stdout",
     "output_type": "stream",
     "text": [
      "The largest number is: 1000\n"
     ]
    }
   ],
   "source": [
    "# Read three numbers.\n",
    "number1 = int(input(\"Enter the first number: \"))\n",
    "number2 = int(input(\"Enter the second number: \"))\n",
    "number3 = int(input(\"Enter the third number: \"))\n",
    "\n",
    "# Check which one of the numbers is the greatest\n",
    "# and pass it to the largest_number variable.\n",
    "\n",
    "largest_number = max(number1, number2, number3)\n",
    "\n",
    "# Print the result.\n",
    "print(\"The largest number is:\", largest_number)\n",
    "\n"
   ]
  },
  {
   "cell_type": "code",
   "execution_count": 9,
   "id": "5a088794-a732-4c74-90ca-fca8d5605ad2",
   "metadata": {},
   "outputs": [
    {
     "name": "stdin",
     "output_type": "stream",
     "text": [
      "Do you looking for plants? asda\n"
     ]
    },
    {
     "name": "stdout",
     "output_type": "stream",
     "text": [
      "Spathiphyllum! Not asda!"
     ]
    }
   ],
   "source": [
    "added = input(\"Do you looking for plants?\")\n",
    "\n",
    "lower = \"spathiphyllum\"\n",
    "up    = \"Spathiphyllum\"\n",
    "\n",
    "if added == lower:\n",
    "    print(\"No, I want a big Spathiphyllum!\")\n",
    "elif up == added:\n",
    "    print(\"Yes - Spathiphyllum is the best plant ever!\")\n",
    "else:\n",
    "    print(\"Spathiphyllum! Not\", added, end='!')"
   ]
  },
  {
   "cell_type": "code",
   "execution_count": 12,
   "id": "c435d178-4b62-4e51-8ab4-cdde4a3b2b47",
   "metadata": {},
   "outputs": [
    {
     "name": "stdout",
     "output_type": "stream",
     "text": [
      "x is greater than or equal to 10\n"
     ]
    }
   ],
   "source": [
    "x = 10\n",
    "\n",
    "if x < 10:  # Condition\n",
    "    print(\"x is less than 10\")  # Executed if the condition is True.\n",
    "\n",
    "else:\n",
    "    print(\"x is greater than or equal to 10\")"
   ]
  },
  {
   "cell_type": "code",
   "execution_count": 13,
   "id": "1d650a1c-d2e0-4db0-8f61-600272a9f35c",
   "metadata": {},
   "outputs": [
    {
     "name": "stdout",
     "output_type": "stream",
     "text": [
      "x > 5\n",
      "x > 8\n",
      "else will be executed\n"
     ]
    }
   ],
   "source": [
    "x = 10\n",
    "\n",
    "if x > 5:  # True\n",
    "    print(\"x > 5\")\n",
    "\n",
    "if x > 8:  # True\n",
    "    print(\"x > 8\")\n",
    "\n",
    "if x > 10:  # False\n",
    "    print(\"x > 10\")\n",
    "\n",
    "else:\n",
    "    print(\"else will be executed\")"
   ]
  },
  {
   "cell_type": "code",
   "execution_count": 14,
   "id": "67e9bee8-e3b0-40db-93d5-1ea9ce6ca65b",
   "metadata": {},
   "outputs": [
    {
     "name": "stdout",
     "output_type": "stream",
     "text": [
      "x == 10\n",
      "x > 5\n"
     ]
    }
   ],
   "source": [
    "x = 10\n",
    "\n",
    "if x == 10:  # True\n",
    "    print(\"x == 10\")\n",
    "\n",
    "if x > 15:  # False\n",
    "    print(\"x > 15\")\n",
    "\n",
    "elif x > 10:  # False\n",
    "    print(\"x > 10\")\n",
    "\n",
    "elif x > 5:  # True\n",
    "    print(\"x > 5\")\n",
    "\n",
    "else:\n",
    "    print(\"else will not be executed\")\n",
    "\n"
   ]
  },
  {
   "cell_type": "code",
   "execution_count": 15,
   "id": "4fbfbdd1-928b-4e8a-9c19-64f4cbe1f8bb",
   "metadata": {},
   "outputs": [
    {
     "name": "stdout",
     "output_type": "stream",
     "text": [
      "nested: x == 10\n"
     ]
    }
   ],
   "source": [
    "x = 10\n",
    "\n",
    "if x > 5:  # True\n",
    "    if x == 6:  # False\n",
    "        print(\"nested: x == 6\")\n",
    "    elif x == 10:  # True\n",
    "        print(\"nested: x == 10\")\n",
    "    else:\n",
    "        print(\"nested: else\")\n",
    "else:\n",
    "    print(\"else\")\n",
    "\n"
   ]
  },
  {
   "cell_type": "code",
   "execution_count": 20,
   "id": "120c3ffc-0096-47c4-86e1-48be9bacb9b1",
   "metadata": {},
   "outputs": [
    {
     "name": "stdin",
     "output_type": "stream",
     "text": [
      "Enter a number or type -1 to stop:  -9999\n",
      "Enter a number or type -1 to stop:  -1\n"
     ]
    },
    {
     "name": "stdout",
     "output_type": "stream",
     "text": [
      "The largest number is: -9999\n"
     ]
    }
   ],
   "source": [
    "# Store the current largest number here.\n",
    "largest_number = -999999999\n",
    "\n",
    "# Input the first value.\n",
    "number = int(input(\"Enter a number or type -1 to stop: \"))\n",
    "\n",
    "# If the number is not equal to -1, continue.\n",
    "while number != -1:\n",
    "    # Is number larger than largest_number?\n",
    "    if number > largest_number:\n",
    "        # Yes, update largest_number.\n",
    "        largest_number = number\n",
    "    # Input the next number.\n",
    "    number = int(input(\"Enter a number or type -1 to stop: \"))\n",
    "\n",
    "# Print the largest number.\n",
    "print(\"The largest number is:\", largest_number)"
   ]
  },
  {
   "cell_type": "code",
   "execution_count": null,
   "id": "e89e5e0b-f726-413e-9a54-c3bf10ff14e9",
   "metadata": {},
   "outputs": [],
   "source": [
    "odd_num   = 0\n",
    "even_num = 0\n",
    "\n",
    "number = int(input(\"Enter a number or type 0 to stop: \"))\n",
    "while number != 0:\n",
    "    if number % 2 == 1:\n",
    "        odd_num += 1\n",
    "    else:\n",
    "        even_num += 1\n",
    "    number = int(input(\"Enter a number or type 0 to stop: \"))\n",
    "print('')"
   ]
  },
  {
   "cell_type": "code",
   "execution_count": 26,
   "id": "cf745979-0b8f-4896-8258-21b8fedc0528",
   "metadata": {},
   "outputs": [
    {
     "name": "stdin",
     "output_type": "stream",
     "text": [
      "What? Spathiphyllum? Spathiphyllum\n"
     ]
    },
    {
     "name": "stdout",
     "output_type": "stream",
     "text": [
      "Yes - Spathiphyllum is the best plant ever!\n"
     ]
    }
   ],
   "source": [
    "inputt = input(\"What? Spathiphyllum?\")\n",
    "loww   = \"spathiphyllum\"\n",
    "upperr = \"Spathiphyllum\"\n",
    "\n",
    "if inputt == loww:\n",
    "    print(\"No, I want a big Spathiphyllum!\")\n",
    "elif inputt == upperr:\n",
    "    print(\"Yes - Spathiphyllum is the best plant ever!\")\n",
    "else:\n",
    "    print(\"Spathiphyllum! Not [input]!\")"
   ]
  },
  {
   "cell_type": "code",
   "execution_count": 62,
   "id": "9f8f74a6-ac86-4a2c-bdf7-a702183f9ef4",
   "metadata": {},
   "outputs": [
    {
     "ename": "IndentationError",
     "evalue": "unexpected indent (1595196825.py, line 8)",
     "output_type": "error",
     "traceback": [
      "\u001B[0;36m  File \u001B[0;32m\"/var/folders/p6/7q961yb17fs5smkgyy230wp80000gp/T/ipykernel_26928/1595196825.py\"\u001B[0;36m, line \u001B[0;32m8\u001B[0m\n\u001B[0;31m    if year % 4 !=0:\u001B[0m\n\u001B[0m    ^\u001B[0m\n\u001B[0;31mIndentationError\u001B[0m\u001B[0;31m:\u001B[0m unexpected indent\n"
     ]
    }
   ],
   "source": [
    "year = int(input(\"Enter a year: \"))\n",
    "\n",
    "many_year = 366\n",
    "less_year = 365\n",
    "\n",
    "if year == 1580:\n",
    "    print(\"Not within the Gregorian calendar period\")\n",
    "        if year % 4 !=0:\n",
    "            print('Common year')\n",
    "                else:\n",
    "                    print(\"Leap year\")\n",
    "        if year % 100 != 0:\n",
    "            print(\"Leap year\")\n",
    "                else:\n",
    "                    print('Common year')\n",
    "        if year % 400 != 0:\n",
    "            print(\"Common year\")\n",
    "else:\n",
    "    print(\"Leap year\")"
   ]
  },
  {
   "cell_type": "code",
   "execution_count": 60,
   "id": "23b5c844-aca6-42fa-8798-e997522d9284",
   "metadata": {},
   "outputs": [
    {
     "name": "stdout",
     "output_type": "stream",
     "text": [
      "x == 10\n",
      "x > 5\n"
     ]
    }
   ],
   "source": [
    "x = 10\n",
    "\n",
    "if x == 10:  # True\n",
    "    print(\"x == 10\")\n",
    "\n",
    "if x > 15:  # False\n",
    "    print(\"x > 15\")\n",
    "\n",
    "elif x > 10:  # False\n",
    "    print(\"x > 10\")\n",
    "\n",
    "elif x > 5:  # True\n",
    "    print(\"x > 5\")\n",
    "\n",
    "else:\n",
    "    print(\"else will not be executed\")\n",
    "\n"
   ]
  },
  {
   "cell_type": "code",
   "execution_count": 65,
   "id": "67f5e840-d010-40d3-9343-e0bdfcf7f856",
   "metadata": {},
   "outputs": [
    {
     "ename": "SyntaxError",
     "evalue": "unexpected character after line continuation character (1834043129.py, line 1)",
     "output_type": "error",
     "traceback": [
      "\u001B[0;36m  File \u001B[0;32m\"/var/folders/p6/7q961yb17fs5smkgyy230wp80000gp/T/ipykernel_26928/1834043129.py\"\u001B[0;36m, line \u001B[0;32m1\u001B[0m\n\u001B[0;31m    print(\\n)\u001B[0m\n\u001B[0m           ^\u001B[0m\n\u001B[0;31mSyntaxError\u001B[0m\u001B[0;31m:\u001B[0m unexpected character after line continuation character\n"
     ]
    }
   ],
   "source": [
    "print(\\n)"
   ]
  },
  {
   "cell_type": "code",
   "execution_count": null,
   "id": "3432a0d2-a939-4549-8b3b-92bd9eef4094",
   "metadata": {},
   "outputs": [],
   "source": []
  }
 ],
 "metadata": {
  "kernelspec": {
   "display_name": "Python 3 (ipykernel)",
   "language": "python",
   "name": "python3"
  },
  "language_info": {
   "codemirror_mode": {
    "name": "ipython",
    "version": 3
   },
   "file_extension": ".py",
   "mimetype": "text/x-python",
   "name": "python",
   "nbconvert_exporter": "python",
   "pygments_lexer": "ipython3",
   "version": "3.9.13"
  }
 },
 "nbformat": 4,
 "nbformat_minor": 5
}
