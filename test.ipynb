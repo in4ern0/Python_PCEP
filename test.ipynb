{
 "cells": [
  {
   "cell_type": "code",
   "execution_count": 2,
   "id": "71ff4448-bad6-4697-a267-fbf1921dee1c",
   "metadata": {},
   "outputs": [
    {
     "name": "stdin",
     "output_type": "stream",
     "text": [
      " Height converter: enter your height in cm:  168\n"
     ]
    },
    {
     "name": "stdout",
     "output_type": "stream",
     "text": [
      "Your height in feet is: 5.511811023622047\n"
     ]
    }
   ],
   "source": [
    "height_cm = float(input(' Height converter: enter your height in cm: '))\n",
    "print('Your height in feet is:', height_cm / 30.48)"
   ]
  },
  {
   "cell_type": "code",
   "execution_count": 16,
   "id": "450012fb-1e7a-440f-8805-6bb173f4b7bd",
   "metadata": {},
   "outputs": [
    {
     "name": "stdin",
     "output_type": "stream",
     "text": [
      "What year were you born 12\n"
     ]
    },
    {
     "name": "stdout",
     "output_type": "stream",
     "text": [
      "In 2100, you will be 2088 years old, provided you live this long!\n"
     ]
    }
   ],
   "source": [
    "year_born = int(input('What year were you born'))\n",
    "print('In 2100, you will be', 2100 - year_born, 'years old, provided you live this long!')"
   ]
  },
  {
   "cell_type": "code",
   "execution_count": 17,
   "id": "ce490d7e-3761-487f-9f01-7b74cbaf7a39",
   "metadata": {},
   "outputs": [
    {
     "name": "stdin",
     "output_type": "stream",
     "text": [
      "Enter the temprature today in Celsius degrees:  12\n"
     ]
    },
    {
     "name": "stdout",
     "output_type": "stream",
     "text": [
      "12 degrees Celsius equals 53.6degrees Farenheit.\n"
     ]
    }
   ],
   "source": [
    "temp_c = input('Enter the temprature today in Celsius degrees: ')\n",
    "temp_f = float(temp_c) * 1.8 + 32\n",
    "temp_statement = str(temp_c ) + ' degrees Celsius equals ' + str(temp_f) + 'degrees Farenheit.'\n",
    "print(temp_statement)"
   ]
  },
  {
   "cell_type": "code",
   "execution_count": 20,
   "id": "4da837c6-6891-40d7-a6b4-89be07a4119b",
   "metadata": {},
   "outputs": [
    {
     "name": "stdin",
     "output_type": "stream",
     "text": [
      "How many hours did you work last month?  12\n",
      "What is your hourly rate?  12\n"
     ]
    },
    {
     "name": "stdout",
     "output_type": "stream",
     "text": [
      "Last month, you earned 144.0 dollars\n"
     ]
    }
   ],
   "source": [
    "hours = int(input('How many hours did you work last month? '))\n",
    "hourly_rate = float(input('What is your hourly rate? '))\n",
    "print('Last month, you earned', hours * hourly_rate, 'dollars')"
   ]
  },
  {
   "cell_type": "code",
   "execution_count": 21,
   "id": "c0ff3f88-ebc3-415a-931a-3b090be033ae",
   "metadata": {},
   "outputs": [
    {
     "data": {
      "text/plain": [
       "12"
      ]
     },
     "execution_count": 21,
     "metadata": {},
     "output_type": "execute_result"
    }
   ],
   "source": [
    "5 + 7"
   ]
  },
  {
   "cell_type": "code",
   "execution_count": 22,
   "id": "e89b8db7-c923-4b12-a6ef-dcf941e7484a",
   "metadata": {},
   "outputs": [
    {
     "data": {
      "text/plain": [
       "-2"
      ]
     },
     "execution_count": 22,
     "metadata": {},
     "output_type": "execute_result"
    }
   ],
   "source": [
    "5 -7 "
   ]
  },
  {
   "cell_type": "code",
   "execution_count": 25,
   "id": "94487985-a92e-4091-a576-62e793c52d59",
   "metadata": {},
   "outputs": [
    {
     "name": "stdout",
     "output_type": "stream",
     "text": [
      "12\n"
     ]
    }
   ],
   "source": [
    "print(+12)"
   ]
  },
  {
   "cell_type": "code",
   "execution_count": 26,
   "id": "0ab23f03-d2f6-44da-8620-051edfbabf41",
   "metadata": {},
   "outputs": [
    {
     "name": "stdout",
     "output_type": "stream",
     "text": [
      "-2\n"
     ]
    }
   ],
   "source": [
    "print(-2)"
   ]
  },
  {
   "cell_type": "code",
   "execution_count": 23,
   "id": "8c4a5971-ed2b-422b-98c0-e5ba09262790",
   "metadata": {},
   "outputs": [
    {
     "data": {
      "text/plain": [
       "10"
      ]
     },
     "execution_count": 23,
     "metadata": {},
     "output_type": "execute_result"
    }
   ],
   "source": [
    "(2+3)*2"
   ]
  },
  {
   "cell_type": "code",
   "execution_count": 27,
   "id": "7a2126eb-2486-483c-84c5-70f963979fce",
   "metadata": {},
   "outputs": [
    {
     "name": "stdout",
     "output_type": "stream",
     "text": [
      "0.30000000000000004\n"
     ]
    }
   ],
   "source": [
    "print(0.1 + 0.1 + 0.1)"
   ]
  },
  {
   "cell_type": "code",
   "execution_count": 28,
   "id": "04063c41-b994-44ef-9af0-7ae26362dd4e",
   "metadata": {},
   "outputs": [
    {
     "data": {
      "text/plain": [
       "256"
      ]
     },
     "execution_count": 28,
     "metadata": {},
     "output_type": "execute_result"
    }
   ],
   "source": [
    "2 ** 2 ** 3"
   ]
  },
  {
   "cell_type": "code",
   "execution_count": 29,
   "id": "2308e942-66e7-4a2c-876f-20304aa3a44e",
   "metadata": {},
   "outputs": [
    {
     "data": {
      "text/plain": [
       "6"
      ]
     },
     "execution_count": 29,
     "metadata": {},
     "output_type": "execute_result"
    }
   ],
   "source": [
    "len('Hello!')"
   ]
  },
  {
   "cell_type": "code",
   "execution_count": 37,
   "id": "4cd9acfa-db85-4341-bf04-7c8d09dec95b",
   "metadata": {},
   "outputs": [
    {
     "name": "stdout",
     "output_type": "stream",
     "text": [
      "Hello, World!. Python Speaking\n"
     ]
    }
   ],
   "source": [
    "print('Hello, World', end='!. ')\n",
    "print('Python Speaking')"
   ]
  },
  {
   "cell_type": "code",
   "execution_count": 46,
   "id": "5361f224-c2d8-4842-aeb4-9da9803b486e",
   "metadata": {},
   "outputs": [
    {
     "name": "stdout",
     "output_type": "stream",
     "text": [
      "Your-first-name-is-John-Welcome!!"
     ]
    }
   ],
   "source": [
    "first_name = 'John'\n",
    "print('Your', 'first', 'name', 'is', first_name, 'Welcome!', sep='-', end='!')"
   ]
  },
  {
   "cell_type": "code",
   "execution_count": 47,
   "id": "b287f4d6-ea01-428a-b4a7-b0614b770cef",
   "metadata": {},
   "outputs": [
    {
     "data": {
      "text/plain": [
       "0"
      ]
     },
     "execution_count": 47,
     "metadata": {},
     "output_type": "execute_result"
    }
   ],
   "source": [
    "1 //6"
   ]
  },
  {
   "cell_type": "code",
   "execution_count": 49,
   "id": "c30c1a29-8b9d-414e-ae41-fc1442f92b6f",
   "metadata": {},
   "outputs": [
    {
     "name": "stdin",
     "output_type": "stream",
     "text": [
      "What is your age?  3\n"
     ]
    },
    {
     "name": "stdout",
     "output_type": "stream",
     "text": [
      "You are 30 years old or younger\n",
      "Congratulations, you qualify\n"
     ]
    }
   ],
   "source": [
    "user_age = int(input('What is your age? '))\n",
    "if user_age > 30:\n",
    "     print('You are over 30 years old')\n",
    "     print('Sorry you do not qualify')\n",
    "elif user_age == 30:\n",
    "     print('You are exactly 30 years old')\n",
    "     print('You will need to meet additional conditions to qualify')\n",
    "else:\n",
    "    print('You are 30 years old or younger')\n",
    "    print('Congratulations, you qualify')"
   ]
  },
  {
   "cell_type": "code",
   "execution_count": 2,
   "id": "d9a7463b-7201-4ee8-9d3a-b27dad94ee78",
   "metadata": {},
   "outputs": [
    {
     "name": "stdout",
     "output_type": "stream",
     "text": [
      "\n",
      "==========================\n",
      "=== SECRET NUMBER GAME ===\n",
      "==========================\n",
      "\n"
     ]
    },
    {
     "name": "stdin",
     "output_type": "stream",
     "text": [
      "Try to guess the secret number from 0 to 20:  1\n"
     ]
    },
    {
     "name": "stdout",
     "output_type": "stream",
     "text": [
      "Wrong!\n"
     ]
    },
    {
     "name": "stdin",
     "output_type": "stream",
     "text": [
      "Try to guess my secret number from 0 to 20 14\n"
     ]
    },
    {
     "name": "stdout",
     "output_type": "stream",
     "text": [
      "Perfect! You have guessed the secret number.\n"
     ]
    }
   ],
   "source": [
    "secret_number = 14\n",
    "print('''\n",
    "==========================\n",
    "=== SECRET NUMBER GAME ===\n",
    "==========================\n",
    "''')\n",
    "user_input = int(input('Try to guess the secret number from 0 to 20: '))\n",
    "while user_input != secret_number:\n",
    "    print('Wrong!')\n",
    "    user_input = int(input('Try to guess my secret number from 0 to 20'))\n",
    "print('Perfect! You have guessed the secret number.')    "
   ]
  },
  {
   "cell_type": "code",
   "execution_count": 25,
   "id": "c8230ffe-9425-452d-8408-6ddeddb868f8",
   "metadata": {},
   "outputs": [
    {
     "name": "stdout",
     "output_type": "stream",
     "text": [
      "Pokka : n\n",
      "Pokka : a\n",
      "Pokka : t\n",
      "Pokka : a\n",
      "Pokka : v\n",
      "Pokka : a\n",
      "Pokka : n\n"
     ]
    }
   ],
   "source": [
    "for i in 'natavan':\n",
    "    print('Pokka :', i)"
   ]
  },
  {
   "cell_type": "code",
   "execution_count": 1,
   "id": "cf784891-32d0-49b8-b4ab-a25701abceb4",
   "metadata": {},
   "outputs": [
    {
     "name": "stdout",
     "output_type": "stream",
     "text": [
      "1\n",
      "2\n",
      "3\n",
      "4\n",
      "5\n",
      "6\n",
      "7\n",
      "8\n",
      "9\n",
      "10\n",
      "Finished\n"
     ]
    }
   ],
   "source": [
    "counter = 1\n",
    "while counter < 11:\n",
    "     print(counter)\n",
    "     counter +=1\n",
    "print('Finished')"
   ]
  },
  {
   "cell_type": "code",
   "execution_count": 14,
   "id": "9a059070-14b8-4518-8743-586361f685ee",
   "metadata": {},
   "outputs": [
    {
     "name": "stdout",
     "output_type": "stream",
     "text": [
      "1\n",
      "3\n",
      "5\n",
      "7\n",
      "9\n",
      "11\n",
      "Finished!\n"
     ]
    }
   ],
   "source": [
    "for counter in range(1, 12, 2):\n",
    "    print(counter)\n",
    "print('Finished!')"
   ]
  },
  {
   "cell_type": "code",
   "execution_count": 16,
   "id": "36f9f272-575e-4865-bcb6-d5163646a238",
   "metadata": {},
   "outputs": [
    {
     "name": "stdin",
     "output_type": "stream",
     "text": [
      "Enter your name or EXIT to close program:  ilkin\n"
     ]
    },
    {
     "name": "stdout",
     "output_type": "stream",
     "text": [
      "Hello ilkin\n"
     ]
    },
    {
     "name": "stdin",
     "output_type": "stream",
     "text": [
      "Enter your name or EXIT to close program:  exit\n"
     ]
    },
    {
     "name": "stdout",
     "output_type": "stream",
     "text": [
      "Hello exit\n"
     ]
    },
    {
     "name": "stdin",
     "output_type": "stream",
     "text": [
      "Enter your name or EXIT to close program:  Ilkin\n"
     ]
    },
    {
     "name": "stdout",
     "output_type": "stream",
     "text": [
      "Hello Ilkin\n"
     ]
    },
    {
     "name": "stdin",
     "output_type": "stream",
     "text": [
      "Enter your name or EXIT to close program:  EXIT\n"
     ]
    }
   ],
   "source": [
    "while True:\n",
    "    name = input('Enter your name or EXIT to close program: ')\n",
    "    if (name == 'EXIT'):\n",
    "        break\n",
    "    print('Hello',name)"
   ]
  },
  {
   "cell_type": "code",
   "execution_count": 29,
   "id": "4bac1eb8-cff7-4b60-97ff-ceb01932308f",
   "metadata": {},
   "outputs": [
    {
     "name": "stdout",
     "output_type": "stream",
     "text": [
      "1\n",
      "2\n",
      "3\n",
      "4\n",
      "6\n",
      "7\n",
      "8\n",
      "9\n",
      "11\n",
      "12\n",
      "13\n",
      "14\n",
      "16\n",
      "17\n",
      "18\n",
      "19\n",
      "21\n",
      "22\n",
      "23\n",
      "24\n",
      "26\n"
     ]
    }
   ],
   "source": [
    "for ilkin in range(1, 27):\n",
    "    if ilkin % 5 == 0:\n",
    "        continue\n",
    "    print(ilkin)"
   ]
  },
  {
   "cell_type": "code",
   "execution_count": 32,
   "id": "b5db03f5-4259-4334-8054-b10a80e698eb",
   "metadata": {},
   "outputs": [],
   "source": [
    "for i in range(11):\n",
    "    pass"
   ]
  },
  {
   "cell_type": "code",
   "execution_count": 8,
   "id": "2a7fd8b8-35a1-4b7c-b79e-bdda1223dbf6",
   "metadata": {},
   "outputs": [
    {
     "name": "stdout",
     "output_type": "stream",
     "text": [
      "1 x 1 = 1\n",
      "1 x 2 = 2\n",
      "1 x 3 = 3\n",
      "1 x 4 = 4\n",
      "1 x 5 = 5\n",
      "1 x 6 = 6\n",
      "1 x 7 = 7\n",
      "1 x 8 = 8\n",
      "1 x 9 = 9\n",
      "2 x 1 = 2\n",
      "2 x 2 = 4\n",
      "2 x 3 = 6\n",
      "2 x 4 = 8\n",
      "2 x 5 = 10\n",
      "2 x 6 = 12\n",
      "2 x 7 = 14\n",
      "2 x 8 = 16\n",
      "2 x 9 = 18\n",
      "3 x 1 = 3\n",
      "3 x 2 = 6\n",
      "3 x 3 = 9\n",
      "3 x 4 = 12\n",
      "3 x 5 = 15\n",
      "3 x 6 = 18\n",
      "3 x 7 = 21\n",
      "3 x 8 = 24\n",
      "3 x 9 = 27\n",
      "4 x 1 = 4\n",
      "4 x 2 = 8\n",
      "4 x 3 = 12\n",
      "4 x 4 = 16\n",
      "4 x 5 = 20\n",
      "4 x 6 = 24\n",
      "4 x 7 = 28\n",
      "4 x 8 = 32\n",
      "4 x 9 = 36\n",
      "5 x 1 = 5\n",
      "5 x 2 = 10\n",
      "5 x 3 = 15\n",
      "5 x 4 = 20\n",
      "5 x 5 = 25\n",
      "5 x 6 = 30\n",
      "5 x 7 = 35\n",
      "5 x 8 = 40\n",
      "5 x 9 = 45\n",
      "6 x 1 = 6\n",
      "6 x 2 = 12\n",
      "6 x 3 = 18\n",
      "6 x 4 = 24\n",
      "6 x 5 = 30\n",
      "6 x 6 = 36\n",
      "6 x 7 = 42\n",
      "6 x 8 = 48\n",
      "6 x 9 = 54\n",
      "7 x 1 = 7\n",
      "7 x 2 = 14\n",
      "7 x 3 = 21\n",
      "7 x 4 = 28\n",
      "7 x 5 = 35\n",
      "7 x 6 = 42\n",
      "7 x 7 = 49\n",
      "7 x 8 = 56\n",
      "7 x 9 = 63\n",
      "8 x 1 = 8\n",
      "8 x 2 = 16\n",
      "8 x 3 = 24\n",
      "8 x 4 = 32\n",
      "8 x 5 = 40\n",
      "8 x 6 = 48\n",
      "8 x 7 = 56\n",
      "8 x 8 = 64\n",
      "8 x 9 = 72\n",
      "9 x 1 = 9\n",
      "9 x 2 = 18\n",
      "9 x 3 = 27\n",
      "9 x 4 = 36\n",
      "9 x 5 = 45\n",
      "9 x 6 = 54\n",
      "9 x 7 = 63\n",
      "9 x 8 = 72\n",
      "9 x 9 = 81\n"
     ]
    }
   ],
   "source": [
    "for a in range(1,10):\n",
    "    for b in range(1, 10):\n",
    "         print(a, 'x', b, '=', a * b)"
   ]
  },
  {
   "cell_type": "code",
   "execution_count": 9,
   "id": "01103af4-4cce-4815-bfe4-f4b62078a7cf",
   "metadata": {},
   "outputs": [
    {
     "name": "stdout",
     "output_type": "stream",
     "text": [
      "\n"
     ]
    }
   ],
   "source": [
    "print()"
   ]
  },
  {
   "cell_type": "code",
   "execution_count": 14,
   "id": "6035470f-a73a-464b-9174-9011be7ae5e9",
   "metadata": {},
   "outputs": [
    {
     "name": "stdout",
     "output_type": "stream",
     "text": [
      "I'm studying Python and having fun\n"
     ]
    }
   ],
   "source": [
    "print(\"I'm studying Python\",'and having fun')"
   ]
  },
  {
   "cell_type": "code",
   "execution_count": 20,
   "id": "02bc1a02-7280-4eb3-b47b-b45a6bdbaf21",
   "metadata": {},
   "outputs": [
    {
     "name": "stdout",
     "output_type": "stream",
     "text": [
      "I'm studying Python and\n",
      "having fun\n"
     ]
    }
   ],
   "source": [
    "print(\"I'm studying Python\", 'and\\nhaving fun')"
   ]
  },
  {
   "cell_type": "code",
   "execution_count": 44,
   "id": "ad154402-8797-4df8-b5c2-e518e022b674",
   "metadata": {},
   "outputs": [
    {
     "name": "stdin",
     "output_type": "stream",
     "text": [
      "What you add for true? smoke\n"
     ]
    },
    {
     "ename": "NameError",
     "evalue": "name 'smoke' is not defined",
     "output_type": "error",
     "traceback": [
      "\u001B[0;31m---------------------------------------------------------------------------\u001B[0m",
      "\u001B[0;31mNameError\u001B[0m                                 Traceback (most recent call last)",
      "\u001B[0;32m/var/folders/p6/7q961yb17fs5smkgyy230wp80000gp/T/ipykernel_78896/2996804289.py\u001B[0m in \u001B[0;36m<module>\u001B[0;34m\u001B[0m\n\u001B[1;32m      1\u001B[0m \u001B[0minput\u001B[0m\u001B[0;34m(\u001B[0m\u001B[0;34m'What you add for true?'\u001B[0m\u001B[0;34m)\u001B[0m\u001B[0;34m\u001B[0m\u001B[0;34m\u001B[0m\u001B[0m\n\u001B[0;32m----> 2\u001B[0;31m \u001B[0;32mif\u001B[0m \u001B[0mgreeting\u001B[0m \u001B[0;34m==\u001B[0m \u001B[0msmoke\u001B[0m\u001B[0;34m:\u001B[0m\u001B[0;34m\u001B[0m\u001B[0;34m\u001B[0m\u001B[0m\n\u001B[0m\u001B[1;32m      3\u001B[0m     \u001B[0mprint\u001B[0m\u001B[0;34m(\u001B[0m\u001B[0;34m'Good'\u001B[0m\u001B[0;34m)\u001B[0m\u001B[0;34m\u001B[0m\u001B[0;34m\u001B[0m\u001B[0m\n\u001B[1;32m      4\u001B[0m \u001B[0;32melse\u001B[0m\u001B[0;34m:\u001B[0m\u001B[0;34m\u001B[0m\u001B[0;34m\u001B[0m\u001B[0m\n\u001B[1;32m      5\u001B[0m     \u001B[0mprint\u001B[0m\u001B[0;34m(\u001B[0m\u001B[0;34m'wrong'\u001B[0m\u001B[0;34m)\u001B[0m\u001B[0;34m\u001B[0m\u001B[0;34m\u001B[0m\u001B[0m\n",
      "\u001B[0;31mNameError\u001B[0m: name 'smoke' is not defined"
     ]
    }
   ],
   "source": [
    "input('What you add for true?')\n",
    "if greeting == smoke:\n",
    "    print('Good')\n",
    "else:\n",
    "    print('wrong')"
   ]
  },
  {
   "cell_type": "code",
   "execution_count": null,
   "id": "3fce484f-d67f-41cf-b42a-c2c4eabe32bb",
   "metadata": {},
   "outputs": [],
   "source": [
    "3e-37 = 3*10ustu37\n",
    "3e78 = 3*1078\n",
    "48e98 = 48 * 1098\n",
    "43e-13 = 43 * 1/13ustu10"
   ]
  },
  {
   "cell_type": "code",
   "execution_count": 250,
   "id": "fbb08689-3110-416f-b570-87bd53fe94ea",
   "metadata": {},
   "outputs": [
    {
     "name": "stdout",
     "output_type": "stream",
     "text": [
      "2\n",
      "3\n",
      "4\n",
      "else: 5\n"
     ]
    }
   ],
   "source": [
    "i = 2\n",
    "while i < 5:\n",
    "    print(i)\n",
    "    i += 1\n",
    "else:\n",
    "    print('else:', i)"
   ]
  },
  {
   "cell_type": "code",
   "execution_count": 251,
   "id": "553fd0e9-825e-4369-b1af-63d30a5c4ec2",
   "metadata": {},
   "outputs": [
    {
     "name": "stdout",
     "output_type": "stream",
     "text": [
      "1 x 1 = 1\n",
      "1 x 2 = 2\n",
      "1 x 3 = 3\n",
      "1 x 4 = 4\n",
      "1 x 5 = 5\n",
      "2 x 1 = 2\n",
      "2 x 2 = 4\n",
      "2 x 3 = 6\n",
      "2 x 4 = 8\n",
      "2 x 5 = 10\n",
      "3 x 1 = 3\n",
      "3 x 2 = 6\n",
      "3 x 3 = 9\n",
      "3 x 4 = 12\n",
      "3 x 5 = 15\n",
      "4 x 1 = 4\n",
      "4 x 2 = 8\n",
      "4 x 3 = 12\n",
      "4 x 4 = 16\n",
      "4 x 5 = 20\n",
      "5 x 1 = 5\n",
      "5 x 2 = 10\n",
      "5 x 3 = 15\n",
      "5 x 4 = 20\n",
      "5 x 5 = 25\n"
     ]
    }
   ],
   "source": [
    "for a in range(1,6):\n",
    "    for b in range(1, 6):\n",
    "         print(a, 'x', b, '=', a * b)"
   ]
  },
  {
   "cell_type": "code",
   "execution_count": null,
   "id": "8144572d-8d05-4122-aa02-c08a9ac6f5c7",
   "metadata": {},
   "outputs": [],
   "source": [
    "\n",
    "user_input = int(input('Try to guess the secret number from 0 to 20: '))\n",
    "while user_input != secret_number:\n",
    "    print('Wrong!')\n",
    "    user_input = int(input('Try to guess my secret number from 0 to 20'))\n",
    "print('Perfect! You have guessed the secret number.')  "
   ]
  },
  {
   "cell_type": "code",
   "execution_count": null,
   "id": "2df0e946-2bcb-4c80-880a-712e38319069",
   "metadata": {},
   "outputs": [],
   "source": [
    "\n",
    "correct_answer = 1994\n",
    "user = int(input('When was Python 1.0 released? '))\n",
    "while True:\n",
    "    \n",
    "    if correct_answer < user:\n",
    "        print('It was earlier than that! ')\n",
    "    elif correct_answer == user:\n",
    "        print('Correct! ')\n",
    "    else correct_answer > user:\n",
    "        print('It was later than that! ')\n",
    "\n"
   ]
  },
  {
   "cell_type": "code",
   "execution_count": null,
   "id": "4484962f-5443-49e5-8fc8-b03a6f1e9b54",
   "metadata": {},
   "outputs": [],
   "source": [
    "correct_answer = 1994\n",
    "user = int(input('When was Python 1.0 released? '))\n",
    "\n",
    "while user != correct_answe\n",
    "    print('When was Python 1.0 released? ')\n",
    "    user = int(input('When was Python 1.0 released?'))\n",
    "print('Perfect! You have guessed the secret number.')  "
   ]
  },
  {
   "cell_type": "code",
   "execution_count": null,
   "id": "0c36a585-cc32-46c1-afb0-0cc6c3e7a6fe",
   "metadata": {},
   "outputs": [],
   "source": [
    "x = 1\n",
    "x = x == x"
   ]
  },
  {
   "cell_type": "code",
   "execution_count": 30,
   "id": "81fd1c0f-35fe-4309-875e-ff3b471221ba",
   "metadata": {},
   "outputs": [
    {
     "name": "stdout",
     "output_type": "stream",
     "text": [
      "True\n"
     ]
    }
   ],
   "source": [
    "a = 5\n",
    "b = 1\n",
    "c = a > b or b < a and a == 1\n",
    "print(c)"
   ]
  },
  {
   "cell_type": "code",
   "execution_count": null,
   "id": "48b1d4d0-dde2-44bc-885a-b50b6407d737",
   "metadata": {},
   "outputs": [],
   "source": [
    "for x in 'i am having fun today':\n",
    "    print(x)"
   ]
  },
  {
   "cell_type": "code",
   "execution_count": 20,
   "id": "1839ad3a-1ff0-4cda-9cd2-59fb3947b7a1",
   "metadata": {},
   "outputs": [
    {
     "name": "stdin",
     "output_type": "stream",
     "text": [
      "How many days ago have you purchased the item?  9\n",
      "Have you used the item at all [y/n]?  n\n",
      "Has the item broken down on its own [y/n]?  n\n"
     ]
    },
    {
     "name": "stdout",
     "output_type": "stream",
     "text": [
      "You cannot get a refund. \n"
     ]
    }
   ],
   "source": [
    "p_day = int(input('How many days ago have you purchased the item? '))\n",
    "used  = input('Have you used the item at all [y/n]? ')\n",
    "broken = input('Has the item broken down on its own [y/n]? ')\n",
    "\n",
    "if p_day < 10 and used == 'y' or broken == 'y':\n",
    "    print('You can get a refund. ')\n",
    "else:\n",
    "    print('You cannot get a refund. ')"
   ]
  },
  {
   "cell_type": "code",
   "execution_count": 24,
   "id": "ca1e5dfb-c45f-4098-b873-c583e029e910",
   "metadata": {},
   "outputs": [
    {
     "name": "stdout",
     "output_type": "stream",
     "text": [
      "Current letter:  h\n",
      "Current letter:  e\n",
      "Current letter:  l\n",
      "Current letter:  l\n",
      "Current letter:  o\n",
      "Current letter:  !\n"
     ]
    }
   ],
   "source": [
    "for i in 'hello!':\n",
    "    print('Current letter: ', i)"
   ]
  },
  {
   "cell_type": "code",
   "execution_count": 29,
   "id": "64087ac5-0c40-46cd-8c03-0a6a1e638ed3",
   "metadata": {},
   "outputs": [
    {
     "name": "stdout",
     "output_type": "stream",
     "text": [
      "1\n",
      "2\n",
      "3\n",
      "4\n",
      "5\n",
      "6\n",
      "7\n",
      "8\n",
      "9\n",
      "10\n",
      "Finished\n"
     ]
    }
   ],
   "source": [
    "counter = 1\n",
    "while counter < 11:\n",
    "    print(counter)\n",
    "    counter += 1\n",
    "print('Finished')\n",
    "    "
   ]
  },
  {
   "cell_type": "code",
   "execution_count": 32,
   "id": "cd0c90c3-d887-49dc-8582-2730db1fb52f",
   "metadata": {},
   "outputs": [
    {
     "name": "stdout",
     "output_type": "stream",
     "text": [
      "1\n",
      "2\n",
      "3\n",
      "4\n",
      "5\n",
      "6\n",
      "7\n",
      "8\n",
      "9\n",
      "10\n",
      "Finished\n"
     ]
    }
   ],
   "source": [
    "for counter in range(1, 11):\n",
    "    print(counter)\n",
    "print('Finished')"
   ]
  },
  {
   "cell_type": "code",
   "execution_count": 37,
   "id": "302a063f-9781-425e-b1ab-1229925ea95b",
   "metadata": {},
   "outputs": [
    {
     "name": "stdin",
     "output_type": "stream",
     "text": [
      "Enter your name or to close type EXIT  asdas\n"
     ]
    },
    {
     "name": "stdout",
     "output_type": "stream",
     "text": [
      "Hello asdas\n"
     ]
    },
    {
     "name": "stdin",
     "output_type": "stream",
     "text": [
      "Enter your name or to close type EXIT  EXIT\n"
     ]
    }
   ],
   "source": [
    "while True:\n",
    "    name = input('Enter your name or to close type EXIT ')\n",
    "    if (name == 'EXIT'):\n",
    "        break\n",
    "    print('Hello', name)"
   ]
  },
  {
   "cell_type": "code",
   "execution_count": 39,
   "id": "3481d669-0214-4aab-8bde-d7f8ec97ad10",
   "metadata": {},
   "outputs": [
    {
     "name": "stdout",
     "output_type": "stream",
     "text": [
      "5\n",
      "10\n",
      "15\n",
      "20\n"
     ]
    }
   ],
   "source": [
    "for i in range(1, 21):\n",
    "    if i % 5 == 0:\n",
    "        print(i)"
   ]
  },
  {
   "cell_type": "code",
   "execution_count": 51,
   "id": "a585b35d-f640-4e8e-8c9f-08fb3eb68036",
   "metadata": {},
   "outputs": [
    {
     "name": "stdout",
     "output_type": "stream",
     "text": [
      "1 x 1 = 1\n",
      "1 x 2 = 2\n",
      "1 x 3 = 3\n",
      "1 x 4 = 4\n",
      "1 x 5 = 5\n",
      "1 x 6 = 6\n",
      "1 x 7 = 7\n",
      "1 x 8 = 8\n",
      "2 x 1 = 2\n",
      "2 x 2 = 4\n",
      "2 x 3 = 6\n",
      "2 x 4 = 8\n",
      "2 x 5 = 10\n",
      "2 x 6 = 12\n",
      "2 x 7 = 14\n",
      "2 x 8 = 16\n",
      "3 x 1 = 3\n",
      "3 x 2 = 6\n",
      "3 x 3 = 9\n",
      "3 x 4 = 12\n",
      "3 x 5 = 15\n",
      "3 x 6 = 18\n",
      "3 x 7 = 21\n",
      "3 x 8 = 24\n",
      "4 x 1 = 4\n",
      "4 x 2 = 8\n",
      "4 x 3 = 12\n",
      "4 x 4 = 16\n",
      "4 x 5 = 20\n",
      "4 x 6 = 24\n",
      "4 x 7 = 28\n",
      "4 x 8 = 32\n",
      "5 x 1 = 5\n",
      "5 x 2 = 10\n",
      "5 x 3 = 15\n",
      "5 x 4 = 20\n",
      "5 x 5 = 25\n",
      "5 x 6 = 30\n",
      "5 x 7 = 35\n",
      "5 x 8 = 40\n"
     ]
    }
   ],
   "source": [
    "for a in range(1, 6):\n",
    "    for b in range(1, 9):\n",
    "        print(a, 'x', b, '=', a * b)"
   ]
  },
  {
   "cell_type": "code",
   "execution_count": 52,
   "id": "ba7ec9f7-0127-4673-a25b-faa5417b2041",
   "metadata": {},
   "outputs": [],
   "source": [
    "city_1 = 'New York City'\n",
    "city_2 = 'Los Angeles'\n",
    "city_3 = 'Chicago'\n",
    "city_4 = 'Houston'\n",
    "city_5 = 'Phoenix'\n",
    "empty_list = []"
   ]
  },
  {
   "cell_type": "code",
   "execution_count": 53,
   "id": "f670a3f1-1a50-47ab-adaa-c5e8b10c9f6f",
   "metadata": {},
   "outputs": [
    {
     "name": "stdout",
     "output_type": "stream",
     "text": [
      "['New York City', 'Los Angeles', 'Chicago', 'Houston', 'Phoenix']\n"
     ]
    }
   ],
   "source": [
    "top_cities = ['New York City', 'Los Angeles', 'Chicago', 'Houston', 'Phoenix']\n",
    "print(top_cities)"
   ]
  },
  {
   "cell_type": "code",
   "execution_count": 57,
   "id": "f4a3199b-fa88-4449-9787-9341ba1d17b8",
   "metadata": {},
   "outputs": [
    {
     "data": {
      "text/plain": [
       "'New York City'"
      ]
     },
     "execution_count": 57,
     "metadata": {},
     "output_type": "execute_result"
    }
   ],
   "source": [
    "top_cities[-5]"
   ]
  },
  {
   "cell_type": "code",
   "execution_count": 58,
   "id": "37da1359-49c8-4387-bd33-b58779267d3b",
   "metadata": {},
   "outputs": [
    {
     "data": {
      "text/plain": [
       "'New York City'"
      ]
     },
     "execution_count": 58,
     "metadata": {},
     "output_type": "execute_result"
    }
   ],
   "source": [
    "top_cities[0]"
   ]
  },
  {
   "cell_type": "code",
   "execution_count": 59,
   "id": "db8039fb-b3ff-4fe9-9f1f-b8a933b0fbf9",
   "metadata": {},
   "outputs": [
    {
     "data": {
      "text/plain": [
       "['New York City', 'Los Angeles', 'Chicago']"
      ]
     },
     "execution_count": 59,
     "metadata": {},
     "output_type": "execute_result"
    }
   ],
   "source": [
    "top_cities[:3]"
   ]
  },
  {
   "cell_type": "code",
   "execution_count": 421,
   "id": "d1e49c5d-b9ac-43ab-99f1-88f34b86fa27",
   "metadata": {},
   "outputs": [
    {
     "ename": "NameError",
     "evalue": "name 'top_cities' is not defined",
     "output_type": "error",
     "traceback": [
      "\u001B[0;31m---------------------------------------------------------------------------\u001B[0m",
      "\u001B[0;31mNameError\u001B[0m                                 Traceback (most recent call last)",
      "\u001B[0;32m/var/folders/p6/7q961yb17fs5smkgyy230wp80000gp/T/ipykernel_25316/1578746405.py\u001B[0m in \u001B[0;36m<module>\u001B[0;34m\u001B[0m\n\u001B[0;32m----> 1\u001B[0;31m \u001B[0mtop_cities\u001B[0m\u001B[0;34m[\u001B[0m\u001B[0;34m-\u001B[0m\u001B[0;36m1\u001B[0m\u001B[0;34m:\u001B[0m\u001B[0;36m1\u001B[0m\u001B[0;34m:\u001B[0m\u001B[0;34m-\u001B[0m\u001B[0;36m1\u001B[0m\u001B[0;34m]\u001B[0m\u001B[0;34m\u001B[0m\u001B[0;34m\u001B[0m\u001B[0m\n\u001B[0m",
      "\u001B[0;31mNameError\u001B[0m: name 'top_cities' is not defined"
     ]
    }
   ],
   "source": [
    "top_cities[-1:1:-1]"
   ]
  },
  {
   "cell_type": "code",
   "execution_count": 424,
   "id": "a77b687c-6f60-458d-a4c7-5a8d84c0360a",
   "metadata": {},
   "outputs": [
    {
     "name": "stdout",
     "output_type": "stream",
     "text": [
      "[7, 9, 5, 6, 8, 4]\n"
     ]
    }
   ],
   "source": [
    "book_ratings = [7, 9, 5, 6, 8]\n",
    "book_ratings.append(4)\n",
    "print(book_ratings)"
   ]
  },
  {
   "cell_type": "code",
   "execution_count": 64,
   "id": "cbdc3c19-955a-4aa2-a041-0b6f99bd187d",
   "metadata": {},
   "outputs": [],
   "source": [
    "del book_ratings[5]"
   ]
  },
  {
   "cell_type": "code",
   "execution_count": 430,
   "id": "e4b2a054-86cc-46c1-86d7-52685d0e703f",
   "metadata": {},
   "outputs": [
    {
     "name": "stdout",
     "output_type": "stream",
     "text": [
      "[7, 9, 5, 6, 8, 4]\n"
     ]
    }
   ],
   "source": [
    "print(book_ratings)"
   ]
  },
  {
   "cell_type": "code",
   "execution_count": 431,
   "id": "4196b7c0-513e-405a-a483-86f0ade6d36e",
   "metadata": {},
   "outputs": [
    {
     "data": {
      "text/plain": [
       "[4, 6]"
      ]
     },
     "execution_count": 431,
     "metadata": {},
     "output_type": "execute_result"
    }
   ],
   "source": [
    "book_ratings[-1:1:-2]"
   ]
  },
  {
   "cell_type": "code",
   "execution_count": 66,
   "id": "aaa40740-9ded-43a8-a230-2c9650145be9",
   "metadata": {},
   "outputs": [
    {
     "name": "stdout",
     "output_type": "stream",
     "text": [
      "[7, 4, 9, 5, 6, 8]\n"
     ]
    }
   ],
   "source": [
    "book_ratings = [7, 9, 5, 6, 8]\n",
    "book_ratings.insert(1, 4)\n",
    "print(book_ratings)"
   ]
  },
  {
   "cell_type": "code",
   "execution_count": 69,
   "id": "a226cbea-254f-4150-bbfd-fd2064a8dd7f",
   "metadata": {},
   "outputs": [
    {
     "name": "stdout",
     "output_type": "stream",
     "text": [
      "Current index: 0 | Current city: New York City\n",
      "Current index: 1 | Current city: Los Angeles\n",
      "Current index: 2 | Current city: Chicago\n",
      "Current index: 3 | Current city: Houston\n",
      "Current index: 4 | Current city: Phoenix\n"
     ]
    }
   ],
   "source": [
    "top_cities = ['New York City', 'Los Angeles', 'Chicago', 'Houston', 'Phoenix']\n",
    "for city_index in range(len(top_cities)):\n",
    "    print('Current index:', city_index, '| Current city:', top_cities[city_index], )"
   ]
  },
  {
   "cell_type": "code",
   "execution_count": 70,
   "id": "7e7280e6-3909-4021-9ed2-f5dac030493b",
   "metadata": {},
   "outputs": [
    {
     "name": "stdout",
     "output_type": "stream",
     "text": [
      "Money spent: 158.1\n"
     ]
    }
   ],
   "source": [
    "spendings = [32.45, 18.65, 23.45, 78.32, 5.23]\n",
    "sum = 0.0\n",
    "for spending in spendings:\n",
    "    sum += spending\n",
    "print('Money spent:', sum)"
   ]
  },
  {
   "cell_type": "code",
   "execution_count": 74,
   "id": "d8640f1a-919d-40a4-8e32-6898fa7a5b27",
   "metadata": {},
   "outputs": [
    {
     "name": "stdin",
     "output_type": "stream",
     "text": [
      "Enter first number 10\n",
      "Enter second number 20\n"
     ]
    },
    {
     "name": "stdout",
     "output_type": "stream",
     "text": [
      "Before swapping: 10 20\n",
      "After swapping: 20 10\n"
     ]
    }
   ],
   "source": [
    "first  = input('Enter first number')\n",
    "second = input('Enter second number')\n",
    "print('Before swapping:', first, second)\n",
    "temporary = first\n",
    "first  = second\n",
    "second = temporary\n",
    "print('After swapping:', first, second)"
   ]
  },
  {
   "cell_type": "code",
   "execution_count": 77,
   "id": "c055ab72-e167-4b1d-a782-3d3071d36f70",
   "metadata": {},
   "outputs": [
    {
     "name": "stdout",
     "output_type": "stream",
     "text": [
      "['Phoenix', 'Los Angeles', 'Chicago', 'Houston', 'New York City']\n"
     ]
    }
   ],
   "source": [
    "top_cities = ['New York City', 'Los Angeles', 'Chicago', 'Houston', 'Phoenix']\n",
    "top_cities[0], top_cities[4] = top_cities[4], top_cities[0]\n",
    "print(top_cities)"
   ]
  },
  {
   "cell_type": "code",
   "execution_count": 85,
   "id": "dda97e85-6c59-4432-bdea-70dab6133495",
   "metadata": {},
   "outputs": [
    {
     "name": "stdout",
     "output_type": "stream",
     "text": [
      "['Chicago', 'Houston', 'Los Angeles', 'New York City', 'Phoenix']\n"
     ]
    }
   ],
   "source": [
    "top_cities = ['New York City', 'Los Angeles', 'Chicago', 'Houston', 'Phoenix']\n",
    "top_cities.sort()\n",
    "print(top_cities)"
   ]
  },
  {
   "cell_type": "code",
   "execution_count": 87,
   "id": "cb2a1540-a046-4cc0-bbd9-d51a7a0b840f",
   "metadata": {},
   "outputs": [
    {
     "name": "stdout",
     "output_type": "stream",
     "text": [
      "['Chicago', 'Houston', 'Los Angeles', 'New York City', 'Phoenix']\n",
      "['New York City', 'Los Angeles', 'Chicago', 'Houston', 'Phoenix']\n"
     ]
    }
   ],
   "source": [
    "top_cities = ['New York City', 'Los Angeles', 'Chicago', 'Houston', 'Phoenix']\n",
    "print(sorted(top_cities)) # keeps original list\n",
    "print(top_cities)"
   ]
  },
  {
   "cell_type": "code",
   "execution_count": 92,
   "id": "b2298b95-eead-4e8b-bbb4-6aa70192d200",
   "metadata": {},
   "outputs": [
    {
     "name": "stdin",
     "output_type": "stream",
     "text": [
      "What is your name?  Ilkin\n"
     ]
    },
    {
     "name": "stdout",
     "output_type": "stream",
     "text": [
      "Welcome!\n"
     ]
    }
   ],
   "source": [
    "invited_guests = ['Kate', 'Adam', 'Kerry', 'Joe', 'Anne', 'Marie']\n",
    "name = input('What is your name? ')\n",
    "if name not in invited_guests:\n",
    "    print('Welcome!')\n",
    "else:\n",
    "    print('You are not invited!')"
   ]
  },
  {
   "cell_type": "code",
   "execution_count": 93,
   "id": "b02d1369-17dc-43b5-84ff-4ec4dae0463f",
   "metadata": {},
   "outputs": [
    {
     "name": "stdout",
     "output_type": "stream",
     "text": [
      "Daenerys Targaryen John Snow\n"
     ]
    }
   ],
   "source": [
    "name_original = 'John Snow'\n",
    "name_new = name_original\n",
    "name_original = 'Daenerys Targaryen'\n",
    "print(name_original, name_new)"
   ]
  },
  {
   "cell_type": "code",
   "execution_count": 102,
   "id": "d4a580ca-a7d2-4ba1-b776-4c95e093c6d8",
   "metadata": {},
   "outputs": [
    {
     "name": "stdout",
     "output_type": "stream",
     "text": [
      "Original: [-5, 2, 3] \n",
      "New [1, 2, 3]\n"
     ]
    }
   ],
   "source": [
    "list_original = [1, 2, 3]\n",
    "list_new = list_original[:]   # For keep original list add slicing [:]\n",
    "list_original[0] = -5\n",
    "print('Original:', list_original, '\\nNew', list_new)"
   ]
  },
  {
   "cell_type": "code",
   "execution_count": 2,
   "id": "371a2b74-cf70-4295-baad-09902eb68350",
   "metadata": {},
   "outputs": [
    {
     "name": "stdout",
     "output_type": "stream",
     "text": [
      "[1, 2, 3, 4, 5, 6, 7, 8, 9, 10, 11, 12, 13, 14, 15, 16, 17, 18, 19, 20, 21, 22, 23, 24, 25, 26, 27, 28, 29, 30, 31, 32, 33, 34, 35, 36, 37, 38, 39, 40, 41, 42, 43, 44, 45, 46, 47, 48, 49, 50, 51, 52, 53, 54, 55, 56, 57, 58, 59, 60, 61, 62, 63, 64, 65, 66, 67, 68, 69, 70, 71, 72, 73, 74, 75, 76, 77, 78, 79, 80, 81, 82, 83, 84, 85, 86, 87, 88, 89, 90, 91, 92, 93, 94, 95, 96, 97, 98, 99, 100]\n"
     ]
    }
   ],
   "source": [
    "numbers = []\n",
    "for i in range(1, 101):\n",
    "    numbers.append(i)\n",
    "print(numbers)"
   ]
  },
  {
   "cell_type": "code",
   "execution_count": 5,
   "id": "f859c9c8-8e7f-4182-aea9-b7472f136fc8",
   "metadata": {},
   "outputs": [
    {
     "name": "stdout",
     "output_type": "stream",
     "text": [
      "[1, 2, 3, 4, 5, 6, 7, 8, 9, 10, 11, 12, 13, 14, 15, 16, 17, 18, 19, 20, 21, 22, 23, 24, 25, 26, 27, 28, 29, 30, 31, 32, 33, 34, 35, 36, 37, 38, 39, 40, 41, 42, 43, 44, 45, 46, 47, 48, 49, 50, 51, 52, 53, 54, 55, 56, 57, 58, 59, 60, 61, 62, 63, 64, 65, 66, 67, 68, 69, 70, 71, 72, 73, 74, 75, 76, 77, 78, 79, 80, 81, 82, 83, 84, 85, 86, 87, 88, 89, 90, 91, 92, 93, 94, 95, 96, 97, 98, 99, 100]\n"
     ]
    }
   ],
   "source": [
    "numbers = [i for i in range(1, 101)]\n",
    "print(numbers)"
   ]
  },
  {
   "cell_type": "code",
   "execution_count": 12,
   "id": "d1f6d84c-2950-4532-8bb9-0cc136c2cdca",
   "metadata": {},
   "outputs": [
    {
     "name": "stdout",
     "output_type": "stream",
     "text": [
      "[3, 6, 9, 12, 15, 18, 21, 24, 27, 30, 33, 36, 39, 42, 45, 48, 51, 54, 57, 60, 63, 66, 69, 72, 75, 78, 81, 84, 87, 90, 93, 96, 99]\n"
     ]
    }
   ],
   "source": [
    "numbers = [i for i in range(1, 101) if i % 3 == 0]\n",
    "print(numbers)"
   ]
  },
  {
   "cell_type": "code",
   "execution_count": 31,
   "id": "893104f3-d0f9-4516-9d11-921ddac6acbf",
   "metadata": {},
   "outputs": [
    {
     "name": "stdout",
     "output_type": "stream",
     "text": [
      "Example: ['A1', 'A2', 'A3']\n",
      "Example: ['B1', 'B2', 'B3']\n"
     ]
    }
   ],
   "source": [
    "cells = [['A1', 'A2', 'A3'], ['B1', 'B2', 'B3']]\n",
    "for i in cells:\n",
    "    print('Example:', i)"
   ]
  },
  {
   "cell_type": "code",
   "execution_count": 34,
   "id": "1747ff5b-5a1d-420f-a532-0b4bd342a6cf",
   "metadata": {},
   "outputs": [
    {
     "name": "stdout",
     "output_type": "stream",
     "text": [
      "A1 A2 A3 \n",
      "B1 B2 B3 \n"
     ]
    }
   ],
   "source": [
    "cells = [['A1', 'A2', 'A3'], ['B1', 'B2', 'B3']]\n",
    "for i in cells:\n",
    "    for x in i:\n",
    "        print(x, '', end='')\n",
    "    print()"
   ]
  },
  {
   "cell_type": "code",
   "execution_count": 42,
   "id": "7321bf0c-d543-4f12-b6a5-591f44343295",
   "metadata": {},
   "outputs": [
    {
     "name": "stdout",
     "output_type": "stream",
     "text": [
      "[[1, 2, 3, 4, 5], [1, 2, 3, 4, 5], [1, 2, 3, 4, 5], [1, 2, 3, 4, 5]]\n"
     ]
    }
   ],
   "source": [
    "table = [[i for i in range(1, 6)] for j in range(4)]\n",
    "print(table)"
   ]
  },
  {
   "cell_type": "code",
   "execution_count": 43,
   "id": "a3ea2ec7-06e9-4d66-b1c6-5df6603566e4",
   "metadata": {},
   "outputs": [
    {
     "name": "stdout",
     "output_type": "stream",
     "text": [
      "['New York City', 'Chicago', 'London', 'Bristol']\n"
     ]
    }
   ],
   "source": [
    "list_us = ['New York City', 'Chicago']\n",
    "list_uk = ['London', 'Bristol']\n",
    "list_all = list_us + list_uk\n",
    "print(list_all)"
   ]
  },
  {
   "cell_type": "code",
   "execution_count": 45,
   "id": "19ff1fb3-d296-4ce4-af76-cc9926739830",
   "metadata": {},
   "outputs": [
    {
     "name": "stdout",
     "output_type": "stream",
     "text": [
      "[0, 1, 0, 1]\n"
     ]
    }
   ],
   "source": [
    "list_numbers = [0, 1] * 2\n",
    "print(list_numbers)"
   ]
  },
  {
   "cell_type": "code",
   "execution_count": 62,
   "id": "72bff6e5-1791-4711-9d50-8b66f7b64035",
   "metadata": {},
   "outputs": [
    {
     "name": "stdout",
     "output_type": "stream",
     "text": [
      " \n"
     ]
    }
   ],
   "source": [
    "fav_band = 'Green Day'\n",
    "print(fav_band[5])"
   ]
  },
  {
   "cell_type": "code",
   "execution_count": 63,
   "id": "2c9b0733-b0ca-4dfc-b842-d85ce6f24d0b",
   "metadata": {},
   "outputs": [
    {
     "name": "stdout",
     "output_type": "stream",
     "text": [
      "Day\n"
     ]
    }
   ],
   "source": [
    "print(fav_band[6:])"
   ]
  },
  {
   "cell_type": "code",
   "execution_count": 64,
   "id": "40b89485-c39e-40f8-9401-1a259383b209",
   "metadata": {},
   "outputs": [
    {
     "name": "stdout",
     "output_type": "stream",
     "text": [
      "PLEASE CAPITLISE ME\n"
     ]
    }
   ],
   "source": [
    "text = ('PLease capitlise me')\n",
    "text_cap = text.upper()\n",
    "print(text_cap)"
   ]
  },
  {
   "cell_type": "code",
   "execution_count": 66,
   "id": "7214ea04-e3fa-4e0f-a9b2-aeb05b841306",
   "metadata": {},
   "outputs": [
    {
     "name": "stdin",
     "output_type": "stream",
     "text": [
      "Please provide a number:  awd\n"
     ]
    },
    {
     "name": "stdout",
     "output_type": "stream",
     "text": [
      "Sorry, awd is not a number\n"
     ]
    }
   ],
   "source": [
    "user_number = input('Please provide a number: ')\n",
    "if user_number.isnumeric():\n",
    "    print('Thank you that\\'s a correct number')\n",
    "else:\n",
    "    print('Sorry,', user_number, 'is not a number')"
   ]
  },
  {
   "cell_type": "code",
   "execution_count": 67,
   "id": "e284836b-d4ee-4deb-9528-05f24f8f76c7",
   "metadata": {},
   "outputs": [],
   "source": [
    "user_data = ('John', 'American', 1964)\n",
    "user_data = ('Katya', 'Russian', 1980)"
   ]
  },
  {
   "cell_type": "code",
   "execution_count": 69,
   "id": "75b8ff33-9317-49ee-a625-eb31c63d74ff",
   "metadata": {},
   "outputs": [
    {
     "name": "stdout",
     "output_type": "stream",
     "text": [
      "Katya\n"
     ]
    }
   ],
   "source": [
    "print(user_data[0])"
   ]
  },
  {
   "cell_type": "code",
   "execution_count": 72,
   "id": "f6bae67c-0bba-44b4-8f35-52c6c87f4d67",
   "metadata": {},
   "outputs": [
    {
     "name": "stdout",
     "output_type": "stream",
     "text": [
      "This person comes from US\n"
     ]
    }
   ],
   "source": [
    "user_data = ('John', 'American', 1964)\n",
    "if 'American' in user_data:\n",
    "    print(\"This person comes from US\")"
   ]
  },
  {
   "cell_type": "code",
   "execution_count": 73,
   "id": "ff036daf-e722-40c4-9a5d-c63848f79d07",
   "metadata": {},
   "outputs": [
    {
     "name": "stdout",
     "output_type": "stream",
     "text": [
      "John\n",
      "American\n",
      "1964\n"
     ]
    }
   ],
   "source": [
    "user_data = ('John', 'American', 1964)\n",
    "for element in user_data:\n",
    "    print(element)"
   ]
  },
  {
   "cell_type": "code",
   "execution_count": 75,
   "id": "f61007fa-bdfc-4b01-8663-58659c44b63b",
   "metadata": {},
   "outputs": [],
   "source": [
    "city_1 = ('London', 'UK', 8.98)"
   ]
  },
  {
   "cell_type": "code",
   "execution_count": 76,
   "id": "0e6a9cff-136e-4ceb-9a90-e731ee73b316",
   "metadata": {},
   "outputs": [],
   "source": [
    "city_2 = ('Canberra', 'Australlia', 0,4)"
   ]
  },
  {
   "cell_type": "code",
   "execution_count": 77,
   "id": "d1207814-613b-4bfa-a52b-e71c6dc8ada9",
   "metadata": {},
   "outputs": [],
   "source": [
    "city_3 = ('Algiers', 'Algeria', 3.9)"
   ]
  },
  {
   "cell_type": "code",
   "execution_count": 79,
   "id": "9c41f6d1-6ca1-46f3-89c3-962307506e1b",
   "metadata": {},
   "outputs": [],
   "source": [
    "capitals = [('London', 'UK', 8.98), ('Canberra', 'Australlia', 0,4), ('Algiers', 'Algeria', 3.9)]"
   ]
  },
  {
   "cell_type": "code",
   "execution_count": 82,
   "id": "dee5d856-76e4-4520-870a-76d71173e0c1",
   "metadata": {},
   "outputs": [
    {
     "name": "stdout",
     "output_type": "stream",
     "text": [
      "Name: London , Country: UK , Population: 8.98\n",
      "Name: Canberra , Country: Australlia , Population: 0\n",
      "Name: Algiers , Country: Algeria , Population: 3.9\n"
     ]
    }
   ],
   "source": [
    "for capital in capitals:\n",
    "    print('Name:', capital[0], ', Country:', capital[1], ', Population:', capital[2])"
   ]
  },
  {
   "cell_type": "code",
   "execution_count": 92,
   "id": "50e531c8-6312-4def-b03f-efaf985d229f",
   "metadata": {},
   "outputs": [],
   "source": [
    "user_data = ('John', 'American', 1964, [77.8, 55.6, 76.4])"
   ]
  },
  {
   "cell_type": "code",
   "execution_count": 99,
   "id": "57c4b372-ca12-46b1-9df0-8a63403ffaea",
   "metadata": {},
   "outputs": [],
   "source": [
    "user_data[3].append(777777.7)"
   ]
  },
  {
   "cell_type": "code",
   "execution_count": 105,
   "id": "b3e30c0e-6eee-46f3-90b3-b16bc01ac30a",
   "metadata": {},
   "outputs": [
    {
     "name": "stdout",
     "output_type": "stream",
     "text": [
      "('John', 'American', 1964, [77.8, 55.6, 76.4, 777777.7])\n"
     ]
    }
   ],
   "source": [
    "#del user_data[3][3]\n",
    "print(user_data)\n"
   ]
  },
  {
   "cell_type": "code",
   "execution_count": null,
   "id": "042f8514-cb2d-40a7-a0c6-0cec8210a681",
   "metadata": {},
   "outputs": [],
   "source": [
    "\n",
    "connections = [\n",
    "    ('Amsterdam', 'Dublin', 100),\n",
    "    ('Amsterdam', 'Rome', 140),\n",
    "    ('Rome', 'Warsaw', 130),\n",
    "    ('Minsk', 'Prague', 95),\n",
    "    ('Stockholm', 'Rome', 190),\n",
    "    ('Copenhagen', 'Paris', 120),\n",
    "    ('Madrid', 'Rome', 135),\n",
    "    ('Lisbon', 'Rome', 170),\n",
    "    ('Dublin', 'Rome', 170),\n",
    "    ]\n",
    "\n",
    "city_from = 0\n",
    "city_to   = 0\n",
    "time      = 0\n",
    "\n"
   ]
  },
  {
   "cell_type": "code",
   "execution_count": 106,
   "id": "c8ed4bb8-2d67-4608-b3bb-eda9f0826fa8",
   "metadata": {},
   "outputs": [],
   "source": [
    "emails = {\n",
    "    'Anne Stahl': 'astahl@gmail.com',\n",
    "    'Peter Small': 'peters@yandex.com',\n",
    "    'Mark Steel': 'mark@steel.com'\n",
    "}"
   ]
  },
  {
   "cell_type": "code",
   "execution_count": 107,
   "id": "b20f05d5-f95d-4b8d-8999-a8e39b67f403",
   "metadata": {},
   "outputs": [
    {
     "name": "stdout",
     "output_type": "stream",
     "text": [
      "mark@steel.com\n"
     ]
    }
   ],
   "source": [
    "print(emails['Mark Steel'])"
   ]
  },
  {
   "cell_type": "code",
   "execution_count": 108,
   "id": "bbe4e037-5a99-4b62-986a-8ce6a40dfa95",
   "metadata": {},
   "outputs": [],
   "source": [
    "spanish_animals = {\n",
    "    'dog': 'el perro',\n",
    "    'cat': 'el gato',\n",
    "    'horse': 'el caballo',\n",
    "    'bird': 'el pájaro'\n",
    "     }"
   ]
  },
  {
   "cell_type": "code",
   "execution_count": 110,
   "id": "ddc88cb8-84e3-4918-965e-33d547166389",
   "metadata": {},
   "outputs": [
    {
     "name": "stdout",
     "output_type": "stream",
     "text": [
      "el pájaro\n"
     ]
    }
   ],
   "source": [
    "print(spanish_animals['bird'])"
   ]
  },
  {
   "cell_type": "code",
   "execution_count": 125,
   "id": "33c4c110-04ed-42cd-bfb6-76e7aa185a41",
   "metadata": {},
   "outputs": [
    {
     "ename": "KeyError",
     "evalue": "'el perro'",
     "output_type": "error",
     "traceback": [
      "\u001B[0;31m---------------------------------------------------------------------------\u001B[0m",
      "\u001B[0;31mKeyError\u001B[0m                                  Traceback (most recent call last)",
      "\u001B[0;32m/var/folders/p6/7q961yb17fs5smkgyy230wp80000gp/T/ipykernel_25316/616042358.py\u001B[0m in \u001B[0;36m<module>\u001B[0;34m\u001B[0m\n\u001B[1;32m      6\u001B[0m     \u001B[0;34m'bird'\u001B[0m\u001B[0;34m:\u001B[0m \u001B[0;34m'el ave'\u001B[0m\u001B[0;34m\u001B[0m\u001B[0;34m\u001B[0m\u001B[0m\n\u001B[1;32m      7\u001B[0m      }\n\u001B[0;32m----> 8\u001B[0;31m \u001B[0mprint\u001B[0m\u001B[0;34m(\u001B[0m\u001B[0mspanish_animals\u001B[0m\u001B[0;34m[\u001B[0m\u001B[0;34m'el perro'\u001B[0m\u001B[0;34m]\u001B[0m\u001B[0;34m)\u001B[0m\u001B[0;34m\u001B[0m\u001B[0;34m\u001B[0m\u001B[0m\n\u001B[0m",
      "\u001B[0;31mKeyError\u001B[0m: 'el perro'"
     ]
    }
   ],
   "source": [
    "spanish_animals = {\n",
    "    'dog': 'el perro',\n",
    "    'cat': 'el gato',\n",
    "    'horse': 'el caballo',\n",
    "    'bird': 'el pájaro',\n",
    "    'bird': 'el ave'\n",
    "     }\n",
    "print(spanish_animals['el perro'])"
   ]
  },
  {
   "cell_type": "code",
   "execution_count": 113,
   "id": "df72155b-15a0-4cfd-9307-ea365d1063c2",
   "metadata": {},
   "outputs": [
    {
     "name": "stdout",
     "output_type": "stream",
     "text": [
      "{'dog': 'el perro', 'cat': 'el gato', 'horse': 'el caballo', 'bird': 'el ave'}\n"
     ]
    }
   ],
   "source": [
    "print(spanish_animals)"
   ]
  },
  {
   "cell_type": "code",
   "execution_count": 115,
   "id": "95fac9c5-dc70-4ba8-949a-6952e20379b4",
   "metadata": {},
   "outputs": [
    {
     "name": "stdout",
     "output_type": "stream",
     "text": [
      "el perro\n"
     ]
    }
   ],
   "source": [
    "print(spanish_animals['dog'])"
   ]
  },
  {
   "cell_type": "code",
   "execution_count": 116,
   "id": "5b4d3444-bcf8-4e28-917a-415ec4e02ef7",
   "metadata": {},
   "outputs": [],
   "source": [
    "grades = {}"
   ]
  },
  {
   "cell_type": "code",
   "execution_count": 117,
   "id": "c9776f18-2507-4863-844d-5bfc97c637e6",
   "metadata": {},
   "outputs": [],
   "source": [
    "grades['John'] = '-A'"
   ]
  },
  {
   "cell_type": "code",
   "execution_count": 118,
   "id": "0af95022-1469-4d3a-84d3-f46dc150a75d",
   "metadata": {},
   "outputs": [],
   "source": [
    "grades['Anne'] = 'B'"
   ]
  },
  {
   "cell_type": "code",
   "execution_count": 119,
   "id": "3d92233c-fb7e-4172-a5c9-5778cc26d435",
   "metadata": {},
   "outputs": [
    {
     "name": "stdout",
     "output_type": "stream",
     "text": [
      "{'John': '-A', 'Anne': 'B'}\n"
     ]
    }
   ],
   "source": [
    "print(grades)"
   ]
  },
  {
   "cell_type": "code",
   "execution_count": 127,
   "id": "03d82fb1-60a9-4e9f-b5cd-6b35ef20def5",
   "metadata": {},
   "outputs": [],
   "source": [
    "grades.update({'John':'A'})"
   ]
  },
  {
   "cell_type": "code",
   "execution_count": 132,
   "id": "5ef07a27-c911-434c-9759-ceb657a50f73",
   "metadata": {},
   "outputs": [],
   "source": [
    "grades['Anne'] = 'C'"
   ]
  },
  {
   "cell_type": "code",
   "execution_count": 133,
   "id": "8709e2a1-0459-4173-b359-8b3ac55645e2",
   "metadata": {},
   "outputs": [
    {
     "name": "stdout",
     "output_type": "stream",
     "text": [
      "{'John': 'A', 'Anne': 'C'}\n"
     ]
    }
   ],
   "source": [
    "print(grades)"
   ]
  },
  {
   "cell_type": "code",
   "execution_count": 134,
   "id": "dc2656a0-093b-4b5f-9d89-ea4a6c0f9a38",
   "metadata": {},
   "outputs": [
    {
     "name": "stdout",
     "output_type": "stream",
     "text": [
      "John got A\n"
     ]
    }
   ],
   "source": [
    "if 'John' in grades:\n",
    "    print('John got', grades['John'])"
   ]
  },
  {
   "cell_type": "code",
   "execution_count": 135,
   "id": "29359175-01d2-4473-871a-293c67276888",
   "metadata": {},
   "outputs": [
    {
     "name": "stdout",
     "output_type": "stream",
     "text": [
      "{'Anne': 'C'}\n"
     ]
    }
   ],
   "source": [
    "del grades['John']\n",
    "print(grades)"
   ]
  },
  {
   "cell_type": "code",
   "execution_count": 170,
   "id": "2946e789-a8fa-4bc7-b0db-1f5b4bd65b89",
   "metadata": {},
   "outputs": [
    {
     "name": "stdout",
     "output_type": "stream",
     "text": [
      "{'John': 'A-', 'Anne': 'B'}\n"
     ]
    }
   ],
   "source": [
    "grades = {}\n",
    "grades['John'] = 'A-'\n",
    "grades['Anne'] = 'B'\n",
    "print(grades)"
   ]
  },
  {
   "cell_type": "code",
   "execution_count": 163,
   "id": "8c133269-236f-40ac-8458-8a40dd044c6e",
   "metadata": {},
   "outputs": [
    {
     "name": "stdout",
     "output_type": "stream",
     "text": [
      "John\n",
      "Anne\n"
     ]
    }
   ],
   "source": [
    "for el in grades:\n",
    "    print(el)"
   ]
  },
  {
   "cell_type": "code",
   "execution_count": 167,
   "id": "157d234e-a012-46cf-b32d-b27c58279ecc",
   "metadata": {},
   "outputs": [
    {
     "name": "stdout",
     "output_type": "stream",
     "text": [
      "A-\n",
      "B\n"
     ]
    }
   ],
   "source": [
    "for i in grades.values():\n",
    "    print(i)"
   ]
  },
  {
   "cell_type": "code",
   "execution_count": 171,
   "id": "3a23e5aa-8910-47ab-9231-c40bd08a2e7f",
   "metadata": {},
   "outputs": [
    {
     "name": "stdout",
     "output_type": "stream",
     "text": [
      "John got A-\n",
      "Anne got B\n"
     ]
    }
   ],
   "source": [
    "for p, g in grades.items():\n",
    "    print(p, 'got', g)"
   ]
  },
  {
   "cell_type": "code",
   "execution_count": 180,
   "id": "8483915b-d7b7-48d9-bb25-26c878c17a64",
   "metadata": {},
   "outputs": [],
   "source": [
    "def Salam():\n",
    "    print('Salam Kele')\n"
   ]
  },
  {
   "cell_type": "code",
   "execution_count": 181,
   "id": "0632b1b1-fe4f-49ce-958e-5edb6b2db791",
   "metadata": {},
   "outputs": [
    {
     "name": "stdout",
     "output_type": "stream",
     "text": [
      "Salam Kele\n"
     ]
    }
   ],
   "source": [
    "Salam()"
   ]
  },
  {
   "cell_type": "code",
   "execution_count": 188,
   "id": "cf11bce9-9650-4a38-8d80-680b47b2fede",
   "metadata": {},
   "outputs": [
    {
     "name": "stdout",
     "output_type": "stream",
     "text": [
      "7.24\n"
     ]
    }
   ],
   "source": [
    "input_numbers = [5.0, 3.5, 7.8, 9.9, 10.0]\n",
    "sum = 0.0\n",
    "for number in input_numbers:\n",
    "    sum += number\n",
    "average = sum / len(input_numbers)\n",
    "print(average)"
   ]
  },
  {
   "cell_type": "code",
   "execution_count": 206,
   "id": "badf26c7-af9b-4134-8340-d261222773a4",
   "metadata": {},
   "outputs": [
    {
     "name": "stdout",
     "output_type": "stream",
     "text": [
      "7.24\n"
     ]
    }
   ],
   "source": [
    "def average(input_numbers):\n",
    "    sum = 0.0\n",
    "    for number in input_numbers:\n",
    "        sum += number\n",
    "    average = sum / len(input_numbers)\n",
    "    print(average)\n",
    "average([5.0, 3.5, 7.8, 9.9, 10.0])"
   ]
  },
  {
   "cell_type": "code",
   "execution_count": 207,
   "id": "bd876a6b-2c01-485c-9de4-523ee1ad7bb0",
   "metadata": {},
   "outputs": [
    {
     "name": "stdout",
     "output_type": "stream",
     "text": [
      "7.24\n"
     ]
    }
   ],
   "source": [
    "average([5.0, 3.5, 7.8, 9.9, 10.0])"
   ]
  },
  {
   "cell_type": "code",
   "execution_count": 211,
   "id": "c65bf39e-6bf4-46d2-bd94-b05de5c715cf",
   "metadata": {},
   "outputs": [],
   "source": [
    "def print_letter_count(text, letter):\n",
    "    counter = 0\n",
    "    for char in text:\n",
    "        if char == letter:\n",
    "            counter += 1\n",
    "    print('Number of', letter, 'is', counter)"
   ]
  },
  {
   "cell_type": "code",
   "execution_count": 212,
   "id": "19b51020-04f6-48c7-bed3-00b7d8425101",
   "metadata": {},
   "outputs": [
    {
     "name": "stdout",
     "output_type": "stream",
     "text": [
      "Number of a is 2\n"
     ]
    }
   ],
   "source": [
    "print_letter_count('People say nothing is impossible, but I do nothing every day.', 'a')"
   ]
  },
  {
   "cell_type": "code",
   "execution_count": 215,
   "id": "d23315ba-9c35-4396-b5df-4f706cef6c45",
   "metadata": {},
   "outputs": [
    {
     "name": "stdout",
     "output_type": "stream",
     "text": [
      "Number of People say nothing is impossible, but I do nothing every day. is 0\n"
     ]
    }
   ],
   "source": [
    "print_letter_count('e', 'People say nothing is impossible, but I do nothing every day.')"
   ]
  },
  {
   "cell_type": "code",
   "execution_count": 216,
   "id": "f584ed6c-a299-4179-bbf4-19f9f7729e0f",
   "metadata": {},
   "outputs": [
    {
     "name": "stdout",
     "output_type": "stream",
     "text": [
      "Number of e is 2\n"
     ]
    }
   ],
   "source": [
    "print_letter_count(letter='e', text='Welcome')"
   ]
  },
  {
   "cell_type": "code",
   "execution_count": 217,
   "id": "0b9ce348-dcd9-46c3-8e4d-94af99eff262",
   "metadata": {},
   "outputs": [
    {
     "name": "stdout",
     "output_type": "stream",
     "text": [
      "Number of e is 2\n"
     ]
    }
   ],
   "source": [
    "print_letter_count(text='Welcome', letter='e')"
   ]
  },
  {
   "cell_type": "code",
   "execution_count": 226,
   "id": "d490e452-ad65-4688-b26e-354cbd74c600",
   "metadata": {},
   "outputs": [
    {
     "name": "stdout",
     "output_type": "stream",
     "text": [
      "Hello-How are you?"
     ]
    }
   ],
   "source": [
    "print('Hello', 'How are you', end='?', sep='-')"
   ]
  },
  {
   "cell_type": "code",
   "execution_count": 279,
   "id": "323ac41b-5e6b-4afa-a9c9-baf697ce422d",
   "metadata": {},
   "outputs": [],
   "source": [
    "def print_letter_count(text='This is defaault string to search', letter='a'):\n",
    "    counter = 0\n",
    "    for char in text:\n",
    "        if char == letter:\n",
    "            counter += 1\n",
    "    print('Number of', letter, 'is', counter)"
   ]
  },
  {
   "cell_type": "code",
   "execution_count": 272,
   "id": "9e83c2e8-f661-48e9-81dd-d8c83b38beb5",
   "metadata": {},
   "outputs": [
    {
     "name": "stdout",
     "output_type": "stream",
     "text": [
      "Number of a is 2\n"
     ]
    }
   ],
   "source": [
    "print_letter_count('How mny letters a are here?')"
   ]
  },
  {
   "cell_type": "code",
   "execution_count": 274,
   "id": "cecdc389-0ebe-46a1-89ba-9a151a5b94c1",
   "metadata": {},
   "outputs": [
    {
     "name": "stdout",
     "output_type": "stream",
     "text": [
      "Number of a is 3\n"
     ]
    }
   ],
   "source": [
    "print_letter_count()"
   ]
  },
  {
   "cell_type": "code",
   "execution_count": 283,
   "id": "30a2e6c1-c38a-48b3-80c3-5ba897bc6f89",
   "metadata": {},
   "outputs": [
    {
     "name": "stdout",
     "output_type": "stream",
     "text": [
      "Number of a is 2\n"
     ]
    }
   ],
   "source": [
    "print_letter_count('Seaarch here', letter='a')"
   ]
  },
  {
   "cell_type": "code",
   "execution_count": 278,
   "id": "bfa67e30-9933-44d5-b272-42b3a91595d3",
   "metadata": {},
   "outputs": [
    {
     "name": "stdout",
     "output_type": "stream",
     "text": [
      "Number of e is 2\n"
     ]
    }
   ],
   "source": [
    "print_letter_count(letter='e', text='Welcome')"
   ]
  },
  {
   "cell_type": "code",
   "execution_count": 385,
   "id": "fb4cb38e-ab42-48dc-8980-377a0793726c",
   "metadata": {},
   "outputs": [
    {
     "name": "stdout",
     "output_type": "stream",
     "text": [
      "Surprise!!\n",
      "New Surprise!\n",
      "New Surprise!\n"
     ]
    }
   ],
   "source": [
    "def show_truth():\n",
    "    global mysterious_var\n",
    "    mysterious_var = 'New Surprise!'\n",
    "    print(mysterious_var)\n",
    "mysterious_var = 'Surprise!!'\n",
    "print(mysterious_var)\n",
    "show_truth()\n",
    "print(mysterious_var)\n"
   ]
  },
  {
   "cell_type": "code",
   "execution_count": 295,
   "id": "f2dd0e4f-5794-4163-aab0-78926c64ed88",
   "metadata": {},
   "outputs": [
    {
     "name": "stdout",
     "output_type": "stream",
     "text": [
      "['Surprise!']\n",
      "['Surprise!', 'New Surprise!']\n",
      "['Surprise!', 'New Surprise!']\n"
     ]
    }
   ],
   "source": [
    " def show_truth():\n",
    "    #global mysterious_var\n",
    "    mysterious_var.append('New Surprise!')\n",
    "    print(mysterious_var)\n",
    "    \n",
    "mysterious_var = ['Surprise!']\n",
    "print(mysterious_var)\n",
    "show_truth()\n",
    "print(mysterious_var)"
   ]
  },
  {
   "cell_type": "code",
   "execution_count": 296,
   "id": "f8a28e7f-cd6b-4a85-8147-258d3c118eec",
   "metadata": {},
   "outputs": [
    {
     "name": "stdout",
     "output_type": "stream",
     "text": [
      "['Surprise!', 'New Surprise!', 'New Surprise!']\n"
     ]
    }
   ],
   "source": [
    "show_truth()"
   ]
  },
  {
   "cell_type": "code",
   "execution_count": 297,
   "id": "1c64df86-df66-45d4-9e2b-7cd8cd5dd80a",
   "metadata": {},
   "outputs": [
    {
     "name": "stdin",
     "output_type": "stream",
     "text": [
      "what is number 5\n"
     ]
    }
   ],
   "source": [
    "number = input('what is number')"
   ]
  },
  {
   "cell_type": "code",
   "execution_count": 298,
   "id": "e3a1f278-8a5c-4b43-8ae0-47e77f18e94f",
   "metadata": {},
   "outputs": [
    {
     "name": "stdout",
     "output_type": "stream",
     "text": [
      "5\n"
     ]
    }
   ],
   "source": [
    "print(number)"
   ]
  },
  {
   "cell_type": "code",
   "execution_count": 299,
   "id": "34ce46d0-f3fa-45f9-83d5-9d20823cbab7",
   "metadata": {},
   "outputs": [
    {
     "name": "stdout",
     "output_type": "stream",
     "text": [
      "Hello World\n",
      "None\n"
     ]
    }
   ],
   "source": [
    "print_return = print('Hello World')\n",
    "print(print_return)"
   ]
  },
  {
   "cell_type": "code",
   "execution_count": 300,
   "id": "ce97a351-e8b4-4caf-a833-e5e4ff160f20",
   "metadata": {},
   "outputs": [
    {
     "name": "stdout",
     "output_type": "stream",
     "text": [
      "None is not True, or False, None is just None\n"
     ]
    }
   ],
   "source": [
    "x = None\n",
    "\n",
    "if x:\n",
    "    print(\"None is True\")\n",
    "elif x is False:\n",
    "    print(\"None is False\")\n",
    "else:\n",
    "    print(\"None is not True, or False, None is just None\")"
   ]
  },
  {
   "cell_type": "code",
   "execution_count": 301,
   "id": "8f2c09ed-ecd4-4cb0-8cc2-803fd2967453",
   "metadata": {},
   "outputs": [
    {
     "name": "stdout",
     "output_type": "stream",
     "text": [
      "yes\n",
      "it does\n"
     ]
    }
   ],
   "source": [
    "x = None\n",
    "if x is None:\n",
    "    print('yes')\n",
    "if x == None:\n",
    "    print('it does')"
   ]
  },
  {
   "cell_type": "code",
   "execution_count": 302,
   "id": "f90d19dd-9658-4227-8037-2d62c3427096",
   "metadata": {},
   "outputs": [
    {
     "name": "stdout",
     "output_type": "stream",
     "text": [
      "hello\n",
      "None\n"
     ]
    }
   ],
   "source": [
    "def greet():\n",
    "    print('hello')\n",
    "x = greet()\n",
    "print(x)"
   ]
  },
  {
   "cell_type": "code",
   "execution_count": 318,
   "id": "c13ea21f-3df4-4da8-8f7e-7e3350400d4d",
   "metadata": {},
   "outputs": [
    {
     "data": {
      "text/plain": [
       "2.0"
      ]
     },
     "execution_count": 318,
     "metadata": {},
     "output_type": "execute_result"
    }
   ],
   "source": [
    "def get_average(input_numbers):\n",
    "    sum = 0.0\n",
    "    for number in input_numbers:\n",
    "        sum += number\n",
    "    average = sum / len(input_numbers)\n",
    "    return average\n",
    "get_average([2])"
   ]
  },
  {
   "cell_type": "code",
   "execution_count": 310,
   "id": "98caf9f8-2618-48cd-8f67-86c5ff9cc6ae",
   "metadata": {},
   "outputs": [
    {
     "name": "stdout",
     "output_type": "stream",
     "text": [
      "The avrage is:  7.24\n"
     ]
    }
   ],
   "source": [
    "print ('The avrage is: ', get_average([5.0, 3.5, 7.8, 9.9, 10.0]))"
   ]
  },
  {
   "cell_type": "code",
   "execution_count": 317,
   "id": "c676421f-be26-45f5-b045-bd936989ce16",
   "metadata": {},
   "outputs": [
    {
     "name": "stdout",
     "output_type": "stream",
     "text": [
      "The average is too high\n"
     ]
    }
   ],
   "source": [
    "average = get_average([5.0, 3.5, 7.8, 9.9, 10.0])\n",
    "if average > 5.0:\n",
    "    print('The average is too high')\n",
    "else:\n",
    "    print('The average is ok')"
   ]
  },
  {
   "cell_type": "code",
   "execution_count": 330,
   "id": "cc8aecea-c2ee-4f6b-83fc-2e83bf5eff45",
   "metadata": {},
   "outputs": [],
   "source": [
    "def is_first_last_equal(number_list):\n",
    "    if len(number_list) == 0:\n",
    "        return\n",
    "    if (number_list[0] == number_list[-1]):\n",
    "        return True\n",
    "    else:\n",
    "        return False"
   ]
  },
  {
   "cell_type": "code",
   "execution_count": 326,
   "id": "47f96ea0-7a4b-42e9-ae1a-ed2ce4aeab35",
   "metadata": {},
   "outputs": [
    {
     "name": "stdout",
     "output_type": "stream",
     "text": [
      "True\n"
     ]
    }
   ],
   "source": [
    "print(is_first_last_equal([10, 20, 30, 40, 10]))"
   ]
  },
  {
   "cell_type": "code",
   "execution_count": 327,
   "id": "81ba0ede-b73f-41b4-9a71-1cb43b81d79b",
   "metadata": {},
   "outputs": [
    {
     "name": "stdout",
     "output_type": "stream",
     "text": [
      "False\n"
     ]
    }
   ],
   "source": [
    "print(is_first_last_equal([10, 20, 30, 40, 50]))"
   ]
  },
  {
   "cell_type": "code",
   "execution_count": 331,
   "id": "cb9e43d9-6d80-4f74-abf4-29ef56af6429",
   "metadata": {},
   "outputs": [
    {
     "name": "stdout",
     "output_type": "stream",
     "text": [
      "None\n"
     ]
    }
   ],
   "source": [
    "print(is_first_last_equal([]))"
   ]
  },
  {
   "cell_type": "code",
   "execution_count": null,
   "id": "b0d5d6b7-f2e3-4eca-99e4-f2d2ca3dd0b3",
   "metadata": {},
   "outputs": [],
   "source": []
  },
  {
   "cell_type": "code",
   "execution_count": 353,
   "id": "9ddf57c7-cd5c-42e4-8b7e-441c86c44514",
   "metadata": {},
   "outputs": [],
   "source": [
    "#num_unique  = ([1, 1, 4, 5, 1])\n",
    "#text_unique = (['Mark', 'Mark', 'John', 'Anne'])\n",
    "\n",
    "def unique(input_list=[]):\n",
    "  to_return = []\n",
    "  for el in input_list:\n",
    "    if el not in to_return:\n",
    "      to_return.append(el)\n",
    "  return to_return"
   ]
  },
  {
   "cell_type": "code",
   "execution_count": 355,
   "id": "75d4621e-7a0b-4a74-8558-45940c3cee97",
   "metadata": {},
   "outputs": [
    {
     "name": "stdout",
     "output_type": "stream",
     "text": [
      "['Mark', 'John', 'Anne']\n"
     ]
    }
   ],
   "source": [
    "print(unique(['Mark', 'Mark', 'John', 'Anne']))"
   ]
  },
  {
   "cell_type": "code",
   "execution_count": 356,
   "id": "e55a9c1c-487b-4db4-9901-1f9db588217c",
   "metadata": {},
   "outputs": [
    {
     "name": "stdout",
     "output_type": "stream",
     "text": [
      "[1, 4, 5]\n"
     ]
    }
   ],
   "source": [
    "print(unique([1, 1, 4, 5, 1]))"
   ]
  },
  {
   "cell_type": "code",
   "execution_count": 358,
   "id": "9ee19cb5-25b2-46bd-9dc7-420b3e045ef6",
   "metadata": {},
   "outputs": [],
   "source": [
    "def get_factorial(number):\n",
    "    factorial = 1\n",
    "    for x in range(1, number +1):\n",
    "        factorial *= x\n",
    "    return factorial"
   ]
  },
  {
   "cell_type": "code",
   "execution_count": 360,
   "id": "bbb5e5fb-592e-41ba-b476-f0a115d4f512",
   "metadata": {},
   "outputs": [
    {
     "name": "stdout",
     "output_type": "stream",
     "text": [
      "120\n"
     ]
    }
   ],
   "source": [
    "print(get_factorial(5))"
   ]
  },
  {
   "cell_type": "code",
   "execution_count": 384,
   "id": "a77326a0-3621-485e-a355-77a60176c257",
   "metadata": {},
   "outputs": [
    {
     "name": "stdout",
     "output_type": "stream",
     "text": [
      "0\n",
      "1\n",
      "2\n",
      "3\n",
      "0\n",
      "1\n",
      "2\n",
      "3\n",
      "[0, 1, 2, 3]\n"
     ]
    },
    {
     "ename": "NameError",
     "evalue": "name 'Indent' is not defined",
     "output_type": "error",
     "traceback": [
      "\u001B[0;31m---------------------------------------------------------------------------\u001B[0m",
      "\u001B[0;31mNameError\u001B[0m                                 Traceback (most recent call last)",
      "\u001B[0;32m/var/folders/p6/7q961yb17fs5smkgyy230wp80000gp/T/ipykernel_25316/1005627911.py\u001B[0m in \u001B[0;36m<module>\u001B[0;34m\u001B[0m\n\u001B[1;32m     14\u001B[0m \u001B[0mprint\u001B[0m\u001B[0;34m(\u001B[0m\u001B[0mnumber\u001B[0m\u001B[0;34m)\u001B[0m\u001B[0;34m\u001B[0m\u001B[0;34m\u001B[0m\u001B[0m\n\u001B[1;32m     15\u001B[0m \u001B[0;34m\u001B[0m\u001B[0m\n\u001B[0;32m---> 16\u001B[0;31m \u001B[0mIndent\u001B[0m\u001B[0;34m\u001B[0m\u001B[0;34m\u001B[0m\u001B[0m\n\u001B[0m",
      "\u001B[0;31mNameError\u001B[0m: name 'Indent' is not defined"
     ]
    }
   ],
   "source": [
    "def get_number():\n",
    "    for i in range(4):\n",
    "        yield i\n",
    "generator = get_number()\n",
    "print(next(generator))\n",
    "print(next(generator))\n",
    "print(next(generator))\n",
    "print(next(generator))\n",
    "\n",
    "for x in get_number():\n",
    "    print(x)\n",
    "    \n",
    "number = list(get_number())\n",
    "print(number)\n",
    "\n",
    "Indent"
   ]
  },
  {
   "cell_type": "code",
   "execution_count": 376,
   "id": "6efcdda7-e6c9-4cac-9d47-a213c4d6e97e",
   "metadata": {},
   "outputs": [
    {
     "name": "stdout",
     "output_type": "stream",
     "text": [
      "1\n",
      "2\n",
      "3\n"
     ]
    }
   ],
   "source": [
    "for x in get_number():\n",
    "    print(x)"
   ]
  },
  {
   "cell_type": "code",
   "execution_count": 377,
   "id": "3a000873-a4b3-4a91-a326-0a2083c493c4",
   "metadata": {},
   "outputs": [
    {
     "name": "stdout",
     "output_type": "stream",
     "text": [
      "[1, 2, 3]\n"
     ]
    }
   ],
   "source": [
    "number = list(get_number())\n",
    "print(number)"
   ]
  },
  {
   "cell_type": "code",
   "execution_count": 379,
   "id": "7f8b68bd-0abb-40c9-b0a7-af330e3d747c",
   "metadata": {},
   "outputs": [
    {
     "ename": "IndentationError",
     "evalue": "expected an indented block (2872381456.py, line 2)",
     "output_type": "error",
     "traceback": [
      "\u001B[0;36m  File \u001B[0;32m\"/var/folders/p6/7q961yb17fs5smkgyy230wp80000gp/T/ipykernel_25316/2872381456.py\"\u001B[0;36m, line \u001B[0;32m2\u001B[0m\n\u001B[0;31m    print('hooray!')\u001B[0m\n\u001B[0m    ^\u001B[0m\n\u001B[0;31mIndentationError\u001B[0m\u001B[0;31m:\u001B[0m expected an indented block\n"
     ]
    }
   ],
   "source": [
    "if True:\n",
    "print('hooray!')"
   ]
  },
  {
   "cell_type": "code",
   "execution_count": 380,
   "id": "821eb76f-9494-4013-a85d-d19f014cb464",
   "metadata": {},
   "outputs": [
    {
     "ename": "SyntaxError",
     "evalue": "illegal target for annotation (1285277903.py, line 2)",
     "output_type": "error",
     "traceback": [
      "\u001B[0;36m  File \u001B[0;32m\"/var/folders/p6/7q961yb17fs5smkgyy230wp80000gp/T/ipykernel_25316/1285277903.py\"\u001B[0;36m, line \u001B[0;32m2\u001B[0m\n\u001B[0;31m    5:4 # this line generates a SyntaxError\u001B[0m\n\u001B[0m    ^\u001B[0m\n\u001B[0;31mSyntaxError\u001B[0m\u001B[0;31m:\u001B[0m illegal target for annotation\n"
     ]
    }
   ],
   "source": [
    "try:\n",
    "  5:4 # this line generates a SyntaxError\n",
    "except:\n",
    "  print('Got it!') # SyntaxError is NOT caught here"
   ]
  },
  {
   "cell_type": "code",
   "execution_count": 381,
   "id": "13ed8954-e684-4b11-baa1-9186e314a95a",
   "metadata": {},
   "outputs": [
    {
     "name": "stdout",
     "output_type": "stream",
     "text": [
      "0-1-0-1-0-1-0-1-0-1-"
     ]
    }
   ],
   "source": [
    "def numerical():\n",
    "  for i in range(10):\n",
    "    yield i%2\n",
    " \n",
    "for x in numerical():\n",
    "  print(x, end='-')"
   ]
  },
  {
   "cell_type": "code",
   "execution_count": 382,
   "id": "b400d217-bab4-4b19-bafc-035742d4e897",
   "metadata": {},
   "outputs": [
    {
     "name": "stdout",
     "output_type": "stream",
     "text": [
      "ex\n"
     ]
    }
   ],
   "source": [
    "def my_fun(x):\n",
    "  try:\n",
    "    return x / x\n",
    "  except:\n",
    "    print('ex')\n",
    " \n",
    "my_fun(1)\n",
    "my_fun(0)"
   ]
  },
  {
   "cell_type": "code",
   "execution_count": 383,
   "id": "e87761f7-7ccc-406e-ae47-67b6b97b2a24",
   "metadata": {},
   "outputs": [
    {
     "name": "stdout",
     "output_type": "stream",
     "text": [
      "['black', 'white', 'green', 'orange']\n"
     ]
    }
   ],
   "source": [
    "def func(mylist):\n",
    "    mylist[2]='green'\n",
    " \n",
    "lst = ['black', 'white', 'red', 'orange']\n",
    "func(lst)\n",
    "print(lst)"
   ]
  },
  {
   "cell_type": "code",
   "execution_count": 392,
   "id": "c9709fd6-21bb-453c-9389-8dc97bcb51fe",
   "metadata": {},
   "outputs": [
    {
     "name": "stdout",
     "output_type": "stream",
     "text": [
      "Hello World\n"
     ]
    }
   ],
   "source": [
    "txt = \" Hello World \"\n",
    "x = txt.strip()\n",
    "print(x)"
   ]
  },
  {
   "cell_type": "code",
   "execution_count": 388,
   "id": "83985f94-e6f6-43bc-a30f-88b1a155332c",
   "metadata": {},
   "outputs": [
    {
     "name": "stdout",
     "output_type": "stream",
     "text": [
      " Hello World \n"
     ]
    }
   ],
   "source": [
    "txt = \" Hello World \"\n",
    "print(txt)"
   ]
  },
  {
   "cell_type": "code",
   "execution_count": 393,
   "id": "7ff9edb0-636e-4372-aa16-85055f86c18e",
   "metadata": {},
   "outputs": [
    {
     "name": "stdout",
     "output_type": "stream",
     "text": [
      "My name is John, and I am 36\n"
     ]
    }
   ],
   "source": [
    "age = 36\n",
    "txt = \"My name is John, and I am {}\"\n",
    "print(txt.format(age))"
   ]
  },
  {
   "cell_type": "code",
   "execution_count": 394,
   "id": "0d4587dc-0b7d-40df-bf49-c2adf2306696",
   "metadata": {},
   "outputs": [
    {
     "name": "stdout",
     "output_type": "stream",
     "text": [
      "True\n"
     ]
    }
   ],
   "source": [
    "print(10 > 9)"
   ]
  },
  {
   "cell_type": "code",
   "execution_count": 395,
   "id": "1c9f5bd4-8215-48c8-b0b8-a7c904fb15dd",
   "metadata": {},
   "outputs": [
    {
     "name": "stdout",
     "output_type": "stream",
     "text": [
      "True\n"
     ]
    }
   ],
   "source": [
    "print(bool(\"abc\")) -- Nata"
   ]
  },
  {
   "cell_type": "code",
   "execution_count": 401,
   "id": "91f62eb8-ff9b-4094-9422-9a9ac24f638f",
   "metadata": {},
   "outputs": [
    {
     "name": "stdout",
     "output_type": "stream",
     "text": [
      "**#\n"
     ]
    }
   ],
   "source": [
    "for i in range(1,3):\n",
    "    print(\"*\",end=\"\")\n",
    "\n",
    "print(\"#\")"
   ]
  },
  {
   "cell_type": "code",
   "execution_count": 402,
   "id": "e06dcd0c-1c74-4eaa-b093-95f2139f0d0d",
   "metadata": {},
   "outputs": [
    {
     "name": "stdout",
     "output_type": "stream",
     "text": [
      "[0]\n",
      "[0]\n"
     ]
    }
   ],
   "source": [
    "a=[1]\n",
    "b=a\n",
    "a[0]=0\n",
    "print(a)\n",
    "print(b)"
   ]
  },
  {
   "cell_type": "code",
   "execution_count": 413,
   "id": "ddb1bad9-9e11-4a5f-9e6e-25f4130e7b7a",
   "metadata": {},
   "outputs": [
    {
     "name": "stdout",
     "output_type": "stream",
     "text": [
      "2\n"
     ]
    }
   ],
   "source": [
    "s = 'abc'\n",
    "print(len(['abc', 'asd']))"
   ]
  },
  {
   "cell_type": "code",
   "execution_count": 417,
   "id": "b1d949f0-210f-4e00-984b-61191b86dae4",
   "metadata": {},
   "outputs": [
    {
     "name": "stdout",
     "output_type": "stream",
     "text": [
      "['A', 'b', 'c']\n"
     ]
    }
   ],
   "source": [
    "s = ['a','b','c']\n",
    "s[0] = s[0].upper()\n",
    "print(s)"
   ]
  },
  {
   "cell_type": "code",
   "execution_count": 419,
   "id": "cc80cb68-8870-4c51-ac65-94e03f129402",
   "metadata": {},
   "outputs": [
    {
     "ename": "SyntaxError",
     "evalue": "invalid syntax (1301382991.py, line 1)",
     "output_type": "error",
     "traceback": [
      "\u001B[0;36m  File \u001B[0;32m\"/var/folders/p6/7q961yb17fs5smkgyy230wp80000gp/T/ipykernel_25316/1301382991.py\"\u001B[0;36m, line \u001B[0;32m1\u001B[0m\n\u001B[0;31m    for i = 5:\u001B[0m\n\u001B[0m          ^\u001B[0m\n\u001B[0;31mSyntaxError\u001B[0m\u001B[0;31m:\u001B[0m invalid syntax\n"
     ]
    }
   ],
   "source": [
    "for i = 5:\n",
    "    3 + "
   ]
  },
  {
   "cell_type": "code",
   "execution_count": 434,
   "id": "02e66db8-4ae3-4691-b911-6f683ec34657",
   "metadata": {},
   "outputs": [
    {
     "name": "stdout",
     "output_type": "stream",
     "text": [
      "one\n",
      "two\n"
     ]
    }
   ],
   "source": [
    "x = 1\n",
    "y = 1.0\n",
    "z = \"1\"\n",
    "\n",
    "if x == y:\n",
    "    print(\"one\")\n",
    "if y == int(z):\n",
    "    print(\"two\")\n",
    "elif x == y:\n",
    "    print(\"three\")\n",
    "else:\n",
    "    print(\"four\")"
   ]
  },
  {
   "cell_type": "code",
   "execution_count": 436,
   "id": "0a8b5bb8-ec99-49df-8ddd-16e1ca4af7a9",
   "metadata": {},
   "outputs": [
    {
     "name": "stdout",
     "output_type": "stream",
     "text": [
      "two\n"
     ]
    }
   ],
   "source": [
    "x = 1\n",
    "y = 1.0\n",
    "z = \"1\"\n",
    "\n",
    "if y == int(z):\n",
    "    print(\"two\")\n",
    "elif x == y:\n",
    "    print(\"three\")\n",
    "else:\n",
    "    print(\"four\")"
   ]
  },
  {
   "cell_type": "code",
   "execution_count": null,
   "id": "fd100fc5-c5bb-4b4c-84e0-c49af0af5c18",
   "metadata": {},
   "outputs": [],
   "source": []
  }
 ],
 "metadata": {
  "kernelspec": {
   "display_name": "Python 3 (ipykernel)",
   "language": "python",
   "name": "python3"
  },
  "language_info": {
   "codemirror_mode": {
    "name": "ipython",
    "version": 3
   },
   "file_extension": ".py",
   "mimetype": "text/x-python",
   "name": "python",
   "nbconvert_exporter": "python",
   "pygments_lexer": "ipython3",
   "version": "3.9.13"
  }
 },
 "nbformat": 4,
 "nbformat_minor": 5
}
