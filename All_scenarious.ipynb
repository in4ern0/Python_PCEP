{
 "cells": [
  {
   "cell_type": "code",
   "execution_count": 454,
   "metadata": {},
   "outputs": [
    {
     "ename": "SyntaxError",
     "evalue": "cannot assign to literal (3905029136.py, line 1)",
     "output_type": "error",
     "traceback": [
      "\u001b[0;36m  File \u001b[0;32m\"/var/folders/p6/7q961yb17fs5smkgyy230wp80000gp/T/ipykernel_70146/3905029136.py\"\u001b[0;36m, line \u001b[0;32m1\u001b[0m\n\u001b[0;31m    3e4 = 3 * 10000\u001b[0m\n\u001b[0m    ^\u001b[0m\n\u001b[0;31mSyntaxError\u001b[0m\u001b[0;31m:\u001b[0m cannot assign to literal\n"
     ]
    }
   ],
   "source": [
    "3e4 = 3 * 10000\n",
    "3e-4 = 3 * 1/10000\n",
    "print(0o123) # octal - 83\n",
    "print(0x123) # hexadecimal  - 291\n",
    "/ #standart division - float qaytarir\n",
    "// # integer division 2 // 5 = 0 ozunden yuxariya bolende 0 olur\n",
    "% # modulus devision - tam bolunursa 0\n",
    "#                 - bolunmurse qalighi gosterecek\n",
    "7 % 16 = 7\n",
    "7 % 20 = 7\n",
    "5 % 10 = 5\n",
    "20 % 30 = 20\n",
    "\n",
    "# remember\n",
    "1 / 1  = 1.0\n",
    "1 // 2 = 0\n",
    "1 / 2  = 0.3333333333333333\n",
    "1 % 2  = 1\n",
    "2 % 1  = 0\n",
    "3 % 4  = 3 - #  kichik olarsa ilk yeni reqemin ozu qalir\n",
    "3 / 4  = 0.75\n",
    "3 // 4 = 0\n",
    "5 / 0  - # bolmek olmaz(error)\n",
    "2 + 3.0  # 5.0 float qaytaracaq\n",
    "\n",
    "multiplication - vurma\n",
    "# addition and subtraction\n",
    "print(2 + 7)\n",
    "print(3 - 8)\n",
    "# numeric operators\n",
    "# exponentiation - quvvete yukseltme\n",
    "2 ** 10 - 2ustu10 demekdir # \n",
    "\n",
    "age *= 2 # age-nedirse onu 2-ye vurursan\n",
    "age += 2 # eynile +2\n",
    "age /+ 2 # eynile bol 2-ye demekdir\n",
    "# string concatenation = joining strings\n",
    "\n",
    "# input() - always return strings\n",
    "print('23'+'5') # bu zaman string olur reqem kimi gormur\n",
    "\n",
    "2 ** 2 ** 3 - # righ-sided binding - saghdan sola hesablayir\n",
    "\n",
    "# there are six BITWISE operators\n",
    "& - ampersand\n",
    "| - ball\n",
    "~ - tilde\n",
    "^ - carrot\n",
    "<< - left shift\n",
    ">> - right shift\n",
    "\n",
    "and or-dan ustundu 1ci and hesablanir sonra or-a baxilir\n",
    "\n",
    "# 3 types of collections\n",
    "#list\n",
    "#tuples\n",
    "#dictionaries\n",
    "# : - slicing\n",
    "\n",
    "book_ratings = [7, 9, 5, 6, 8]\n",
    "book_ratings.append(4)         - # listde hemishe axira add edir\n",
    "print(book_ratings)\n",
    "\n",
    "book_ratings = [7, 9, 5, 6, 8]\n",
    "book_ratings.insert(1, 4)      - # listde [0,1] 1-ci index-e 4-u elave ele\n",
    "print(book_ratings)\n",
    "\n",
    "top_cities = ['New York City', 'Los Angeles', 'Chicago', 'Houston', 'Phoenix']\n",
    "print(sorted(top_cities)) # keeps original list\n",
    "print(top_cities)\n",
    "\n",
    "list_original = [1, 2, 3]\n",
    "list_new = list_original[:]   # For keep original list add slicing [:]\n",
    "list_original[0] = -5\n",
    "print('Original:', list_original, '\\nNew', list_new)\n",
    "\n",
    "tuple and strings are immutable # cannot delete and add\n",
    "list are mutable # \n",
    "\n",
    "spanish_animals = {\n",
    "    'dog': 'el perro',\n",
    "    'cat': 'el gato',\n",
    "    'horse': 'el caballo',\n",
    "    'bird': 'el pájaro',\n",
    "    'bird': 'el ave'\n",
    "     }\n",
    "print(spanish_animals['el perro'])  - # bu formada vere bilmersen, ilk key: gostermelisen value almaq uchun.\n",
    "\n",
    "#factorial\n",
    "# 3! = 1 * 2 * 3 = 6\n",
    "# 5% = 1 * 2 * 3 * 4 * 5 = 120\n",
    "1! = 1\n",
    "2! = 2 * 1!\n",
    "3! = 3 * 2!\n",
    "4! = 4 * 3!\n",
    "5! = 5 * 4!\n",
    "\n",
    "# Generator\n",
    "def get_number(): \n",
    "    for i in range(1, 4):\n",
    "        yield i\n",
    "generator = get_number()\n",
    "print(next(generator))\n",
    "print(next(generator))\n",
    "print(next(generator))\n",
    "print(next(generator))\n",
    "\n",
    "for x in get_number():\n",
    "    print(x)\n",
    "    \n",
    "number = list(get_number())\n",
    "print(number)\n",
    "\n",
    "####. IndentationError: is a type of SyntaxError\n",
    "####. IndexError: list index out of range ( range-den yuxari reqem ve ya olmayan nese yazanda\n",
    "\n",
    "assert - using for debbuging and documenting your code\n",
    "\n",
    "The backslash (\\) has a very special meaning when used inside strings - this is called the escape character.\n",
    "\n",
    "positional parametr is --- position\n",
    "litterals  -- herfler\n",
    "keyword parametr -- "
   ]
  },
  {
   "cell_type": "code",
   "execution_count": 75,
   "metadata": {},
   "outputs": [
    {
     "name": "stdout",
     "output_type": "stream",
     "text": [
      "Hello, Wolrd\n"
     ]
    }
   ],
   "source": [
    "print('Hello, Wolrd')"
   ]
  },
  {
   "cell_type": "code",
   "execution_count": 8,
   "metadata": {},
   "outputs": [
    {
     "name": "stdout",
     "output_type": "stream",
     "text": [
      "I'm\n",
      "studinyg\n",
      "\n",
      "and having fun\n"
     ]
    }
   ],
   "source": [
    "print('I\\'m\\nstudinyg')\n",
    "print()\n",
    "print('and having fun')"
   ]
  },
  {
   "cell_type": "code",
   "execution_count": 14,
   "metadata": {},
   "outputs": [
    {
     "name": "stdout",
     "output_type": "stream",
     "text": [
      "I'm studying python and having fun\n"
     ]
    }
   ],
   "source": [
    "print('I\\'m studying python','and having fun')"
   ]
  },
  {
   "cell_type": "code",
   "execution_count": 16,
   "metadata": {},
   "outputs": [
    {
     "name": "stdout",
     "output_type": "stream",
     "text": [
      "I'm studying\n",
      "python\n"
     ]
    }
   ],
   "source": [
    "print('I\\'m studying\\npython')"
   ]
  },
  {
   "cell_type": "code",
   "execution_count": 19,
   "metadata": {},
   "outputs": [
    {
     "name": "stdout",
     "output_type": "stream",
     "text": [
      "Hello Friend!\n",
      "Hi, everybody\n"
     ]
    }
   ],
   "source": [
    "greeting = 'Hello Friend!'\n",
    "print(greeting)\n",
    "greeting = 'Hi, everybody'\n",
    "print(greeting)"
   ]
  },
  {
   "cell_type": "code",
   "execution_count": 20,
   "metadata": {},
   "outputs": [
    {
     "data": {
      "text/plain": [
       "'Hi, everybody'"
      ]
     },
     "execution_count": 20,
     "metadata": {},
     "output_type": "execute_result"
    }
   ],
   "source": [
    "greeting\n",
    "Greeting"
   ]
  },
  {
   "cell_type": "code",
   "execution_count": 21,
   "metadata": {},
   "outputs": [
    {
     "ename": "SyntaxError",
     "evalue": "invalid syntax (2721849276.py, line 1)",
     "output_type": "error",
     "traceback": [
      "\u001b[0;36m  File \u001b[0;32m\"/var/folders/p6/7q961yb17fs5smkgyy230wp80000gp/T/ipykernel_25617/2721849276.py\"\u001b[0;36m, line \u001b[0;32m1\u001b[0m\n\u001b[0;31m    from = 'aa'\u001b[0m\n\u001b[0m         ^\u001b[0m\n\u001b[0;31mSyntaxError\u001b[0m\u001b[0;31m:\u001b[0m invalid syntax\n"
     ]
    }
   ],
   "source": [
    "from = 'aa'"
   ]
  },
  {
   "cell_type": "code",
   "execution_count": 22,
   "metadata": {},
   "outputs": [],
   "source": [
    "greeting = 'Hello friend'"
   ]
  },
  {
   "cell_type": "code",
   "execution_count": 23,
   "metadata": {},
   "outputs": [],
   "source": [
    "age = 35"
   ]
  },
  {
   "cell_type": "code",
   "execution_count": 24,
   "metadata": {},
   "outputs": [],
   "source": [
    "speed = 4.5\n",
    "speed2 = 4.0\n",
    "speed3 = 4. # 4.0\n",
    "speed4 = 4\n"
   ]
  },
  {
   "cell_type": "code",
   "execution_count": 25,
   "metadata": {},
   "outputs": [],
   "source": [
    "am_i_ugly = True"
   ]
  },
  {
   "cell_type": "code",
   "execution_count": 26,
   "metadata": {},
   "outputs": [
    {
     "data": {
      "text/plain": [
       "12000300"
      ]
     },
     "execution_count": 26,
     "metadata": {},
     "output_type": "execute_result"
    }
   ],
   "source": [
    "1200030\n",
    "12_000_300"
   ]
  },
  {
   "cell_type": "code",
   "execution_count": 61,
   "metadata": {},
   "outputs": [
    {
     "data": {
      "text/plain": [
       "8"
      ]
     },
     "execution_count": 61,
     "metadata": {},
     "output_type": "execute_result"
    }
   ],
   "source": [
    "# power operator\n",
    "2 ** 3"
   ]
  },
  {
   "cell_type": "code",
   "execution_count": 56,
   "metadata": {},
   "outputs": [
    {
     "data": {
      "text/plain": [
       "3"
      ]
     },
     "execution_count": 56,
     "metadata": {},
     "output_type": "execute_result"
    }
   ],
   "source": [
    "6 //2"
   ]
  },
  {
   "cell_type": "code",
   "execution_count": 58,
   "metadata": {},
   "outputs": [
    {
     "data": {
      "text/plain": [
       "3"
      ]
     },
     "execution_count": 58,
     "metadata": {},
     "output_type": "execute_result"
    }
   ],
   "source": [
    "7 // 2"
   ]
  },
  {
   "cell_type": "code",
   "execution_count": 466,
   "metadata": {},
   "outputs": [
    {
     "data": {
      "text/plain": [
       "1"
      ]
     },
     "execution_count": 466,
     "metadata": {},
     "output_type": "execute_result"
    }
   ],
   "source": [
    "2 // 2"
   ]
  },
  {
   "cell_type": "code",
   "execution_count": 68,
   "metadata": {},
   "outputs": [
    {
     "data": {
      "text/plain": [
       "0"
      ]
     },
     "execution_count": 68,
     "metadata": {},
     "output_type": "execute_result"
    }
   ],
   "source": [
    "1//3"
   ]
  },
  {
   "cell_type": "code",
   "execution_count": 472,
   "metadata": {},
   "outputs": [
    {
     "data": {
      "text/plain": [
       "8.0"
      ]
     },
     "execution_count": 472,
     "metadata": {},
     "output_type": "execute_result"
    }
   ],
   "source": [
    "4 // 0.5"
   ]
  },
  {
   "cell_type": "code",
   "execution_count": 79,
   "metadata": {},
   "outputs": [
    {
     "data": {
      "text/plain": [
       "0.75"
      ]
     },
     "execution_count": 79,
     "metadata": {},
     "output_type": "execute_result"
    }
   ],
   "source": [
    "3 / 4 "
   ]
  },
  {
   "cell_type": "code",
   "execution_count": 473,
   "metadata": {},
   "outputs": [
    {
     "data": {
      "text/plain": [
       "0"
      ]
     },
     "execution_count": 473,
     "metadata": {},
     "output_type": "execute_result"
    }
   ],
   "source": [
    "3 // 4"
   ]
  },
  {
   "cell_type": "code",
   "execution_count": 81,
   "metadata": {},
   "outputs": [
    {
     "data": {
      "text/plain": [
       "3"
      ]
     },
     "execution_count": 81,
     "metadata": {},
     "output_type": "execute_result"
    }
   ],
   "source": [
    "3 % 4"
   ]
  },
  {
   "cell_type": "code",
   "execution_count": 67,
   "metadata": {},
   "outputs": [
    {
     "data": {
      "text/plain": [
       "0.3333333333333333"
      ]
     },
     "execution_count": 67,
     "metadata": {},
     "output_type": "execute_result"
    }
   ],
   "source": [
    "1/3"
   ]
  },
  {
   "cell_type": "code",
   "execution_count": 65,
   "metadata": {},
   "outputs": [
    {
     "data": {
      "text/plain": [
       "3.0"
      ]
     },
     "execution_count": 65,
     "metadata": {},
     "output_type": "execute_result"
    }
   ],
   "source": [
    "6 / 2"
   ]
  },
  {
   "cell_type": "code",
   "execution_count": 59,
   "metadata": {},
   "outputs": [
    {
     "data": {
      "text/plain": [
       "0"
      ]
     },
     "execution_count": 59,
     "metadata": {},
     "output_type": "execute_result"
    }
   ],
   "source": [
    "6 % 2 "
   ]
  },
  {
   "cell_type": "code",
   "execution_count": 60,
   "metadata": {},
   "outputs": [
    {
     "data": {
      "text/plain": [
       "1"
      ]
     },
     "execution_count": 60,
     "metadata": {},
     "output_type": "execute_result"
    }
   ],
   "source": [
    "7 %2"
   ]
  },
  {
   "cell_type": "code",
   "execution_count": 72,
   "metadata": {},
   "outputs": [
    {
     "data": {
      "text/plain": [
       "0"
      ]
     },
     "execution_count": 72,
     "metadata": {},
     "output_type": "execute_result"
    }
   ],
   "source": [
    "13 % 1"
   ]
  },
  {
   "cell_type": "code",
   "execution_count": 73,
   "metadata": {},
   "outputs": [
    {
     "data": {
      "text/plain": [
       "0"
      ]
     },
     "execution_count": 73,
     "metadata": {},
     "output_type": "execute_result"
    }
   ],
   "source": [
    "2 % 1"
   ]
  },
  {
   "cell_type": "code",
   "execution_count": 70,
   "metadata": {},
   "outputs": [
    {
     "data": {
      "text/plain": [
       "1"
      ]
     },
     "execution_count": 70,
     "metadata": {},
     "output_type": "execute_result"
    }
   ],
   "source": [
    "1 % 7"
   ]
  },
  {
   "cell_type": "code",
   "execution_count": 34,
   "metadata": {},
   "outputs": [
    {
     "data": {
      "text/plain": [
       "8"
      ]
     },
     "execution_count": 34,
     "metadata": {},
     "output_type": "execute_result"
    }
   ],
   "source": [
    "2**3 "
   ]
  },
  {
   "cell_type": "code",
   "execution_count": 33,
   "metadata": {},
   "outputs": [
    {
     "ename": "ZeroDivisionError",
     "evalue": "division by zero",
     "output_type": "error",
     "traceback": [
      "\u001b[0;31m---------------------------------------------------------------------------\u001b[0m",
      "\u001b[0;31mZeroDivisionError\u001b[0m                         Traceback (most recent call last)",
      "\u001b[0;32m/var/folders/p6/7q961yb17fs5smkgyy230wp80000gp/T/ipykernel_25617/2219314525.py\u001b[0m in \u001b[0;36m<module>\u001b[0;34m\u001b[0m\n\u001b[0;32m----> 1\u001b[0;31m \u001b[0;36m5\u001b[0m \u001b[0;34m/\u001b[0m \u001b[0;36m0\u001b[0m\u001b[0;34m\u001b[0m\u001b[0;34m\u001b[0m\u001b[0m\n\u001b[0m",
      "\u001b[0;31mZeroDivisionError\u001b[0m: division by zero"
     ]
    }
   ],
   "source": [
    "5 / 0 - bolmek olmaz"
   ]
  },
  {
   "cell_type": "code",
   "execution_count": 35,
   "metadata": {},
   "outputs": [
    {
     "data": {
      "text/plain": [
       "5.0"
      ]
     },
     "execution_count": 35,
     "metadata": {},
     "output_type": "execute_result"
    }
   ],
   "source": [
    "2 + 3.0"
   ]
  },
  {
   "cell_type": "code",
   "execution_count": 36,
   "metadata": {},
   "outputs": [
    {
     "data": {
      "text/plain": [
       "5.0"
      ]
     },
     "execution_count": 36,
     "metadata": {},
     "output_type": "execute_result"
    }
   ],
   "source": [
    "2.0 + 3.0 "
   ]
  },
  {
   "cell_type": "code",
   "execution_count": 471,
   "metadata": {},
   "outputs": [
    {
     "data": {
      "text/plain": [
       "0"
      ]
     },
     "execution_count": 471,
     "metadata": {},
     "output_type": "execute_result"
    }
   ],
   "source": [
    "0 // 5"
   ]
  },
  {
   "cell_type": "code",
   "execution_count": null,
   "metadata": {},
   "outputs": [],
   "source": [
    "# assignments and shortcut operators\n",
    "age = 25\n",
    "age = age + 5\n",
    "age += 5\n",
    "age *= 2"
   ]
  },
  {
   "cell_type": "code",
   "execution_count": 63,
   "metadata": {},
   "outputs": [
    {
     "name": "stdout",
     "output_type": "stream",
     "text": [
      "31\n"
     ]
    }
   ],
   "source": [
    "age = 28\n",
    "age = age + 3\n",
    "print(age)"
   ]
  },
  {
   "cell_type": "code",
   "execution_count": 41,
   "metadata": {},
   "outputs": [
    {
     "name": "stdout",
     "output_type": "stream",
     "text": [
      "31\n"
     ]
    }
   ],
   "source": [
    "age=28\n",
    "age += 3\n",
    "print(age)"
   ]
  },
  {
   "cell_type": "code",
   "execution_count": 44,
   "metadata": {},
   "outputs": [
    {
     "name": "stdout",
     "output_type": "stream",
     "text": [
      "hokuspokus\n"
     ]
    }
   ],
   "source": [
    "# string concatenation = joining strings\n",
    "text = 'hokus' + 'pokus'\n",
    "print(text)"
   ]
  },
  {
   "cell_type": "code",
   "execution_count": 45,
   "metadata": {},
   "outputs": [
    {
     "name": "stdout",
     "output_type": "stream",
     "text": [
      "hokushokushokushokushokus\n"
     ]
    }
   ],
   "source": [
    "print('hokus' * 5)"
   ]
  },
  {
   "cell_type": "code",
   "execution_count": 46,
   "metadata": {},
   "outputs": [
    {
     "name": "stdout",
     "output_type": "stream",
     "text": [
      "28\n"
     ]
    }
   ],
   "source": [
    "print(23+5)"
   ]
  },
  {
   "cell_type": "code",
   "execution_count": 47,
   "metadata": {},
   "outputs": [
    {
     "name": "stdout",
     "output_type": "stream",
     "text": [
      "235\n"
     ]
    }
   ],
   "source": [
    "print('23'+'5') # bu zaman string olur reqem kimi gormur"
   ]
  },
  {
   "cell_type": "code",
   "execution_count": 50,
   "metadata": {},
   "outputs": [
    {
     "name": "stdout",
     "output_type": "stream",
     "text": [
      "What is your name?\n",
      " Ilkin\n",
      "Hello Ilkin\n"
     ]
    }
   ],
   "source": [
    "print('What is your name?')\n",
    "user_name = input()\n",
    "print('Hello', user_name)"
   ]
  },
  {
   "cell_type": "code",
   "execution_count": 55,
   "metadata": {},
   "outputs": [
    {
     "name": "stdout",
     "output_type": "stream",
     "text": [
      " What is your name? 2\n",
      "Hello, 2\n"
     ]
    }
   ],
   "source": [
    "user_name= input(' What is your name?')\n",
    "print('Hello,', user_name )"
   ]
  },
  {
   "cell_type": "code",
   "execution_count": 66,
   "metadata": {},
   "outputs": [
    {
     "name": "stdout",
     "output_type": "stream",
     "text": [
      "Your-first-name-is-John-Welcome!!"
     ]
    }
   ],
   "source": [
    "first_name = 'John'\n",
    "print('Your', 'first', 'name', 'is', first_name, 'Welcome!', sep='-', end='!')"
   ]
  },
  {
   "cell_type": "code",
   "execution_count": 84,
   "metadata": {},
   "outputs": [
    {
     "name": "stdout",
     "output_type": "stream",
     "text": [
      "Do you know the secret password?  afa\n",
      "not correct\n"
     ]
    }
   ],
   "source": [
    "#  available logical operators\n",
    "#\n",
    "#  <  less than\n",
    "#  >  greater than\n",
    "#  <= less than or equal\n",
    "#  >= greater than or equal\n",
    "#  == equals\n",
    "#  != not equals\n",
    "\n",
    "password = input('Do you know the secret password? ')\n",
    "if password != '--secret':\n",
    "    print('not correct')\n",
    "else:\n",
    "    print('correct password')"
   ]
  },
  {
   "cell_type": "code",
   "execution_count": 87,
   "metadata": {},
   "outputs": [
    {
     "name": "stdout",
     "output_type": "stream",
     "text": [
      "Condition met\n"
     ]
    }
   ],
   "source": [
    "if True:\n",
    "    print('Condition met')"
   ]
  },
  {
   "cell_type": "code",
   "execution_count": 89,
   "metadata": {},
   "outputs": [],
   "source": [
    "if False:\n",
    "    print('Condition met')"
   ]
  },
  {
   "cell_type": "code",
   "execution_count": 90,
   "metadata": {},
   "outputs": [
    {
     "name": "stdout",
     "output_type": "stream",
     "text": [
      "true\n"
     ]
    }
   ],
   "source": [
    "if 2 == 2:\n",
    "    print('true')"
   ]
  },
  {
   "cell_type": "code",
   "execution_count": 92,
   "metadata": {},
   "outputs": [],
   "source": [
    "if 1 == 2:\n",
    "    print('true')"
   ]
  },
  {
   "cell_type": "code",
   "execution_count": 93,
   "metadata": {},
   "outputs": [
    {
     "name": "stdout",
     "output_type": "stream",
     "text": [
      "true\n"
     ]
    }
   ],
   "source": [
    "if 2 == 2.0:\n",
    "    print('true')"
   ]
  },
  {
   "cell_type": "code",
   "execution_count": 96,
   "metadata": {},
   "outputs": [
    {
     "name": "stdout",
     "output_type": "stream",
     "text": [
      "What is your age?  24\n",
      "What is your country?  Germany\n",
      "You can apply for a Germany student program\n"
     ]
    }
   ],
   "source": [
    "user_age = int(input('What is your age? '))\n",
    "user_country = input('What is your country? ')\n",
    "\n",
    "if user_age < 25 and user_country == 'Germany':\n",
    "    print('You can apply for a Germany student program')\n",
    "else:\n",
    "    print('Sorry you dont qualify')"
   ]
  },
  {
   "cell_type": "code",
   "execution_count": 112,
   "metadata": {},
   "outputs": [
    {
     "name": "stdout",
     "output_type": "stream",
     "text": [
      "Where do you come from?  Germany\n",
      "you are from Germany\n"
     ]
    }
   ],
   "source": [
    "user_country = input('Where do you come from? ')\n",
    "if not user_country == 'Germany':\n",
    "    print('you are not from Germany')\n",
    "else:\n",
    "    print('you are from Germany')"
   ]
  },
  {
   "cell_type": "code",
   "execution_count": 100,
   "metadata": {},
   "outputs": [
    {
     "name": "stdout",
     "output_type": "stream",
     "text": [
      "What is your age  23\n",
      "What is you country?  Germany\n",
      "You qualify\n"
     ]
    }
   ],
   "source": [
    "user_age = int(input('What is your age '))\n",
    "user_country = input('What is you country? ')\n",
    "\n",
    "if ((not user_country == 'Germany') and user_age) < 25 or \\\n",
    "(user_country == 'Germany' and user_age < 23):\n",
    "    print('You qualify')\n",
    "else:\n",
    "    print('You don\\'t qualify!')"
   ]
  },
  {
   "cell_type": "code",
   "execution_count": 110,
   "metadata": {},
   "outputs": [
    {
     "name": "stdout",
     "output_type": "stream",
     "text": [
      "What is your age  21\n",
      "What is you country?  Thialand\n",
      "You qualify\n"
     ]
    }
   ],
   "source": [
    "user_age = int(input('What is your age '))\n",
    "user_country = input('What is you country? ')\n",
    "\n",
    "if not user_country == 'Germany' and \\\n",
    "user_age < 25 or \\\n",
    "user_country == 'Germany' and user_age < 23:\n",
    "    print('You qualify')\n",
    "else:\n",
    "    print('You don\\'t qualify!')"
   ]
  },
  {
   "cell_type": "code",
   "execution_count": null,
   "metadata": {},
   "outputs": [],
   "source": [
    "# boolean operators has priorities\n",
    "# 1. not\n",
    "# 2. and\n",
    "# 3. or"
   ]
  },
  {
   "cell_type": "code",
   "execution_count": 122,
   "metadata": {},
   "outputs": [
    {
     "name": "stdout",
     "output_type": "stream",
     "text": [
      "Do you like travelling? y/n:  n\n",
      "Sorry hear that\n"
     ]
    }
   ],
   "source": [
    "answer_a = input('Do you like travelling? y/n: ')\n",
    "if answer_a == 'y':\n",
    "    answer_b = input('And you like Asia? y/n: ')\n",
    "    if answer_b == 'y':\n",
    "        print('Excellent! You can win a ticket to Thailand')\n",
    "    else:\n",
    "        print('Sorry hear that!')     \n",
    "else:\n",
    "    print('Sorry hear that')"
   ]
  },
  {
   "cell_type": "code",
   "execution_count": 219,
   "metadata": {},
   "outputs": [
    {
     "name": "stdout",
     "output_type": "stream",
     "text": [
      "How many days ago have you purchased the item?  10\n",
      "Have you used the item at all [y/n]?  y\n",
      "Has the item broken down on its own [y/n]?  y\n",
      "You can get a refund.\n"
     ]
    }
   ],
   "source": [
    "purchase_days_ago = int(input('How many days ago have you purchased the item? '))\n",
    "is_used = input('Have you used the item at all [y/n]? ')\n",
    "is_broken = input('Has the item broken down on its own [y/n]? ')\n",
    " \n",
    "if(is_broken == 'y' or (purchase_days_ago <= 10 and is_used == 'n')):\n",
    "  print('You can get a refund.')\n",
    "else:\n",
    "  print('You cannot get a refund.')"
   ]
  },
  {
   "cell_type": "code",
   "execution_count": null,
   "metadata": {},
   "outputs": [],
   "source": [
    "counter = 1\n",
    "while counter < 11:\n",
    "    print(counter)\n",
    "    counter +=1\n",
    "print('Finished')"
   ]
  },
  {
   "cell_type": "code",
   "execution_count": null,
   "metadata": {},
   "outputs": [],
   "source": [
    "secret_number = 14\n",
    "user_input = int(input('Try to guess the secret number from 0 to 20: '))\n",
    "while user_input != secret_number:\n",
    "    print('Wrong!')\n",
    "    user_input = int(input('Try to guess my secret number from 0 to 20'))\n",
    "print('Perfect! You have guessed the secret number.')    "
   ]
  },
  {
   "cell_type": "code",
   "execution_count": 1,
   "metadata": {},
   "outputs": [
    {
     "name": "stdout",
     "output_type": "stream",
     "text": [
      "*\n"
     ]
    }
   ],
   "source": [
    "print('*')"
   ]
  },
  {
   "cell_type": "code",
   "execution_count": null,
   "metadata": {},
   "outputs": [],
   "source": [
    "answer = 0\n",
    "while True:\n",
    "    answer = int(input('When was Python 1.0 released? '))\n",
    "    if answer > 1994:\n",
    "        print('It was earlier than that!')\n",
    "    elif answer < 1994:\n",
    "        print('It was later than that!')\n",
    "    else:\n",
    "        print('Correct!')\n",
    "        break"
   ]
  },
  {
   "cell_type": "code",
   "execution_count": 18,
   "metadata": {},
   "outputs": [],
   "source": [
    "# 3 types of collections\n",
    "#list\n",
    "#tuples\n",
    "#dictionaries\n",
    "# : - slicing\n",
    "\n",
    "\n",
    "city_1 = 'New York City'\n",
    "city_2 = 'Los Angeles'\n",
    "city_3 = 'Chicago'\n",
    "city_4 = 'Houston'\n",
    "city_5 = 'Phoenix'\n"
   ]
  },
  {
   "cell_type": "code",
   "execution_count": 4,
   "metadata": {},
   "outputs": [],
   "source": [
    "empty_list = []"
   ]
  },
  {
   "cell_type": "code",
   "execution_count": 6,
   "metadata": {},
   "outputs": [
    {
     "name": "stdout",
     "output_type": "stream",
     "text": [
      "['New York City', 'Los Angeles', 'Chicago', 'Houston', 'Phoenix']\n"
     ]
    }
   ],
   "source": [
    "top_cities = ['New York City', 'Los Angeles', 'Chicago', 'Houston', 'Phoenix']\n",
    "print(top_cities)"
   ]
  },
  {
   "cell_type": "code",
   "execution_count": 10,
   "metadata": {},
   "outputs": [
    {
     "data": {
      "text/plain": [
       "['New York City', 'Los Angeles']"
      ]
     },
     "execution_count": 10,
     "metadata": {},
     "output_type": "execute_result"
    }
   ],
   "source": [
    "top_cities[0:2]"
   ]
  },
  {
   "cell_type": "code",
   "execution_count": 11,
   "metadata": {},
   "outputs": [
    {
     "data": {
      "text/plain": [
       "'New York City'"
      ]
     },
     "execution_count": 11,
     "metadata": {},
     "output_type": "execute_result"
    }
   ],
   "source": [
    "top_cities[0]"
   ]
  },
  {
   "cell_type": "code",
   "execution_count": 17,
   "metadata": {},
   "outputs": [
    {
     "data": {
      "text/plain": [
       "['New York City', 'Los Angeles', 'Chicago', 'Houston', 'Phoenix']"
      ]
     },
     "execution_count": 17,
     "metadata": {},
     "output_type": "execute_result"
    }
   ],
   "source": [
    "top_cities"
   ]
  },
  {
   "cell_type": "code",
   "execution_count": 13,
   "metadata": {},
   "outputs": [
    {
     "data": {
      "text/plain": [
       "'New York City'"
      ]
     },
     "execution_count": 13,
     "metadata": {},
     "output_type": "execute_result"
    }
   ],
   "source": [
    "top_cities[-5]"
   ]
  },
  {
   "cell_type": "code",
   "execution_count": 14,
   "metadata": {},
   "outputs": [
    {
     "data": {
      "text/plain": [
       "['New York City', 'Los Angeles', 'Chicago']"
      ]
     },
     "execution_count": 14,
     "metadata": {},
     "output_type": "execute_result"
    }
   ],
   "source": [
    "top_cities[:3]"
   ]
  },
  {
   "cell_type": "code",
   "execution_count": 16,
   "metadata": {},
   "outputs": [
    {
     "data": {
      "text/plain": [
       "['Chicago', 'Houston', 'Phoenix']"
      ]
     },
     "execution_count": 16,
     "metadata": {},
     "output_type": "execute_result"
    }
   ],
   "source": [
    "top_cities[2:]"
   ]
  },
  {
   "cell_type": "code",
   "execution_count": 19,
   "metadata": {},
   "outputs": [
    {
     "data": {
      "text/plain": [
       "[]"
      ]
     },
     "execution_count": 19,
     "metadata": {},
     "output_type": "execute_result"
    }
   ],
   "source": [
    "top_cities[10:14]"
   ]
  },
  {
   "cell_type": "code",
   "execution_count": 20,
   "metadata": {},
   "outputs": [
    {
     "data": {
      "text/plain": [
       "['New York City']"
      ]
     },
     "execution_count": 20,
     "metadata": {},
     "output_type": "execute_result"
    }
   ],
   "source": [
    "top_cities[0:1]"
   ]
  },
  {
   "cell_type": "code",
   "execution_count": 27,
   "metadata": {},
   "outputs": [
    {
     "name": "stdout",
     "output_type": "stream",
     "text": [
      "['New York City', 'Los Angeles', 'Chicago', 'Houston', 'Phoenix']\n"
     ]
    }
   ],
   "source": [
    "top_cities = ['New York City', 'Los Angeles', 'Singapore', 'Chicago', 'Houston', 'Phoenix']\n",
    "del top_cities[2]\n",
    "print(top_cities)"
   ]
  },
  {
   "cell_type": "code",
   "execution_count": 26,
   "metadata": {},
   "outputs": [
    {
     "data": {
      "text/plain": [
       "['New York City', 'Los Angeles', 'Houston', 'Phoenix']"
      ]
     },
     "execution_count": 26,
     "metadata": {},
     "output_type": "execute_result"
    }
   ],
   "source": [
    "top_cities"
   ]
  },
  {
   "cell_type": "code",
   "execution_count": 56,
   "metadata": {},
   "outputs": [
    {
     "name": "stdout",
     "output_type": "stream",
     "text": [
      "[]\n"
     ]
    }
   ],
   "source": [
    "top_cities = ['New York City', 'Los Angeles', 'Singapore', 'Chicago', 'Houston', 'Phoenix']\n",
    "del top_cities[:]\n",
    "print(top_cities)"
   ]
  },
  {
   "cell_type": "code",
   "execution_count": 57,
   "metadata": {},
   "outputs": [
    {
     "name": "stdout",
     "output_type": "stream",
     "text": [
      "[7, 9, 5, 6, 8, 4]\n"
     ]
    }
   ],
   "source": [
    "book_ratings = [7, 9, 5, 6, 8]\n",
    "book_ratings.append(4)\n",
    "print(book_ratings)"
   ]
  },
  {
   "cell_type": "code",
   "execution_count": 63,
   "metadata": {},
   "outputs": [
    {
     "name": "stdout",
     "output_type": "stream",
     "text": [
      "[7, 9, 10, 5, 6, 8]\n"
     ]
    }
   ],
   "source": [
    "book_ratings = [7, 9, 5, 6, 8]\n",
    "book_ratings.insert(2, 10)\n",
    "print(book_ratings)"
   ]
  },
  {
   "cell_type": "code",
   "execution_count": 66,
   "metadata": {},
   "outputs": [
    {
     "name": "stdout",
     "output_type": "stream",
     "text": [
      "Current city: New York City\n",
      "Current city: Los Angeles\n",
      "Current city: Chicago\n",
      "Current city: Houston\n",
      "Current city: Phoenix\n"
     ]
    }
   ],
   "source": [
    "top_cities = ['New York City', 'Los Angeles', 'Chicago', 'Houston', 'Phoenix']\n",
    "for city in top_cities:\n",
    "    print('Current city:', city)"
   ]
  },
  {
   "cell_type": "code",
   "execution_count": 69,
   "metadata": {},
   "outputs": [
    {
     "name": "stdout",
     "output_type": "stream",
     "text": [
      "Current index: 0 | Current city: New York City\n",
      "Current index: 1 | Current city: Los Angeles\n",
      "Current index: 2 | Current city: Chicago\n",
      "Current index: 3 | Current city: Houston\n",
      "Current index: 4 | Current city: Phoenix\n"
     ]
    }
   ],
   "source": [
    "top_cities = ['New York City', 'Los Angeles', 'Chicago', 'Houston', 'Phoenix']\n",
    "for city_index in range(len(top_cities)):\n",
    "    print('Current index:', city_index, '| Current city:', top_cities[city_index], )"
   ]
  },
  {
   "cell_type": "code",
   "execution_count": 70,
   "metadata": {},
   "outputs": [
    {
     "name": "stdout",
     "output_type": "stream",
     "text": [
      "Money spent: 158.1\n"
     ]
    }
   ],
   "source": [
    "spendings = [32.45, 18.65, 23.45, 78.32, 5.23]\n",
    "sum = 0.0\n",
    "for spending in spendings:\n",
    "    sum += spending\n",
    "print('Money spent:', sum)"
   ]
  },
  {
   "cell_type": "code",
   "execution_count": 82,
   "metadata": {},
   "outputs": [
    {
     "name": "stdout",
     "output_type": "stream",
     "text": [
      "Numbers of months with low spendings: 1, normal spendings: 5, high spendings: 6.\n",
      "Money spent:  28224.269999999997\n"
     ]
    }
   ],
   "source": [
    "spendings = [1346.0, 987.50, 1734.40, 2567.0, 3271.45, 2500.0, 2130.0, 2510.30, 2987.34, 3120.50, 4069.78, 1000.0]\n",
    "sum = 0\n",
    "c_low = 0\n",
    "c_mid = 0\n",
    "c_high = 0\n",
    "for i in spendings:\n",
    "    if i < 1000:\n",
    "        c_low += 1\n",
    "        sum += i\n",
    "    if i >= 1000 and i <= 2500:\n",
    "        c_mid += 1\n",
    "        sum += i\n",
    "    if i > 2500:\n",
    "        c_high += 1\n",
    "        sum += i\n",
    "print('Numbers of months with low spendings: ', c_low, ', normal spendings: ', c_mid, ', high spendings: ', c_high, '.', sep='')\n",
    "print('Money spent: ', sum)"
   ]
  },
  {
   "cell_type": "code",
   "execution_count": 89,
   "metadata": {},
   "outputs": [
    {
     "name": "stdin",
     "output_type": "stream",
     "text": [
      "Enter first number:  10\n",
      "Enter second number:  20\n"
     ]
    },
    {
     "name": "stdout",
     "output_type": "stream",
     "text": [
      "Before swapping: 10 20\n",
      "After swapping: 20 20\n"
     ]
    }
   ],
   "source": [
    "first = input('Enter first number: ')\n",
    "second = input('Enter second number: ')\n",
    "print('Before swapping:', first, second )\n",
    "first = second\n",
    "second = first\n",
    "print('After swapping:', first, second)"
   ]
  },
  {
   "cell_type": "code",
   "execution_count": 90,
   "metadata": {},
   "outputs": [
    {
     "name": "stdin",
     "output_type": "stream",
     "text": [
      "Enter first number:  10\n",
      "Enter second number:  20\n"
     ]
    },
    {
     "name": "stdout",
     "output_type": "stream",
     "text": [
      "Before swapping: 10 20\n",
      "After swapping: 20 10\n"
     ]
    }
   ],
   "source": [
    "first = input('Enter first number: ')\n",
    "second = input('Enter second number: ')\n",
    "print('Before swapping:', first, second)\n",
    "temporary = first\n",
    "first = second\n",
    "second = temporary\n",
    "print('After swapping:', first, second)"
   ]
  },
  {
   "cell_type": "code",
   "execution_count": 91,
   "metadata": {},
   "outputs": [
    {
     "name": "stdin",
     "output_type": "stream",
     "text": [
      "Enter first number:  10 \n",
      "Enter second number:  20 \n"
     ]
    },
    {
     "name": "stdout",
     "output_type": "stream",
     "text": [
      "Before swapping: 10  20 \n",
      "After swapping: 20  10 \n"
     ]
    }
   ],
   "source": [
    "first = input('Enter first number: ')\n",
    "second = input('Enter second number: ')\n",
    "print('Before swapping:', first, second)\n",
    "first, second = second, first\n",
    "print('After swapping:', first, second)"
   ]
  },
  {
   "cell_type": "code",
   "execution_count": 94,
   "metadata": {},
   "outputs": [
    {
     "name": "stdout",
     "output_type": "stream",
     "text": [
      "['Phoenix', 'Los Angeles', 'Chicago', 'Houston', 'New York City']\n"
     ]
    }
   ],
   "source": [
    "top_cities = ['New York City', 'Los Angeles', 'Chicago', 'Houston', 'Phoenix']\n",
    "top_cities[0], top_cities[4] = top_cities[4], top_cities[0]\n",
    "print(top_cities)"
   ]
  },
  {
   "cell_type": "code",
   "execution_count": 98,
   "metadata": {},
   "outputs": [
    {
     "name": "stdout",
     "output_type": "stream",
     "text": [
      "[-2, 0, 2, 4, 5, 7]\n"
     ]
    }
   ],
   "source": [
    "random_numbers = [2, 5, 7, -2, 0, 4]\n",
    "random_numbers.sort()\n",
    "print(random_numbers)"
   ]
  },
  {
   "cell_type": "code",
   "execution_count": 99,
   "metadata": {},
   "outputs": [
    {
     "name": "stdout",
     "output_type": "stream",
     "text": [
      "[-2, 0, 2, 4, 5, 7]\n"
     ]
    }
   ],
   "source": [
    "random_numbers = [2, 5, 7, -2, 0, 4]\n",
    "print(sorted(random_numbers))"
   ]
  },
  {
   "cell_type": "code",
   "execution_count": 97,
   "metadata": {},
   "outputs": [
    {
     "name": "stdout",
     "output_type": "stream",
     "text": [
      "['Chicago', 'Houston', 'Los Angeles', 'New York City', 'Phoenix']\n",
      "['New York City', 'Los Angeles', 'Chicago', 'Houston', 'Phoenix']\n"
     ]
    }
   ],
   "source": [
    "top_cities = ['New York City', 'Los Angeles', 'Chicago', 'Houston', 'Phoenix']\n",
    "print(sorted(top_cities))\n",
    "print(top_cities)"
   ]
  },
  {
   "cell_type": "code",
   "execution_count": 101,
   "metadata": {},
   "outputs": [
    {
     "name": "stdout",
     "output_type": "stream",
     "text": [
      "h\n",
      "a\n",
      "p\n",
      "p\n",
      "y\n",
      " \n",
      "b\n",
      "i\n",
      "r\n",
      "t\n",
      "h\n",
      "d\n",
      "a\n",
      "y\n"
     ]
    }
   ],
   "source": [
    "for char in 'happy birthday':\n",
    "    print(char)"
   ]
  },
  {
   "cell_type": "code",
   "execution_count": 115,
   "metadata": {},
   "outputs": [
    {
     "name": "stdin",
     "output_type": "stream",
     "text": [
      "What is your name?  asdf\n"
     ]
    },
    {
     "name": "stdout",
     "output_type": "stream",
     "text": [
      "You are not invited!\n"
     ]
    }
   ],
   "source": [
    "invited_guests = ['Kate', 'Adam', 'Kerry', 'Joe', 'Anne', 'Marie']\n",
    "name = input('What is your name? ')\n",
    "if name not in invited_guests:\n",
    "    print('You are not invited!')\n",
    "else:\n",
    "    print('Welcome!')"
   ]
  },
  {
   "cell_type": "code",
   "execution_count": 117,
   "metadata": {},
   "outputs": [
    {
     "name": "stdin",
     "output_type": "stream",
     "text": [
      "What is your name?  Anne\n"
     ]
    },
    {
     "name": "stdout",
     "output_type": "stream",
     "text": [
      "Welcome\n"
     ]
    }
   ],
   "source": [
    "invited_guests = ['Kate', 'Adam', 'Kerry', 'Joe', 'Anne', 'Marie']\n",
    "name = input('What is your name? ')\n",
    "if name in invited_guests:\n",
    "    print('Welcome')\n",
    "else:\n",
    "    print('You are not invited!')"
   ]
  },
  {
   "cell_type": "code",
   "execution_count": 118,
   "metadata": {},
   "outputs": [
    {
     "name": "stdout",
     "output_type": "stream",
     "text": [
      "Daenerys Targaryen John Snow\n"
     ]
    }
   ],
   "source": [
    "name_original = 'John Snow'\n",
    "name_new = name_original\n",
    "name_original = 'Daenerys Targaryen'\n",
    "print(name_original, name_new)"
   ]
  },
  {
   "cell_type": "code",
   "execution_count": 120,
   "metadata": {},
   "outputs": [
    {
     "name": "stdout",
     "output_type": "stream",
     "text": [
      "Original: [-5, 2, 3] \n",
      "New [-5, 2, 3]\n"
     ]
    }
   ],
   "source": [
    "list_original = [1, 2, 3]\n",
    "list_new = list_original\n",
    "list_original[0] = -5\n",
    "print('Original:', list_original, '\\nNew', list_new)"
   ]
  },
  {
   "cell_type": "code",
   "execution_count": 121,
   "metadata": {},
   "outputs": [
    {
     "name": "stdout",
     "output_type": "stream",
     "text": [
      "Original: [-5, 2, 3] \n",
      "New [1, 2, 3]\n"
     ]
    }
   ],
   "source": [
    "list_original = [1, 2, 3]\n",
    "list_new = list_original[:]\n",
    "list_original[0] = -5\n",
    "print('Original:', list_original, '\\nNew', list_new)"
   ]
  },
  {
   "cell_type": "code",
   "execution_count": 125,
   "metadata": {},
   "outputs": [],
   "source": [
    "list_original = [1, 2, 3]\n",
    "list_new = list_original[:] # for copy add slicing"
   ]
  },
  {
   "cell_type": "code",
   "execution_count": 126,
   "metadata": {},
   "outputs": [
    {
     "name": "stdout",
     "output_type": "stream",
     "text": [
      "[1, 2, 3, 4, 1, 2, 3, 4, 5, 6, 7, 8, 9, 10, 11, 12, 13, 14, 15, 16, 17, 18, 19, 20, 21, 22, 23, 24, 25, 26, 27, 28, 29, 30, 31, 32, 33, 34, 35, 36, 37, 38, 39, 40, 41, 42, 43, 44, 45, 46, 47, 48, 49, 50, 51, 52, 53, 54, 55, 56, 57, 58, 59, 60, 61, 62, 63, 64, 65, 66, 67, 68, 69, 70, 71, 72, 73, 74, 75, 76, 77, 78, 79, 80, 81, 82, 83, 84, 85, 86, 87, 88, 89, 90, 91, 92, 93, 94, 95, 96, 97, 98, 99, 100]\n"
     ]
    }
   ],
   "source": [
    "numbers = [1, 2, 3 , 4]\n",
    "for i in range(1, 101):\n",
    "    numbers.append(i)\n",
    "print(numbers)"
   ]
  },
  {
   "cell_type": "code",
   "execution_count": 141,
   "metadata": {},
   "outputs": [
    {
     "name": "stdout",
     "output_type": "stream",
     "text": [
      "[1, 2, 3, 4, 5, 6, 7, 8, 9, 10, 11, 12, 13, 14, 15, 16, 17, 18, 19, 20, 21, 22, 23, 24, 25, 26, 27, 28, 29, 30, 31, 32, 33, 34, 35, 36, 37, 38, 39, 40, 41, 42, 43, 44, 45, 46, 47, 48, 49, 50, 51, 52, 53, 54, 55, 56, 57, 58, 59, 60, 61, 62, 63, 64, 65, 66, 67, 68, 69, 70, 71, 72, 73, 74, 75, 76, 77, 78, 79, 80, 81, 82, 83, 84, 85, 86, 87, 88, 89, 90, 91, 92, 93, 94, 95, 96, 97, 98, 99, 100]\n"
     ]
    }
   ],
   "source": [
    "numbers = [i for i in range(1, 101)]\n",
    "print(numbers)"
   ]
  },
  {
   "cell_type": "code",
   "execution_count": 142,
   "metadata": {},
   "outputs": [
    {
     "name": "stdout",
     "output_type": "stream",
     "text": [
      "[1, 2, 4, 5, 7, 8, 10, 11, 13, 14, 16, 17, 19, 20, 22, 23, 25, 26, 28, 29, 31, 32, 34, 35, 37, 38, 40, 41, 43, 44, 46, 47, 49, 50, 52, 53, 55, 56, 58, 59, 61, 62, 64, 65, 67, 68, 70, 71, 73, 74, 76, 77, 79, 80, 82, 83, 85, 86, 88, 89, 91, 92, 94, 95, 97, 98, 100]\n"
     ]
    }
   ],
   "source": [
    "numbers = [i for i in range(1, 101) if i % 3 != 0]\n",
    "print(numbers)"
   ]
  },
  {
   "cell_type": "code",
   "execution_count": 129,
   "metadata": {},
   "outputs": [],
   "source": [
    "numbers = [1, 2, 3, 4]"
   ]
  },
  {
   "cell_type": "code",
   "execution_count": 130,
   "metadata": {},
   "outputs": [],
   "source": [
    "countries = ['UK', 'US', 'Germany' ]"
   ]
  },
  {
   "cell_type": "code",
   "execution_count": 131,
   "metadata": {},
   "outputs": [],
   "source": [
    "countries = [1, 'UK', 2, 'US'] "
   ]
  },
  {
   "cell_type": "code",
   "execution_count": 132,
   "metadata": {},
   "outputs": [],
   "source": [
    "cells = [['A1', 'A2', 'A3'], ['B1', 'B2', 'B3']]"
   ]
  },
  {
   "cell_type": "code",
   "execution_count": 133,
   "metadata": {},
   "outputs": [
    {
     "data": {
      "text/plain": [
       "['A1', 'A2', 'A3']"
      ]
     },
     "execution_count": 133,
     "metadata": {},
     "output_type": "execute_result"
    }
   ],
   "source": [
    "cells[0]"
   ]
  },
  {
   "cell_type": "code",
   "execution_count": 134,
   "metadata": {},
   "outputs": [
    {
     "data": {
      "text/plain": [
       "'A1'"
      ]
     },
     "execution_count": 134,
     "metadata": {},
     "output_type": "execute_result"
    }
   ],
   "source": [
    "cells[0][0]"
   ]
  },
  {
   "cell_type": "code",
   "execution_count": 135,
   "metadata": {},
   "outputs": [
    {
     "data": {
      "text/plain": [
       "'A2'"
      ]
     },
     "execution_count": 135,
     "metadata": {},
     "output_type": "execute_result"
    }
   ],
   "source": [
    "cells[0][1]"
   ]
  },
  {
   "cell_type": "code",
   "execution_count": 138,
   "metadata": {},
   "outputs": [
    {
     "data": {
      "text/plain": [
       "'B3'"
      ]
     },
     "execution_count": 138,
     "metadata": {},
     "output_type": "execute_result"
    }
   ],
   "source": [
    "cells[1][2]"
   ]
  },
  {
   "cell_type": "code",
   "execution_count": 139,
   "metadata": {},
   "outputs": [
    {
     "name": "stdout",
     "output_type": "stream",
     "text": [
      "Element: ['A1', 'A2', 'A3']\n",
      "Element: ['B1', 'B2', 'B3']\n"
     ]
    }
   ],
   "source": [
    "cells = [['A1', 'A2', 'A3'], ['B1', 'B2', 'B3']]\n",
    "for x in cells:\n",
    "    print('Element:',x)"
   ]
  },
  {
   "cell_type": "code",
   "execution_count": 149,
   "metadata": {},
   "outputs": [
    {
     "name": "stdout",
     "output_type": "stream",
     "text": [
      "Element: A1\n",
      "Element: A2\n",
      "Element: A3\n",
      "Element: B1\n",
      "Element: B2\n",
      "Element: B3\n"
     ]
    }
   ],
   "source": [
    "cells = [['A1', 'A2', 'A3'], ['B1', 'B2', 'B3']]\n",
    "for x in cells:\n",
    "    for y in x:\n",
    "        print('Element:', y)"
   ]
  },
  {
   "cell_type": "code",
   "execution_count": 153,
   "metadata": {},
   "outputs": [
    {
     "name": "stdout",
     "output_type": "stream",
     "text": [
      "Element: A1\n",
      "Element: A2\n",
      "Element: A3\n",
      "Element: B1\n",
      "Element: B2\n",
      "Element: B3\n"
     ]
    }
   ],
   "source": [
    "table = [['A1', 'A2', 'A3'], ['B1', 'B2', 'B3']]\n",
    "for row in table:\n",
    "    for cell in row:\n",
    "        print('Element:', cell)"
   ]
  },
  {
   "cell_type": "code",
   "execution_count": 154,
   "metadata": {},
   "outputs": [
    {
     "name": "stdout",
     "output_type": "stream",
     "text": [
      "A1 A2 A3 \n",
      "B1 B2 B3 \n"
     ]
    }
   ],
   "source": [
    "table = [['A1', 'A2', 'A3'], ['B1', 'B2', 'B3']]\n",
    "for row in table:\n",
    "    for cell in row:\n",
    "        print(cell, '', end='')\n",
    "    print()"
   ]
  },
  {
   "cell_type": "code",
   "execution_count": 155,
   "metadata": {},
   "outputs": [
    {
     "name": "stdout",
     "output_type": "stream",
     "text": [
      "[[1, 2, 3, 4, 5], [1, 2, 3, 4, 5], [1, 2, 3, 4, 5], [1, 2, 3, 4, 5]]\n"
     ]
    }
   ],
   "source": [
    "table = [[i for i in range(1, 6)] for j in range(4)]\n",
    "print(table)"
   ]
  },
  {
   "cell_type": "code",
   "execution_count": 156,
   "metadata": {},
   "outputs": [
    {
     "name": "stdout",
     "output_type": "stream",
     "text": [
      "['New York City', 'Chicago', 'London', 'Bristol']\n"
     ]
    }
   ],
   "source": [
    "list_us = ['New York City', 'Chicago']\n",
    "list_uk = ['London', 'Bristol']\n",
    "list_all = list_us + list_uk\n",
    "print(list_all)"
   ]
  },
  {
   "cell_type": "code",
   "execution_count": 157,
   "metadata": {},
   "outputs": [
    {
     "name": "stdout",
     "output_type": "stream",
     "text": [
      "[0, 1, 0, 1, 0, 1, 0, 1, 0, 1, 0, 1, 0, 1, 0, 1, 0, 1, 0, 1]\n"
     ]
    }
   ],
   "source": [
    "list_numbers = [0, 1] * 10\n",
    "print(list_numbers)"
   ]
  },
  {
   "cell_type": "code",
   "execution_count": 158,
   "metadata": {},
   "outputs": [
    {
     "name": "stdout",
     "output_type": "stream",
     "text": [
      "D\n"
     ]
    }
   ],
   "source": [
    "fav_band = 'Green Day'\n",
    "print(fav_band[6])"
   ]
  },
  {
   "cell_type": "code",
   "execution_count": 159,
   "metadata": {},
   "outputs": [
    {
     "name": "stdout",
     "output_type": "stream",
     "text": [
      "Green \n"
     ]
    }
   ],
   "source": [
    "print(fav_band[:6])"
   ]
  },
  {
   "cell_type": "code",
   "execution_count": 160,
   "metadata": {},
   "outputs": [
    {
     "ename": "TypeError",
     "evalue": "'str' object does not support item assignment",
     "output_type": "error",
     "traceback": [
      "\u001b[0;31m---------------------------------------------------------------------------\u001b[0m",
      "\u001b[0;31mTypeError\u001b[0m                                 Traceback (most recent call last)",
      "\u001b[0;32m/var/folders/p6/7q961yb17fs5smkgyy230wp80000gp/T/ipykernel_70146/3188616751.py\u001b[0m in \u001b[0;36m<module>\u001b[0;34m\u001b[0m\n\u001b[0;32m----> 1\u001b[0;31m \u001b[0mfav_band\u001b[0m\u001b[0;34m[\u001b[0m\u001b[0;36m6\u001b[0m\u001b[0;34m]\u001b[0m \u001b[0;34m=\u001b[0m \u001b[0;34m'M'\u001b[0m\u001b[0;34m\u001b[0m\u001b[0;34m\u001b[0m\u001b[0m\n\u001b[0m",
      "\u001b[0;31mTypeError\u001b[0m: 'str' object does not support item assignment"
     ]
    }
   ],
   "source": [
    "fav_band[6] = 'M'"
   ]
  },
  {
   "cell_type": "code",
   "execution_count": 162,
   "metadata": {},
   "outputs": [
    {
     "name": "stdout",
     "output_type": "stream",
     "text": [
      "PLEASE CAPITLISE ME\n"
     ]
    }
   ],
   "source": [
    "text = 'please capitlise me'\n",
    "text_cap = text.upper()\n",
    "print(text_cap)"
   ]
  },
  {
   "cell_type": "code",
   "execution_count": 164,
   "metadata": {},
   "outputs": [
    {
     "name": "stdin",
     "output_type": "stream",
     "text": [
      "Please provide a number:  12\n"
     ]
    },
    {
     "name": "stdout",
     "output_type": "stream",
     "text": [
      "Thank you that's a correct number\n"
     ]
    }
   ],
   "source": [
    "user_number = input('Please provide a number: ')\n",
    "if user_number.isnumeric():\n",
    "    print('Thank you that\\'s a correct number')\n",
    "else:\n",
    "    print('Sorry,', user_number, 'is not a number')"
   ]
  },
  {
   "cell_type": "code",
   "execution_count": 166,
   "metadata": {},
   "outputs": [],
   "source": [
    "empty_tuple = ()\n"
   ]
  },
  {
   "cell_type": "code",
   "execution_count": 167,
   "metadata": {},
   "outputs": [],
   "source": [
    "one_el_tuple_a = (1,)"
   ]
  },
  {
   "cell_type": "code",
   "execution_count": 168,
   "metadata": {},
   "outputs": [],
   "source": [
    "one_el_tuple_b = 1,"
   ]
  },
  {
   "cell_type": "code",
   "execution_count": 172,
   "metadata": {},
   "outputs": [],
   "source": [
    "three_el_tuple = 1, 2, 3,"
   ]
  },
  {
   "cell_type": "code",
   "execution_count": 173,
   "metadata": {},
   "outputs": [
    {
     "name": "stdout",
     "output_type": "stream",
     "text": [
      "(1, 2, 3)\n"
     ]
    }
   ],
   "source": [
    "print(three_el_tuple)"
   ]
  },
  {
   "cell_type": "code",
   "execution_count": 175,
   "metadata": {},
   "outputs": [],
   "source": [
    "user_data = ('John', 'American', 1964)\n",
    "user_data = ('Katya', 'Russian', 1980)"
   ]
  },
  {
   "cell_type": "code",
   "execution_count": 177,
   "metadata": {},
   "outputs": [
    {
     "ename": "AttributeError",
     "evalue": "'tuple' object has no attribute 'append'",
     "output_type": "error",
     "traceback": [
      "\u001b[0;31m---------------------------------------------------------------------------\u001b[0m",
      "\u001b[0;31mAttributeError\u001b[0m                            Traceback (most recent call last)",
      "\u001b[0;32m/var/folders/p6/7q961yb17fs5smkgyy230wp80000gp/T/ipykernel_70146/549543503.py\u001b[0m in \u001b[0;36m<module>\u001b[0;34m\u001b[0m\n\u001b[0;32m----> 1\u001b[0;31m \u001b[0muser_data\u001b[0m\u001b[0;34m.\u001b[0m\u001b[0mappend\u001b[0m\u001b[0;34m(\u001b[0m\u001b[0;34m'w'\u001b[0m\u001b[0;34m)\u001b[0m\u001b[0;34m\u001b[0m\u001b[0;34m\u001b[0m\u001b[0m\n\u001b[0m",
      "\u001b[0;31mAttributeError\u001b[0m: 'tuple' object has no attribute 'append'"
     ]
    }
   ],
   "source": [
    "user_data.append('w')"
   ]
  },
  {
   "cell_type": "code",
   "execution_count": 178,
   "metadata": {},
   "outputs": [
    {
     "ename": "TypeError",
     "evalue": "'tuple' object doesn't support item deletion",
     "output_type": "error",
     "traceback": [
      "\u001b[0;31m---------------------------------------------------------------------------\u001b[0m",
      "\u001b[0;31mTypeError\u001b[0m                                 Traceback (most recent call last)",
      "\u001b[0;32m/var/folders/p6/7q961yb17fs5smkgyy230wp80000gp/T/ipykernel_70146/476812610.py\u001b[0m in \u001b[0;36m<module>\u001b[0;34m\u001b[0m\n\u001b[0;32m----> 1\u001b[0;31m \u001b[0;32mdel\u001b[0m \u001b[0muser_data\u001b[0m\u001b[0;34m[\u001b[0m\u001b[0;36m0\u001b[0m\u001b[0;34m]\u001b[0m\u001b[0;34m\u001b[0m\u001b[0;34m\u001b[0m\u001b[0m\n\u001b[0m",
      "\u001b[0;31mTypeError\u001b[0m: 'tuple' object doesn't support item deletion"
     ]
    }
   ],
   "source": [
    "del user_data[0]"
   ]
  },
  {
   "cell_type": "code",
   "execution_count": 180,
   "metadata": {},
   "outputs": [
    {
     "name": "stdout",
     "output_type": "stream",
     "text": [
      "Katya\n"
     ]
    }
   ],
   "source": [
    "print(user_data[0])"
   ]
  },
  {
   "cell_type": "code",
   "execution_count": 181,
   "metadata": {},
   "outputs": [
    {
     "ename": "TypeError",
     "evalue": "'tuple' object does not support item assignment",
     "output_type": "error",
     "traceback": [
      "\u001b[0;31m---------------------------------------------------------------------------\u001b[0m",
      "\u001b[0;31mTypeError\u001b[0m                                 Traceback (most recent call last)",
      "\u001b[0;32m/var/folders/p6/7q961yb17fs5smkgyy230wp80000gp/T/ipykernel_70146/1400672179.py\u001b[0m in \u001b[0;36m<module>\u001b[0;34m\u001b[0m\n\u001b[0;32m----> 1\u001b[0;31m \u001b[0muser_data\u001b[0m\u001b[0;34m[\u001b[0m\u001b[0;36m0\u001b[0m\u001b[0;34m]\u001b[0m \u001b[0;34m=\u001b[0m \u001b[0;34m'Mark'\u001b[0m\u001b[0;34m\u001b[0m\u001b[0;34m\u001b[0m\u001b[0m\n\u001b[0m",
      "\u001b[0;31mTypeError\u001b[0m: 'tuple' object does not support item assignment"
     ]
    }
   ],
   "source": [
    "user_data[0] = 'Mark'"
   ]
  },
  {
   "cell_type": "code",
   "execution_count": 184,
   "metadata": {},
   "outputs": [],
   "source": [
    "message = 'welcome'"
   ]
  },
  {
   "cell_type": "code",
   "execution_count": 183,
   "metadata": {},
   "outputs": [],
   "source": [
    "message = 'Welcome'"
   ]
  },
  {
   "cell_type": "code",
   "execution_count": 185,
   "metadata": {},
   "outputs": [
    {
     "ename": "TypeError",
     "evalue": "'str' object does not support item assignment",
     "output_type": "error",
     "traceback": [
      "\u001b[0;31m---------------------------------------------------------------------------\u001b[0m",
      "\u001b[0;31mTypeError\u001b[0m                                 Traceback (most recent call last)",
      "\u001b[0;32m/var/folders/p6/7q961yb17fs5smkgyy230wp80000gp/T/ipykernel_70146/893063673.py\u001b[0m in \u001b[0;36m<module>\u001b[0;34m\u001b[0m\n\u001b[0;32m----> 1\u001b[0;31m \u001b[0mmessage\u001b[0m\u001b[0;34m[\u001b[0m\u001b[0;36m0\u001b[0m\u001b[0;34m]\u001b[0m \u001b[0;34m=\u001b[0m \u001b[0;34m'w'\u001b[0m\u001b[0;34m\u001b[0m\u001b[0;34m\u001b[0m\u001b[0m\n\u001b[0m",
      "\u001b[0;31mTypeError\u001b[0m: 'str' object does not support item assignment"
     ]
    }
   ],
   "source": [
    "message[0] = 'w'"
   ]
  },
  {
   "cell_type": "code",
   "execution_count": 186,
   "metadata": {},
   "outputs": [
    {
     "name": "stdout",
     "output_type": "stream",
     "text": [
      "3\n"
     ]
    }
   ],
   "source": [
    "user_data = ('John', 'American', 1964)\n",
    "print(len(user_data))"
   ]
  },
  {
   "cell_type": "code",
   "execution_count": 192,
   "metadata": {},
   "outputs": [
    {
     "name": "stdout",
     "output_type": "stream",
     "text": [
      "This person is from US\n"
     ]
    }
   ],
   "source": [
    "user_data = ('John', 'American', 1964)\n",
    "if 'American' in user_data:\n",
    "    print('This person is from US')"
   ]
  },
  {
   "cell_type": "code",
   "execution_count": 193,
   "metadata": {},
   "outputs": [
    {
     "name": "stdout",
     "output_type": "stream",
     "text": [
      "John\n",
      "American\n",
      "1964\n"
     ]
    }
   ],
   "source": [
    "user_data = ('John', 'American', 1964)\n",
    "for element in user_data:\n",
    "    print(element)"
   ]
  },
  {
   "cell_type": "code",
   "execution_count": 194,
   "metadata": {},
   "outputs": [
    {
     "name": "stdout",
     "output_type": "stream",
     "text": [
      "('John', 'American', 1964, 'teacher', 'male')\n"
     ]
    }
   ],
   "source": [
    "user_data = ('John', 'American', 1964) + ('teacher', 'male')\n",
    "print(user_data)"
   ]
  },
  {
   "cell_type": "code",
   "execution_count": 195,
   "metadata": {},
   "outputs": [
    {
     "name": "stdout",
     "output_type": "stream",
     "text": [
      "(0, 1, 0, 1, 0, 1, 0, 1, 0, 1, 0, 1, 0, 1, 0, 1, 0, 1, 0, 1)\n"
     ]
    }
   ],
   "source": [
    "numbers = (0, 1) * 10\n",
    "print(numbers)"
   ]
  },
  {
   "cell_type": "code",
   "execution_count": 196,
   "metadata": {},
   "outputs": [],
   "source": [
    "male_name = ['Adam', 'Jerry', 'Mark']"
   ]
  },
  {
   "cell_type": "code",
   "execution_count": 197,
   "metadata": {},
   "outputs": [],
   "source": [
    "berlin_temps = [13.0, 17.5, 12.0]"
   ]
  },
  {
   "cell_type": "code",
   "execution_count": 198,
   "metadata": {},
   "outputs": [],
   "source": [
    "user_data = ('John', 'American', 1964)"
   ]
  },
  {
   "cell_type": "code",
   "execution_count": 199,
   "metadata": {},
   "outputs": [],
   "source": [
    "first = 5\n",
    "second = 7\n",
    "first, second = second, first"
   ]
  },
  {
   "cell_type": "code",
   "execution_count": 200,
   "metadata": {},
   "outputs": [],
   "source": [
    "city_1 = ('London', 'UK', 8.98)"
   ]
  },
  {
   "cell_type": "code",
   "execution_count": 201,
   "metadata": {},
   "outputs": [],
   "source": [
    "city_2 = ('Canberra', 'Australia', 0.4)"
   ]
  },
  {
   "cell_type": "code",
   "execution_count": 202,
   "metadata": {},
   "outputs": [],
   "source": [
    "city_3 = ('Algiers', 'Algeria', 3.9)"
   ]
  },
  {
   "cell_type": "code",
   "execution_count": 203,
   "metadata": {},
   "outputs": [],
   "source": [
    "capitals = [('London', 'UK', 8.98), ('Canberra', 'Australia', 0.4), ('Algiers', 'Algeria', 3.9)]"
   ]
  },
  {
   "cell_type": "code",
   "execution_count": 204,
   "metadata": {},
   "outputs": [
    {
     "name": "stdout",
     "output_type": "stream",
     "text": [
      "Name: London Country: UK , Population 8.98\n",
      "Name: Canberra Country: Australia , Population 0.4\n",
      "Name: Algiers Country: Algeria , Population 3.9\n"
     ]
    }
   ],
   "source": [
    "for capital in capitals:\n",
    "    print('Name:', capital[0], 'Country:', capital[1], ', Population', capital[2])"
   ]
  },
  {
   "cell_type": "code",
   "execution_count": 205,
   "metadata": {},
   "outputs": [],
   "source": [
    "user_data = ('John', 'American', 1964, [77.0, 78.2, 77.5])"
   ]
  },
  {
   "cell_type": "code",
   "execution_count": 214,
   "metadata": {},
   "outputs": [],
   "source": [
    "user_data[3].append(79.6)ß"
   ]
  },
  {
   "cell_type": "code",
   "execution_count": 215,
   "metadata": {},
   "outputs": [
    {
     "name": "stdout",
     "output_type": "stream",
     "text": [
      "('John', 'American', 1964, [77.0, 78.2, 77.5, 79.6, 79.6, 79.6])\n"
     ]
    }
   ],
   "source": [
    "print(user_data)"
   ]
  },
  {
   "cell_type": "code",
   "execution_count": 217,
   "metadata": {},
   "outputs": [
    {
     "name": "stdout",
     "output_type": "stream",
     "text": [
      "5 connections lead to Rome with an average flight time of 161.0 minutes\n"
     ]
    }
   ],
   "source": [
    "\n",
    "connections = [\n",
    "    ('Amsterdam', 'Dublin', 100),\n",
    "    ('Amsterdam', 'Rome', 140),\n",
    "    ('Rome', 'Warsaw', 130),\n",
    "    ('Minsk', 'Prague', 95),\n",
    "    ('Stockholm', 'Rome', 190),\n",
    "    ('Copenhagen', 'Paris', 120),\n",
    "    ('Madrid', 'Rome', 135),\n",
    "    ('Lisbon', 'Rome', 170),\n",
    "    ('Dublin', 'Rome', 170),\n",
    "    ]\n",
    "\n",
    "count = 0\n",
    "time = 0\n",
    "for city_to in connections:\n",
    "    if city_to[1] == 'Rome':\n",
    "        count += 1\n",
    "        time  += city_to[2]\n",
    "    else:\n",
    "        continue\n",
    "average = time / count \n",
    "print(count, 'connections lead to Rome with an average flight time of', average, 'minutes')\n"
   ]
  },
  {
   "cell_type": "code",
   "execution_count": 453,
   "metadata": {},
   "outputs": [
    {
     "name": "stdout",
     "output_type": "stream",
     "text": [
      "5 connections lead to Rome with an  tine of 161.0 minutes \n"
     ]
    }
   ],
   "source": [
    "connections = [\n",
    "    (\"Amsterda\", \"Dublin\", 100),\n",
    "    (\"Amsterdam\", \"Rome\", 140),\n",
    "    (\"Rome\", \"Warsaw\", 130),\n",
    "    (\"Minsk\", \"Praque\", 95),\n",
    "    (\"Stockholm\", \"Rome\", 190),\n",
    "    (\"Copenhagen\", \"Paris\", 120),\n",
    "    (\"Madrid\", \"Rome\", 135),\n",
    "    (\"Lisbon\", \"Rome\", 170),\n",
    "    (\"Dublin\", \"Rome\", 170)\n",
    "]\n",
    "rome = 0\n",
    "total_to_rome = 0\n",
    "\n",
    "for flight in connections:\n",
    "    if flight[1] == \"Rome\": # index that indicate to_city Rome\n",
    "        total_to_rome += flight[2]\n",
    "        rome += 1\n",
    "\n",
    "average_to_rome = total_to_rome / rome\n",
    "\n",
    "print(f\"{rome} connections lead to Rome with an  tine of {average_to_rome} minutes \")"
   ]
  },
  {
   "cell_type": "code",
   "execution_count": 218,
   "metadata": {},
   "outputs": [],
   "source": [
    "emails = {\n",
    "    'Anne Stahl': 'astahl@gmail.com',\n",
    "    'Peter Small': 'peters@yandex.com',\n",
    "    'Mark Steel': 'mark@steel.com'\n",
    "}"
   ]
  },
  {
   "cell_type": "code",
   "execution_count": 219,
   "metadata": {},
   "outputs": [
    {
     "name": "stdout",
     "output_type": "stream",
     "text": [
      "mark@steel.com\n"
     ]
    }
   ],
   "source": [
    "print(emails['Mark Steel'])"
   ]
  },
  {
   "cell_type": "code",
   "execution_count": 220,
   "metadata": {},
   "outputs": [],
   "source": [
    "spanish_animals = {\n",
    "    'dog': 'el perro',\n",
    "    'cat': 'el gato',\n",
    "    'horse': 'el caballo',\n",
    "    'bird': 'el pájaro'\n",
    "     }"
   ]
  },
  {
   "cell_type": "code",
   "execution_count": 221,
   "metadata": {},
   "outputs": [
    {
     "name": "stdout",
     "output_type": "stream",
     "text": [
      "el pájaro\n"
     ]
    }
   ],
   "source": [
    "print(spanish_animals['bird'])"
   ]
  },
  {
   "cell_type": "code",
   "execution_count": 222,
   "metadata": {},
   "outputs": [],
   "source": [
    "grades = {}"
   ]
  },
  {
   "cell_type": "code",
   "execution_count": 223,
   "metadata": {},
   "outputs": [],
   "source": [
    "grades['John'] = 'A-'"
   ]
  },
  {
   "cell_type": "code",
   "execution_count": 224,
   "metadata": {},
   "outputs": [],
   "source": [
    "grades['Anne'] = 'B'"
   ]
  },
  {
   "cell_type": "code",
   "execution_count": 226,
   "metadata": {},
   "outputs": [
    {
     "name": "stdout",
     "output_type": "stream",
     "text": [
      "{'John': 'A-', 'Anne': 'B'}\n"
     ]
    }
   ],
   "source": [
    "print(grades)"
   ]
  },
  {
   "cell_type": "code",
   "execution_count": 227,
   "metadata": {},
   "outputs": [],
   "source": [
    "grades.update({'John':'A'})"
   ]
  },
  {
   "cell_type": "code",
   "execution_count": 228,
   "metadata": {},
   "outputs": [
    {
     "name": "stdout",
     "output_type": "stream",
     "text": [
      "{'John': 'A', 'Anne': 'B'}\n"
     ]
    }
   ],
   "source": [
    "print(grades)"
   ]
  },
  {
   "cell_type": "code",
   "execution_count": 229,
   "metadata": {},
   "outputs": [
    {
     "data": {
      "text/plain": [
       "2"
      ]
     },
     "execution_count": 229,
     "metadata": {},
     "output_type": "execute_result"
    }
   ],
   "source": [
    "len(grades)"
   ]
  },
  {
   "cell_type": "code",
   "execution_count": 231,
   "metadata": {},
   "outputs": [
    {
     "data": {
      "text/plain": [
       "5"
      ]
     },
     "execution_count": 231,
     "metadata": {},
     "output_type": "execute_result"
    }
   ],
   "source": [
    "len('hello')"
   ]
  },
  {
   "cell_type": "code",
   "execution_count": 232,
   "metadata": {},
   "outputs": [
    {
     "name": "stdout",
     "output_type": "stream",
     "text": [
      "John got A\n"
     ]
    }
   ],
   "source": [
    "if 'John' in grades:\n",
    "    print('John got', grades['John'])"
   ]
  },
  {
   "cell_type": "code",
   "execution_count": 233,
   "metadata": {},
   "outputs": [],
   "source": [
    "del grades['John']"
   ]
  },
  {
   "cell_type": "code",
   "execution_count": 234,
   "metadata": {},
   "outputs": [
    {
     "name": "stdout",
     "output_type": "stream",
     "text": [
      "{'Anne': 'B'}\n"
     ]
    }
   ],
   "source": [
    "print(grades)"
   ]
  },
  {
   "cell_type": "code",
   "execution_count": 235,
   "metadata": {},
   "outputs": [],
   "source": [
    "grades = {}\n",
    "grades['John'] = 'A-'\n",
    "grades['Anne'] = 'B'\n"
   ]
  },
  {
   "cell_type": "code",
   "execution_count": 237,
   "metadata": {},
   "outputs": [
    {
     "name": "stdout",
     "output_type": "stream",
     "text": [
      "John\n",
      "Anne\n"
     ]
    }
   ],
   "source": [
    "for el in grades:\n",
    "    print(el)"
   ]
  },
  {
   "cell_type": "code",
   "execution_count": 238,
   "metadata": {},
   "outputs": [
    {
     "name": "stdout",
     "output_type": "stream",
     "text": [
      "John\n",
      "Anne\n"
     ]
    }
   ],
   "source": [
    "for el in grades.keys():\n",
    "    print(el)"
   ]
  },
  {
   "cell_type": "code",
   "execution_count": 240,
   "metadata": {},
   "outputs": [
    {
     "name": "stdout",
     "output_type": "stream",
     "text": [
      "A-\n",
      "B\n"
     ]
    }
   ],
   "source": [
    "for el in grades.values():\n",
    "    print(el)"
   ]
  },
  {
   "cell_type": "code",
   "execution_count": 241,
   "metadata": {},
   "outputs": [
    {
     "name": "stdout",
     "output_type": "stream",
     "text": [
      "John got A-\n",
      "Anne got B\n"
     ]
    }
   ],
   "source": [
    "for person, grade in grades.items():\n",
    "    print(person, 'got', grade)"
   ]
  },
  {
   "cell_type": "code",
   "execution_count": 300,
   "metadata": {},
   "outputs": [
    {
     "name": "stdin",
     "output_type": "stream",
     "text": [
      "Enter a word in English or EXIT:  leg\n"
     ]
    },
    {
     "name": "stdout",
     "output_type": "stream",
     "text": [
      "Translation: Bein\n"
     ]
    }
   ],
   "source": [
    "sample_dict = {\n",
    "    \"mouth\": \"Mund\",\n",
    "    \"finger\": \"Finger\",\n",
    "    \"leg\": \"Bein\",\n",
    "    \"hand\": \"Hand\",\n",
    "    \"face\": \"Gesicht\",\n",
    "    \"nose\": \"Nase\"\n",
    "}\n",
    "\n",
    "result = input('Enter a word in English or EXIT: ')\n",
    "if result == 'EXIT':\n",
    "    print('Bye!')\n",
    "elif result in sample_dict:\n",
    "    print('Translation:', sample_dict[result])\n",
    "else:\n",
    "    print('Not match!')\n",
    "    "
   ]
  },
  {
   "cell_type": "code",
   "execution_count": 301,
   "metadata": {},
   "outputs": [
    {
     "name": "stdin",
     "output_type": "stream",
     "text": [
      "Enter a word in English or EXIT:  mouth\n"
     ]
    },
    {
     "name": "stdout",
     "output_type": "stream",
     "text": [
      "Translation: Mund\n"
     ]
    },
    {
     "name": "stdin",
     "output_type": "stream",
     "text": [
      "Enter a word in English or EXIT:  leg\n"
     ]
    },
    {
     "name": "stdout",
     "output_type": "stream",
     "text": [
      "Translation: Bein\n"
     ]
    },
    {
     "name": "stdin",
     "output_type": "stream",
     "text": [
      "Enter a word in English or EXIT:  Mund\n"
     ]
    },
    {
     "name": "stdout",
     "output_type": "stream",
     "text": [
      "No match!\n"
     ]
    },
    {
     "name": "stdin",
     "output_type": "stream",
     "text": [
      "Enter a word in English or EXIT:  EXIT\n"
     ]
    },
    {
     "name": "stdout",
     "output_type": "stream",
     "text": [
      "Bye!\n"
     ]
    }
   ],
   "source": [
    "sample_dict = {\n",
    "    \"mouth\": \"Mund\",\n",
    "    \"finger\": \"Finger\",\n",
    "    \"leg\": \"Bein\",\n",
    "    \"hand\": \"Hand\",\n",
    "    \"face\": \"Gesicht\",\n",
    "    \"nose\": \"Nase\"\n",
    "}\n",
    " \n",
    "while True:\n",
    "    user_input = input('Enter a word in English or EXIT: ')\n",
    "    if user_input == 'EXIT':\n",
    "        break\n",
    "    if user_input in sample_dict:\n",
    "        print ('Translation:', sample_dict[user_input])\n",
    "    else:\n",
    "        print('No match!')\n",
    " \n",
    "print('Bye!')\n"
   ]
  },
  {
   "cell_type": "code",
   "execution_count": 309,
   "metadata": {},
   "outputs": [
    {
     "name": "stdout",
     "output_type": "stream",
     "text": [
      "Hello, my dear! \n",
      "Hello, my dear! \n",
      "Hello, my dear! \n",
      "Hello, my dear! \n",
      "Hello, my dear! \n"
     ]
    }
   ],
   "source": [
    "def greet():\n",
    "    print('Hello, my dear! ')\n",
    "greet()\n",
    "greet()\n",
    "greet()\n",
    "greet()\n",
    "greet()"
   ]
  },
  {
   "cell_type": "code",
   "execution_count": null,
   "metadata": {},
   "outputs": [
    {
     "name": "stdout",
     "output_type": "stream",
     "text": [
      "7.24\n"
     ]
    }
   ],
   "source": [
    "input_numbers = [5.0, 3.5, 7.8, 9.9, 10.0]\n",
    "sum = 0.0\n",
    "for number in input_numbers:\n",
    "    sum += number\n",
    "average = sum / len(input_numbers)\n",
    "print(average)"
   ]
  },
  {
   "cell_type": "code",
   "execution_count": 326,
   "metadata": {},
   "outputs": [
    {
     "name": "stdout",
     "output_type": "stream",
     "text": [
      "7.24\n"
     ]
    }
   ],
   "source": [
    "input_numbers = [5.0, 3.5, 7.8, 9.9, 10.0]\n",
    "\n",
    "def get_average (input_numbers):\n",
    "    sum = 0.0\n",
    "    for number in input_numbers:\n",
    "        sum += number\n",
    "    average = sum / len(input_numbers)\n",
    "\n",
    "    print(average)\n",
    "get_average([5.0, 3.5, 7.8, 9.9, 10.0])"
   ]
  },
  {
   "cell_type": "code",
   "execution_count": 327,
   "metadata": {},
   "outputs": [
    {
     "ename": "TypeError",
     "evalue": "get_average() missing 1 required positional argument: 'input_numbers'",
     "output_type": "error",
     "traceback": [
      "\u001b[0;31m---------------------------------------------------------------------------\u001b[0m",
      "\u001b[0;31mTypeError\u001b[0m                                 Traceback (most recent call last)",
      "\u001b[0;32m/var/folders/p6/7q961yb17fs5smkgyy230wp80000gp/T/ipykernel_70146/1742480711.py\u001b[0m in \u001b[0;36m<module>\u001b[0;34m\u001b[0m\n\u001b[0;32m----> 1\u001b[0;31m \u001b[0mget_average\u001b[0m\u001b[0;34m(\u001b[0m\u001b[0;34m)\u001b[0m\u001b[0;34m\u001b[0m\u001b[0;34m\u001b[0m\u001b[0m\n\u001b[0m",
      "\u001b[0;31mTypeError\u001b[0m: get_average() missing 1 required positional argument: 'input_numbers'"
     ]
    }
   ],
   "source": [
    "get_average()"
   ]
  },
  {
   "cell_type": "code",
   "execution_count": 313,
   "metadata": {},
   "outputs": [
    {
     "ename": "TypeError",
     "evalue": "'int' object is not iterable",
     "output_type": "error",
     "traceback": [
      "\u001b[0;31m---------------------------------------------------------------------------\u001b[0m",
      "\u001b[0;31mTypeError\u001b[0m                                 Traceback (most recent call last)",
      "\u001b[0;32m/var/folders/p6/7q961yb17fs5smkgyy230wp80000gp/T/ipykernel_70146/61808271.py\u001b[0m in \u001b[0;36m<module>\u001b[0;34m\u001b[0m\n\u001b[0;32m----> 1\u001b[0;31m \u001b[0mget_average\u001b[0m\u001b[0;34m(\u001b[0m\u001b[0;36m5\u001b[0m\u001b[0;34m)\u001b[0m\u001b[0;34m\u001b[0m\u001b[0;34m\u001b[0m\u001b[0m\n\u001b[0m",
      "\u001b[0;32m/var/folders/p6/7q961yb17fs5smkgyy230wp80000gp/T/ipykernel_70146/1664150625.py\u001b[0m in \u001b[0;36mget_average\u001b[0;34m(input_numbers)\u001b[0m\n\u001b[1;32m      3\u001b[0m \u001b[0;32mdef\u001b[0m \u001b[0mget_average\u001b[0m \u001b[0;34m(\u001b[0m\u001b[0minput_numbers\u001b[0m\u001b[0;34m)\u001b[0m\u001b[0;34m:\u001b[0m\u001b[0;34m\u001b[0m\u001b[0;34m\u001b[0m\u001b[0m\n\u001b[1;32m      4\u001b[0m     \u001b[0msum\u001b[0m \u001b[0;34m=\u001b[0m \u001b[0;36m0.0\u001b[0m\u001b[0;34m\u001b[0m\u001b[0;34m\u001b[0m\u001b[0m\n\u001b[0;32m----> 5\u001b[0;31m     \u001b[0;32mfor\u001b[0m \u001b[0mnumber\u001b[0m \u001b[0;32min\u001b[0m \u001b[0minput_numbers\u001b[0m\u001b[0;34m:\u001b[0m\u001b[0;34m\u001b[0m\u001b[0;34m\u001b[0m\u001b[0m\n\u001b[0m\u001b[1;32m      6\u001b[0m         \u001b[0msum\u001b[0m \u001b[0;34m+=\u001b[0m \u001b[0mnumber\u001b[0m\u001b[0;34m\u001b[0m\u001b[0;34m\u001b[0m\u001b[0m\n\u001b[1;32m      7\u001b[0m     \u001b[0maverage\u001b[0m \u001b[0;34m=\u001b[0m \u001b[0msum\u001b[0m \u001b[0;34m/\u001b[0m \u001b[0mlen\u001b[0m\u001b[0;34m(\u001b[0m\u001b[0minput_numbers\u001b[0m\u001b[0;34m)\u001b[0m\u001b[0;34m\u001b[0m\u001b[0;34m\u001b[0m\u001b[0m\n",
      "\u001b[0;31mTypeError\u001b[0m: 'int' object is not iterable"
     ]
    }
   ],
   "source": [
    "get_average(5)"
   ]
  },
  {
   "cell_type": "code",
   "execution_count": 319,
   "metadata": {},
   "outputs": [],
   "source": [
    "def print_letter_count(text, letter):\n",
    "    counter = 0\n",
    "    for char in text:\n",
    "        if char == letter:\n",
    "            counter += 1\n",
    "    print('Number of', letter, 'is', counter)"
   ]
  },
  {
   "cell_type": "code",
   "execution_count": 320,
   "metadata": {},
   "outputs": [
    {
     "name": "stdout",
     "output_type": "stream",
     "text": [
      "Number of e is 2\n"
     ]
    }
   ],
   "source": [
    "print_letter_count('Welcome', 'e')"
   ]
  },
  {
   "cell_type": "code",
   "execution_count": 321,
   "metadata": {},
   "outputs": [
    {
     "name": "stdout",
     "output_type": "stream",
     "text": [
      "Number of a is 2\n"
     ]
    }
   ],
   "source": [
    "print_letter_count('People say nothing is impossible, but I do nothing every day.', 'a')"
   ]
  },
  {
   "cell_type": "code",
   "execution_count": 322,
   "metadata": {},
   "outputs": [
    {
     "name": "stdout",
     "output_type": "stream",
     "text": [
      "Number of Welcome is 0\n"
     ]
    }
   ],
   "source": [
    "print_letter_count('e', 'Welcome')"
   ]
  },
  {
   "cell_type": "code",
   "execution_count": 323,
   "metadata": {},
   "outputs": [
    {
     "name": "stdout",
     "output_type": "stream",
     "text": [
      "Number of e is 2\n"
     ]
    }
   ],
   "source": [
    "print_letter_count(text='Welcome', letter='e')"
   ]
  },
  {
   "cell_type": "code",
   "execution_count": 328,
   "metadata": {},
   "outputs": [
    {
     "name": "stdout",
     "output_type": "stream",
     "text": [
      "Number of e is 2\n"
     ]
    }
   ],
   "source": [
    "print_letter_count(letter='e', text='Welcome')"
   ]
  },
  {
   "cell_type": "code",
   "execution_count": 329,
   "metadata": {},
   "outputs": [
    {
     "name": "stdout",
     "output_type": "stream",
     "text": [
      "Hello-How are you?."
     ]
    }
   ],
   "source": [
    "print('Hello', 'How are you?', end='.', sep='-')"
   ]
  },
  {
   "cell_type": "code",
   "execution_count": 331,
   "metadata": {},
   "outputs": [],
   "source": [
    "def print_letter_count(text, letter='a'):\n",
    "    counter = 0\n",
    "    for char in text:\n",
    "        if char == letter:\n",
    "            counter += 1\n",
    "    print('Number of', letter, 'is', counter)"
   ]
  },
  {
   "cell_type": "code",
   "execution_count": 334,
   "metadata": {},
   "outputs": [
    {
     "name": "stdout",
     "output_type": "stream",
     "text": [
      "Number of a is 3\n"
     ]
    }
   ],
   "source": [
    "print_letter_count('how many letters a are here?')"
   ]
  },
  {
   "cell_type": "code",
   "execution_count": 362,
   "metadata": {},
   "outputs": [],
   "source": [
    "#Remember \n",
    "# ALL positional args must appear before any named arguments\n",
    "\n",
    "def print_letter_count(text='This is default',letter='a'):\n",
    "    counter = 0\n",
    "    for char in text:\n",
    "        if char == letter:\n",
    "            counter += 1\n",
    "    print('Number of', letter, 'is', counter)"
   ]
  },
  {
   "cell_type": "code",
   "execution_count": 363,
   "metadata": {},
   "outputs": [
    {
     "name": "stdout",
     "output_type": "stream",
     "text": [
      "Number of a is 2\n"
     ]
    }
   ],
   "source": [
    "print_letter_count('Salam')"
   ]
  },
  {
   "cell_type": "code",
   "execution_count": 359,
   "metadata": {},
   "outputs": [
    {
     "name": "stdout",
     "output_type": "stream",
     "text": [
      "Number of a is 1\n"
     ]
    }
   ],
   "source": [
    "print_letter_count()"
   ]
  },
  {
   "cell_type": "code",
   "execution_count": 364,
   "metadata": {},
   "outputs": [
    {
     "ename": "SyntaxError",
     "evalue": "positional argument follows keyword argument (1632597885.py, line 1)",
     "output_type": "error",
     "traceback": [
      "\u001b[0;36m  File \u001b[0;32m\"/var/folders/p6/7q961yb17fs5smkgyy230wp80000gp/T/ipykernel_70146/1632597885.py\"\u001b[0;36m, line \u001b[0;32m1\u001b[0m\n\u001b[0;31m    print_letter_count(letter='a', 'Search')\u001b[0m\n\u001b[0m                                           ^\u001b[0m\n\u001b[0;31mSyntaxError\u001b[0m\u001b[0;31m:\u001b[0m positional argument follows keyword argument\n"
     ]
    }
   ],
   "source": [
    "print_letter_count(letter='a', 'Search')"
   ]
  },
  {
   "cell_type": "code",
   "execution_count": 365,
   "metadata": {},
   "outputs": [
    {
     "name": "stdout",
     "output_type": "stream",
     "text": [
      "Number of a is 2\n"
     ]
    }
   ],
   "source": [
    "print_letter_count('Seaarch', letter='a')"
   ]
  },
  {
   "cell_type": "code",
   "execution_count": 366,
   "metadata": {},
   "outputs": [
    {
     "ename": "NameError",
     "evalue": "name 'mysterious_var' is not defined",
     "output_type": "error",
     "traceback": [
      "\u001b[0;31m---------------------------------------------------------------------------\u001b[0m",
      "\u001b[0;31mNameError\u001b[0m                                 Traceback (most recent call last)",
      "\u001b[0;32m/var/folders/p6/7q961yb17fs5smkgyy230wp80000gp/T/ipykernel_70146/2540484102.py\u001b[0m in \u001b[0;36m<module>\u001b[0;34m\u001b[0m\n\u001b[1;32m      2\u001b[0m     \u001b[0mprint\u001b[0m\u001b[0;34m(\u001b[0m\u001b[0mmysterious_var\u001b[0m\u001b[0;34m)\u001b[0m\u001b[0;34m\u001b[0m\u001b[0;34m\u001b[0m\u001b[0m\n\u001b[1;32m      3\u001b[0m \u001b[0;34m\u001b[0m\u001b[0m\n\u001b[0;32m----> 4\u001b[0;31m \u001b[0mshow_truth\u001b[0m\u001b[0;34m(\u001b[0m\u001b[0;34m)\u001b[0m\u001b[0;34m\u001b[0m\u001b[0;34m\u001b[0m\u001b[0m\n\u001b[0m",
      "\u001b[0;32m/var/folders/p6/7q961yb17fs5smkgyy230wp80000gp/T/ipykernel_70146/2540484102.py\u001b[0m in \u001b[0;36mshow_truth\u001b[0;34m()\u001b[0m\n\u001b[1;32m      1\u001b[0m \u001b[0;32mdef\u001b[0m \u001b[0mshow_truth\u001b[0m\u001b[0;34m(\u001b[0m\u001b[0;34m)\u001b[0m\u001b[0;34m:\u001b[0m\u001b[0;34m\u001b[0m\u001b[0;34m\u001b[0m\u001b[0m\n\u001b[0;32m----> 2\u001b[0;31m     \u001b[0mprint\u001b[0m\u001b[0;34m(\u001b[0m\u001b[0mmysterious_var\u001b[0m\u001b[0;34m)\u001b[0m\u001b[0;34m\u001b[0m\u001b[0;34m\u001b[0m\u001b[0m\n\u001b[0m\u001b[1;32m      3\u001b[0m \u001b[0;34m\u001b[0m\u001b[0m\n\u001b[1;32m      4\u001b[0m \u001b[0mshow_truth\u001b[0m\u001b[0;34m(\u001b[0m\u001b[0;34m)\u001b[0m\u001b[0;34m\u001b[0m\u001b[0;34m\u001b[0m\u001b[0m\n",
      "\u001b[0;31mNameError\u001b[0m: name 'mysterious_var' is not defined"
     ]
    }
   ],
   "source": [
    "def show_truth():\n",
    "    print(mysterious_var)\n",
    "    \n",
    "show_truth()"
   ]
  },
  {
   "cell_type": "code",
   "execution_count": 367,
   "metadata": {},
   "outputs": [
    {
     "name": "stdout",
     "output_type": "stream",
     "text": [
      "Surprise!\n"
     ]
    }
   ],
   "source": [
    "def show_truth():\n",
    "    mysterious_var = 'Surprise!'\n",
    "    print(mysterious_var)\n",
    "    \n",
    "show_truth()"
   ]
  },
  {
   "cell_type": "code",
   "execution_count": 368,
   "metadata": {},
   "outputs": [
    {
     "name": "stdout",
     "output_type": "stream",
     "text": [
      "Surprise!\n"
     ]
    }
   ],
   "source": [
    "def show_truth():\n",
    "    print(mysterious_var)\n",
    "mysterious_var = 'Surprise!'\n",
    "show_truth()"
   ]
  },
  {
   "cell_type": "code",
   "execution_count": 370,
   "metadata": {},
   "outputs": [
    {
     "name": "stdout",
     "output_type": "stream",
     "text": [
      "Surprise!\n",
      "New Surprise!\n",
      "New Surprise!\n"
     ]
    }
   ],
   "source": [
    " def show_truth():\n",
    "    global mysterious_var\n",
    "    mysterious_var = 'New Surprise!'\n",
    "    print(mysterious_var)\n",
    "    \n",
    "mysterious_var = 'Surprise!'\n",
    "print(mysterious_var)\n",
    "show_truth()\n",
    "print(mysterious_var)"
   ]
  },
  {
   "cell_type": "code",
   "execution_count": 371,
   "metadata": {},
   "outputs": [
    {
     "name": "stdout",
     "output_type": "stream",
     "text": [
      "['Surprise!']\n",
      "['New Surprise!']\n",
      "['New Surprise!']\n"
     ]
    }
   ],
   "source": [
    " def show_truth():\n",
    "    global mysterious_var\n",
    "    mysterious_var = ['New Surprise!']\n",
    "    print(mysterious_var)\n",
    "    \n",
    "mysterious_var = ['Surprise!']\n",
    "print(mysterious_var)\n",
    "show_truth()\n",
    "print(mysterious_var)"
   ]
  },
  {
   "cell_type": "code",
   "execution_count": 373,
   "metadata": {},
   "outputs": [
    {
     "name": "stdout",
     "output_type": "stream",
     "text": [
      "['Surprise!']\n",
      "['Surprise!', 'New Surprise!']\n",
      "['Surprise!', 'New Surprise!']\n"
     ]
    }
   ],
   "source": [
    " def show_truth():\n",
    "    mysterious_var.append('New Surprise!')\n",
    "    print(mysterious_var)\n",
    "    \n",
    "mysterious_var = ['Surprise!']\n",
    "print(mysterious_var)\n",
    "show_truth()\n",
    "print(mysterious_var)"
   ]
  },
  {
   "cell_type": "code",
   "execution_count": 374,
   "metadata": {},
   "outputs": [],
   "source": [
    "lenght = len('hello')"
   ]
  },
  {
   "cell_type": "code",
   "execution_count": 378,
   "metadata": {},
   "outputs": [
    {
     "name": "stdin",
     "output_type": "stream",
     "text": [
      "what is number? 5\n"
     ]
    }
   ],
   "source": [
    "number = input('what is number?')"
   ]
  },
  {
   "cell_type": "code",
   "execution_count": 379,
   "metadata": {},
   "outputs": [
    {
     "name": "stdout",
     "output_type": "stream",
     "text": [
      "Hello, World\n",
      "None\n"
     ]
    }
   ],
   "source": [
    "print_return = print('Hello, World')\n",
    "print(print_return)"
   ]
  },
  {
   "cell_type": "code",
   "execution_count": 380,
   "metadata": {},
   "outputs": [
    {
     "name": "stdout",
     "output_type": "stream",
     "text": [
      "None is not True, or False, None is just None\n"
     ]
    }
   ],
   "source": [
    "x = None\n",
    "\n",
    "if x:\n",
    "    print(\"None is True\")\n",
    "elif x is False:\n",
    "    print(\"None is False\")\n",
    "else:\n",
    "    print(\"None is not True, or False, None is just None\")"
   ]
  },
  {
   "cell_type": "code",
   "execution_count": 383,
   "metadata": {},
   "outputs": [
    {
     "name": "stdout",
     "output_type": "stream",
     "text": [
      "yes\n",
      "it does\n"
     ]
    }
   ],
   "source": [
    "x = None\n",
    "if x is None:\n",
    "    print('yes')\n",
    "if x == None:\n",
    "    print('it does')"
   ]
  },
  {
   "cell_type": "code",
   "execution_count": 384,
   "metadata": {},
   "outputs": [
    {
     "name": "stdout",
     "output_type": "stream",
     "text": [
      "hello\n",
      "None\n"
     ]
    }
   ],
   "source": [
    "def greet():\n",
    "    print('hello')\n",
    "\n",
    "x = greet()\n",
    "print(x)"
   ]
  },
  {
   "cell_type": "code",
   "execution_count": 385,
   "metadata": {},
   "outputs": [],
   "source": [
    "def get_average (input_numbers):\n",
    "    sum = 0.0\n",
    "    for number in input_numbers:\n",
    "        sum += number\n",
    "    average = sum / len(input_numbers)\n",
    "    return average"
   ]
  },
  {
   "cell_type": "code",
   "execution_count": 386,
   "metadata": {},
   "outputs": [
    {
     "name": "stdout",
     "output_type": "stream",
     "text": [
      "The average is:  7.24\n"
     ]
    }
   ],
   "source": [
    "print('The average is: ', get_average([5.0, 3.5, 7.8, 9.9, 10.0]))"
   ]
  },
  {
   "cell_type": "code",
   "execution_count": 388,
   "metadata": {},
   "outputs": [
    {
     "name": "stdout",
     "output_type": "stream",
     "text": [
      "The average is too high!\n"
     ]
    }
   ],
   "source": [
    "average = get_average([5.0, 3.5, 7.8, 9.9, 10.0])\n",
    "if average > 5.0:\n",
    "    print('The average is too high!')"
   ]
  },
  {
   "cell_type": "code",
   "execution_count": 389,
   "metadata": {},
   "outputs": [
    {
     "data": {
      "text/plain": [
       "2.0"
      ]
     },
     "execution_count": 389,
     "metadata": {},
     "output_type": "execute_result"
    }
   ],
   "source": [
    "def get_average (input_numbers):\n",
    "    sum = 0.0\n",
    "    for number in input_numbers:\n",
    "        sum += number\n",
    "    average = sum / len(input_numbers)\n",
    "    return average\n",
    "    print('Show me!')\n",
    "get_average([2])"
   ]
  },
  {
   "cell_type": "code",
   "execution_count": 390,
   "metadata": {},
   "outputs": [],
   "source": [
    "def is_first_last_equal(number_list):\n",
    "    if (number_list[0] == number_list[-1]):\n",
    "        return True\n",
    "    else:\n",
    "        return False"
   ]
  },
  {
   "cell_type": "code",
   "execution_count": 392,
   "metadata": {},
   "outputs": [
    {
     "name": "stdout",
     "output_type": "stream",
     "text": [
      "True\n"
     ]
    }
   ],
   "source": [
    "print(is_first_last_equal([10, 20, 30, 40, 10]))"
   ]
  },
  {
   "cell_type": "code",
   "execution_count": 393,
   "metadata": {},
   "outputs": [
    {
     "name": "stdout",
     "output_type": "stream",
     "text": [
      "False\n"
     ]
    }
   ],
   "source": [
    "print(is_first_last_equal([10, 20, 30, 40, 50]))"
   ]
  },
  {
   "cell_type": "code",
   "execution_count": 394,
   "metadata": {},
   "outputs": [
    {
     "ename": "IndexError",
     "evalue": "list index out of range",
     "output_type": "error",
     "traceback": [
      "\u001b[0;31m---------------------------------------------------------------------------\u001b[0m",
      "\u001b[0;31mIndexError\u001b[0m                                Traceback (most recent call last)",
      "\u001b[0;32m/var/folders/p6/7q961yb17fs5smkgyy230wp80000gp/T/ipykernel_70146/1771268329.py\u001b[0m in \u001b[0;36m<module>\u001b[0;34m\u001b[0m\n\u001b[0;32m----> 1\u001b[0;31m \u001b[0mprint\u001b[0m\u001b[0;34m(\u001b[0m\u001b[0mis_first_last_equal\u001b[0m\u001b[0;34m(\u001b[0m\u001b[0;34m[\u001b[0m\u001b[0;34m]\u001b[0m\u001b[0;34m)\u001b[0m\u001b[0;34m)\u001b[0m\u001b[0;34m\u001b[0m\u001b[0;34m\u001b[0m\u001b[0m\n\u001b[0m",
      "\u001b[0;32m/var/folders/p6/7q961yb17fs5smkgyy230wp80000gp/T/ipykernel_70146/1248249401.py\u001b[0m in \u001b[0;36mis_first_last_equal\u001b[0;34m(number_list)\u001b[0m\n\u001b[1;32m      1\u001b[0m \u001b[0;32mdef\u001b[0m \u001b[0mis_first_last_equal\u001b[0m\u001b[0;34m(\u001b[0m\u001b[0mnumber_list\u001b[0m\u001b[0;34m)\u001b[0m\u001b[0;34m:\u001b[0m\u001b[0;34m\u001b[0m\u001b[0;34m\u001b[0m\u001b[0m\n\u001b[0;32m----> 2\u001b[0;31m     \u001b[0;32mif\u001b[0m \u001b[0;34m(\u001b[0m\u001b[0mnumber_list\u001b[0m\u001b[0;34m[\u001b[0m\u001b[0;36m0\u001b[0m\u001b[0;34m]\u001b[0m \u001b[0;34m==\u001b[0m \u001b[0mnumber_list\u001b[0m\u001b[0;34m[\u001b[0m\u001b[0;34m-\u001b[0m\u001b[0;36m1\u001b[0m\u001b[0;34m]\u001b[0m\u001b[0;34m)\u001b[0m\u001b[0;34m:\u001b[0m\u001b[0;34m\u001b[0m\u001b[0;34m\u001b[0m\u001b[0m\n\u001b[0m\u001b[1;32m      3\u001b[0m         \u001b[0;32mreturn\u001b[0m \u001b[0;32mTrue\u001b[0m\u001b[0;34m\u001b[0m\u001b[0;34m\u001b[0m\u001b[0m\n\u001b[1;32m      4\u001b[0m     \u001b[0;32melse\u001b[0m\u001b[0;34m:\u001b[0m\u001b[0;34m\u001b[0m\u001b[0;34m\u001b[0m\u001b[0m\n\u001b[1;32m      5\u001b[0m         \u001b[0;32mreturn\u001b[0m \u001b[0;32mFalse\u001b[0m\u001b[0;34m\u001b[0m\u001b[0;34m\u001b[0m\u001b[0m\n",
      "\u001b[0;31mIndexError\u001b[0m: list index out of range"
     ]
    }
   ],
   "source": [
    "print(is_first_last_equal([]))"
   ]
  },
  {
   "cell_type": "code",
   "execution_count": 395,
   "metadata": {},
   "outputs": [],
   "source": [
    "def is_first_last_equal(number_list):\n",
    "    if len(number_list) == 0:\n",
    "        return\n",
    "    if (number_list[0] == number_list[-1]):\n",
    "        return True\n",
    "    else:\n",
    "        return False"
   ]
  },
  {
   "cell_type": "code",
   "execution_count": 396,
   "metadata": {},
   "outputs": [
    {
     "name": "stdout",
     "output_type": "stream",
     "text": [
      "True\n"
     ]
    }
   ],
   "source": [
    "print(is_first_last_equal([10, 20, 30, 40, 10]))"
   ]
  },
  {
   "cell_type": "code",
   "execution_count": 397,
   "metadata": {},
   "outputs": [
    {
     "name": "stdout",
     "output_type": "stream",
     "text": [
      "False\n"
     ]
    }
   ],
   "source": [
    "print(is_first_last_equal([10, 20, 30, 40, 50]))"
   ]
  },
  {
   "cell_type": "code",
   "execution_count": 398,
   "metadata": {},
   "outputs": [
    {
     "name": "stdout",
     "output_type": "stream",
     "text": [
      "None\n"
     ]
    }
   ],
   "source": [
    "print(is_first_last_equal([]))"
   ]
  },
  {
   "cell_type": "code",
   "execution_count": 399,
   "metadata": {},
   "outputs": [
    {
     "name": "stdout",
     "output_type": "stream",
     "text": [
      "[1, 4, 5]\n"
     ]
    }
   ],
   "source": [
    "def unique (dupes):\n",
    "    new = []\n",
    "    for x in dupes:\n",
    "        if x not in new:\n",
    "            new.append(x)\n",
    "        else:\n",
    "            continue\n",
    "    return(new)\n",
    "print(unique([1, 1, 4, 5, 1]))"
   ]
  },
  {
   "cell_type": "code",
   "execution_count": 405,
   "metadata": {},
   "outputs": [
    {
     "name": "stdout",
     "output_type": "stream",
     "text": [
      "[1, 4, 5]\n"
     ]
    }
   ],
   "source": [
    "def unique(input_list=[]):\n",
    "  to_return = []\n",
    "  for el in input_list:\n",
    "    if el not in to_return:\n",
    "      to_return.append(el)\n",
    "  return to_return\n",
    "print(unique([1, 1, 4, 5, 1]))"
   ]
  },
  {
   "cell_type": "code",
   "execution_count": 406,
   "metadata": {},
   "outputs": [
    {
     "name": "stdout",
     "output_type": "stream",
     "text": [
      "[1, 4, 5]\n"
     ]
    }
   ],
   "source": [
    "print(unique([1, 1, 4, 5, 1]))"
   ]
  },
  {
   "cell_type": "code",
   "execution_count": 407,
   "metadata": {},
   "outputs": [],
   "source": [
    " #factorial\n",
    "# 3! = 1 * 2 * 3 = 6\n",
    "# 5% = 1 * 2 * 3 * 4 * 5 = 120"
   ]
  },
  {
   "cell_type": "code",
   "execution_count": 415,
   "metadata": {},
   "outputs": [],
   "source": [
    "# iterative\n",
    "def get_factorial(number):\n",
    "    factorial = 1\n",
    "    for x in range(1, number + 1):\n",
    "        factorial *= x\n",
    "    return factorial"
   ]
  },
  {
   "cell_type": "code",
   "execution_count": 416,
   "metadata": {},
   "outputs": [
    {
     "name": "stdout",
     "output_type": "stream",
     "text": [
      "720\n"
     ]
    }
   ],
   "source": [
    "print(get_factorial(6))"
   ]
  },
  {
   "cell_type": "code",
   "execution_count": null,
   "metadata": {},
   "outputs": [],
   "source": [
    "1! = 1\n",
    "2! = 2 * 1!\n",
    "3! = 3 * 2!\n",
    "4! = 4 * 3!\n",
    "5! = 5 * 4!"
   ]
  },
  {
   "cell_type": "code",
   "execution_count": 421,
   "metadata": {},
   "outputs": [],
   "source": [
    "def get_factorial_recursive(number):\n",
    "    if number <= 1:\n",
    "        return 1\n",
    "    return number * get_factorial_recursive(number -1)\n",
    "        "
   ]
  },
  {
   "cell_type": "code",
   "execution_count": 422,
   "metadata": {},
   "outputs": [
    {
     "data": {
      "text/plain": [
       "720"
      ]
     },
     "execution_count": 422,
     "metadata": {},
     "output_type": "execute_result"
    }
   ],
   "source": [
    "get_factorial_recursive(6)"
   ]
  },
  {
   "cell_type": "code",
   "execution_count": 424,
   "metadata": {},
   "outputs": [],
   "source": [
    "def get_number():\n",
    "    for i in range(1, 4):\n",
    "        yield i"
   ]
  },
  {
   "cell_type": "code",
   "execution_count": 426,
   "metadata": {},
   "outputs": [
    {
     "name": "stdout",
     "output_type": "stream",
     "text": [
      "<generator object get_number at 0x7fc730162900>\n"
     ]
    }
   ],
   "source": [
    "print(get_number())"
   ]
  },
  {
   "cell_type": "code",
   "execution_count": 430,
   "metadata": {},
   "outputs": [
    {
     "name": "stdout",
     "output_type": "stream",
     "text": [
      "1\n",
      "2\n",
      "3\n"
     ]
    },
    {
     "ename": "StopIteration",
     "evalue": "",
     "output_type": "error",
     "traceback": [
      "\u001b[0;31m---------------------------------------------------------------------------\u001b[0m",
      "\u001b[0;31mStopIteration\u001b[0m                             Traceback (most recent call last)",
      "\u001b[0;32m/var/folders/p6/7q961yb17fs5smkgyy230wp80000gp/T/ipykernel_70146/2682217081.py\u001b[0m in \u001b[0;36m<module>\u001b[0;34m\u001b[0m\n\u001b[1;32m      3\u001b[0m \u001b[0mprint\u001b[0m\u001b[0;34m(\u001b[0m\u001b[0mnext\u001b[0m\u001b[0;34m(\u001b[0m\u001b[0mgenerator\u001b[0m\u001b[0;34m)\u001b[0m\u001b[0;34m)\u001b[0m\u001b[0;34m\u001b[0m\u001b[0;34m\u001b[0m\u001b[0m\n\u001b[1;32m      4\u001b[0m \u001b[0mprint\u001b[0m\u001b[0;34m(\u001b[0m\u001b[0mnext\u001b[0m\u001b[0;34m(\u001b[0m\u001b[0mgenerator\u001b[0m\u001b[0;34m)\u001b[0m\u001b[0;34m)\u001b[0m\u001b[0;34m\u001b[0m\u001b[0;34m\u001b[0m\u001b[0m\n\u001b[0;32m----> 5\u001b[0;31m \u001b[0mprint\u001b[0m\u001b[0;34m(\u001b[0m\u001b[0mnext\u001b[0m\u001b[0;34m(\u001b[0m\u001b[0mgenerator\u001b[0m\u001b[0;34m)\u001b[0m\u001b[0;34m)\u001b[0m\u001b[0;34m\u001b[0m\u001b[0;34m\u001b[0m\u001b[0m\n\u001b[0m",
      "\u001b[0;31mStopIteration\u001b[0m: "
     ]
    }
   ],
   "source": [
    "generator = get_number()\n",
    "print(next(generator))\n",
    "print(next(generator))\n",
    "print(next(generator))\n",
    "print(next(generator))"
   ]
  },
  {
   "cell_type": "code",
   "execution_count": 431,
   "metadata": {},
   "outputs": [
    {
     "name": "stdout",
     "output_type": "stream",
     "text": [
      "1\n",
      "2\n",
      "3\n"
     ]
    }
   ],
   "source": [
    "for x in get_number():\n",
    "    print(x)"
   ]
  },
  {
   "cell_type": "code",
   "execution_count": 433,
   "metadata": {},
   "outputs": [
    {
     "name": "stdout",
     "output_type": "stream",
     "text": [
      "[1, 2, 3]\n"
     ]
    }
   ],
   "source": [
    "numbers = list(get_number())\n",
    "print(numbers)"
   ]
  },
  {
   "cell_type": "code",
   "execution_count": 436,
   "metadata": {},
   "outputs": [
    {
     "ename": "IndentationError",
     "evalue": "expected an indented block (2872381456.py, line 2)",
     "output_type": "error",
     "traceback": [
      "\u001b[0;36m  File \u001b[0;32m\"/var/folders/p6/7q961yb17fs5smkgyy230wp80000gp/T/ipykernel_70146/2872381456.py\"\u001b[0;36m, line \u001b[0;32m2\u001b[0m\n\u001b[0;31m    print('hooray!')\u001b[0m\n\u001b[0m    ^\u001b[0m\n\u001b[0;31mIndentationError\u001b[0m\u001b[0;31m:\u001b[0m expected an indented block\n"
     ]
    }
   ],
   "source": [
    "if True:\n",
    "print('hooray!')"
   ]
  },
  {
   "cell_type": "code",
   "execution_count": 437,
   "metadata": {},
   "outputs": [
    {
     "name": "stdin",
     "output_type": "stream",
     "text": [
      "Enter an integer:  a\n"
     ]
    },
    {
     "ename": "ValueError",
     "evalue": "invalid literal for int() with base 10: 'a'",
     "output_type": "error",
     "traceback": [
      "\u001b[0;31m---------------------------------------------------------------------------\u001b[0m",
      "\u001b[0;31mValueError\u001b[0m                                Traceback (most recent call last)",
      "\u001b[0;32m/var/folders/p6/7q961yb17fs5smkgyy230wp80000gp/T/ipykernel_70146/1233092938.py\u001b[0m in \u001b[0;36m<module>\u001b[0;34m\u001b[0m\n\u001b[0;32m----> 1\u001b[0;31m \u001b[0mvalue\u001b[0m \u001b[0;34m=\u001b[0m \u001b[0mint\u001b[0m\u001b[0;34m(\u001b[0m\u001b[0minput\u001b[0m\u001b[0;34m(\u001b[0m\u001b[0;34m'Enter an integer: '\u001b[0m\u001b[0;34m)\u001b[0m\u001b[0;34m)\u001b[0m\u001b[0;34m\u001b[0m\u001b[0;34m\u001b[0m\u001b[0m\n\u001b[0m\u001b[1;32m      2\u001b[0m \u001b[0mprint\u001b[0m\u001b[0;34m(\u001b[0m\u001b[0;34m'The inverse of'\u001b[0m\u001b[0;34m,\u001b[0m \u001b[0mvalue\u001b[0m\u001b[0;34m,\u001b[0m \u001b[0;34m'is'\u001b[0m\u001b[0;34m,\u001b[0m \u001b[0;36m1\u001b[0m\u001b[0;34m/\u001b[0m\u001b[0mvalue\u001b[0m\u001b[0;34m)\u001b[0m\u001b[0;34m\u001b[0m\u001b[0;34m\u001b[0m\u001b[0m\n",
      "\u001b[0;31mValueError\u001b[0m: invalid literal for int() with base 10: 'a'"
     ]
    }
   ],
   "source": [
    "value = int(input('Enter an integer: '))\n",
    "print('The inverse of', value, 'is', 1/value)"
   ]
  },
  {
   "cell_type": "code",
   "execution_count": 439,
   "metadata": {},
   "outputs": [
    {
     "name": "stdin",
     "output_type": "stream",
     "text": [
      "Enter an integer:  q\n"
     ]
    },
    {
     "name": "stdout",
     "output_type": "stream",
     "text": [
      "You did not provide a number, so I will not calculate the inverse\n"
     ]
    }
   ],
   "source": [
    "try:\n",
    "    value = int(input('Enter an integer: '))\n",
    "    print('The inverse of', value, 'is', 1/value)\n",
    "except:\n",
    "    print('You did not provide a number, so I will not calculate the inverse')"
   ]
  },
  {
   "cell_type": "code",
   "execution_count": 441,
   "metadata": {},
   "outputs": [
    {
     "name": "stdin",
     "output_type": "stream",
     "text": [
      "Enter an integer:  a\n"
     ]
    },
    {
     "name": "stdout",
     "output_type": "stream",
     "text": [
      "You did not provide a number, so I will not calculate the inverse\n"
     ]
    }
   ],
   "source": [
    "try:\n",
    "    value = int(input('Enter an integer: '))\n",
    "    print('The inverse of', value, 'is', 1/value)\n",
    "except ValueError:\n",
    "    print('You did not provide a number, so I will not calculate the inverse')\n",
    "except ZeroDivisionError:\n",
    "    print('You provided 0 an division by 0 is not possible sorry')"
   ]
  },
  {
   "cell_type": "code",
   "execution_count": 446,
   "metadata": {},
   "outputs": [
    {
     "name": "stdin",
     "output_type": "stream",
     "text": [
      "Enter an integer:  sad\n"
     ]
    },
    {
     "name": "stdout",
     "output_type": "stream",
     "text": [
      "You did not provide a number, so I will not calculate the inverse\n"
     ]
    }
   ],
   "source": [
    "try:\n",
    "    value = int(input('Enter an integer: '))\n",
    "    print('The inverse of', value, 'is', 1/value)\n",
    "except ValueError:\n",
    "    print('You did not provide a number, so I will not calculate the inverse')\n",
    "except ZeroDivisionError:\n",
    "    print('You provided 0 an division by 0 is not possible sorry')\n",
    "except:\n",
    "    print('Something strage happened here, sorry')\n",
    "    "
   ]
  },
  {
   "cell_type": "code",
   "execution_count": 450,
   "metadata": {},
   "outputs": [
    {
     "name": "stdin",
     "output_type": "stream",
     "text": [
      "What is your name?  \n"
     ]
    },
    {
     "name": "stdout",
     "output_type": "stream",
     "text": [
      "Empty name? I cannot work with that. I am closing the program. Bye!\n"
     ]
    },
    {
     "ename": "SystemExit",
     "evalue": "",
     "output_type": "error",
     "traceback": [
      "An exception has occurred, use %tb to see the full traceback.\n",
      "\u001b[0;31mSystemExit\u001b[0m\n"
     ]
    },
    {
     "name": "stderr",
     "output_type": "stream",
     "text": [
      "/Users/imamma/opt/anaconda3/lib/python3.9/site-packages/IPython/core/interactiveshell.py:3465: UserWarning: To exit: use 'exit', 'quit', or Ctrl-D.\n",
      "  warn(\"To exit: use 'exit', 'quit', or Ctrl-D.\", stacklevel=1)\n"
     ]
    }
   ],
   "source": [
    "import sys\n",
    "\n",
    "user_name = input('What is your name? ')\n",
    "if user_name == '':\n",
    "    print('Empty name? I cannot work with that. I am closing the program. Bye!')\n",
    "    sys.exit()\n",
    "print('Hello,', user_name)\n",
    "print('Let us get started...')"
   ]
  },
  {
   "cell_type": "code",
   "execution_count": 451,
   "metadata": {},
   "outputs": [
    {
     "ename": "IndexError",
     "evalue": "list index out of range",
     "output_type": "error",
     "traceback": [
      "\u001b[0;31m---------------------------------------------------------------------------\u001b[0m",
      "\u001b[0;31mIndexError\u001b[0m                                Traceback (most recent call last)",
      "\u001b[0;32m/var/folders/p6/7q961yb17fs5smkgyy230wp80000gp/T/ipykernel_70146/3756671320.py\u001b[0m in \u001b[0;36m<module>\u001b[0;34m\u001b[0m\n\u001b[1;32m      1\u001b[0m \u001b[0mprogramming_language\u001b[0m \u001b[0;34m=\u001b[0m \u001b[0;34m[\u001b[0m\u001b[0;34m\"Java\"\u001b[0m\u001b[0;34m,\u001b[0m \u001b[0;34m\"Python\"\u001b[0m\u001b[0;34m,\u001b[0m \u001b[0;34m\"C++\"\u001b[0m\u001b[0;34m]\u001b[0m\u001b[0;34m\u001b[0m\u001b[0;34m\u001b[0m\u001b[0m\n\u001b[0;32m----> 2\u001b[0;31m \u001b[0mprint\u001b[0m\u001b[0;34m(\u001b[0m\u001b[0mprogramming_language\u001b[0m\u001b[0;34m[\u001b[0m\u001b[0;36m10\u001b[0m\u001b[0;34m]\u001b[0m\u001b[0;34m)\u001b[0m\u001b[0;34m\u001b[0m\u001b[0;34m\u001b[0m\u001b[0m\n\u001b[0m",
      "\u001b[0;31mIndexError\u001b[0m: list index out of range"
     ]
    }
   ],
   "source": [
    "programming_language = [\"Java\", \"Python\", \"C++\"]\n",
    "print(programming_language[10])"
   ]
  },
  {
   "cell_type": "code",
   "execution_count": 457,
   "metadata": {},
   "outputs": [
    {
     "data": {
      "text/plain": [
       "0.2"
      ]
     },
     "execution_count": 457,
     "metadata": {},
     "output_type": "execute_result"
    }
   ],
   "source": [
    "def calculate_inverse(number):\n",
    "    assert (number != 0), 'Got 0 as a number!'\n",
    "    return 1/number\n",
    "calculate_inverse(5)"
   ]
  },
  {
   "cell_type": "code",
   "execution_count": 458,
   "metadata": {},
   "outputs": [],
   "source": [
    "def do_magic(a = 0):\n",
    "    print(a)"
   ]
  },
  {
   "cell_type": "code",
   "execution_count": 462,
   "metadata": {},
   "outputs": [
    {
     "name": "stdout",
     "output_type": "stream",
     "text": [
      "3\n",
      "None\n"
     ]
    }
   ],
   "source": [
    "print(do_magic(3))"
   ]
  },
  {
   "cell_type": "code",
   "execution_count": 463,
   "metadata": {},
   "outputs": [
    {
     "name": "stdout",
     "output_type": "stream",
     "text": [
      "6\n"
     ]
    }
   ],
   "source": [
    "def func(x):\n",
    "  if x == 0:\n",
    "    return 0\n",
    "  return x + func(x - 1)\n",
    " \n",
    "print(func(3))"
   ]
  },
  {
   "cell_type": "code",
   "execution_count": 465,
   "metadata": {},
   "outputs": [
    {
     "data": {
      "text/plain": [
       "False"
      ]
     },
     "execution_count": 465,
     "metadata": {},
     "output_type": "execute_result"
    }
   ],
   "source": [
    "None == False"
   ]
  },
  {
   "cell_type": "code",
   "execution_count": 467,
   "metadata": {},
   "outputs": [
    {
     "name": "stdout",
     "output_type": "stream",
     "text": [
      "+----------+\n",
      "|          |\n",
      "|          |\n",
      "|          |\n",
      "|          |\n",
      "|          |\n",
      "+----------+\n"
     ]
    }
   ],
   "source": [
    "print(\"+\" + 10 * \"-\" + \"+\")\n",
    "print((\"|\" + \" \" * 10 + \"|\\n\") * 5, end=\"\")\n",
    "print(\"+\" + 10 * \"-\" + \"+\")"
   ]
  },
  {
   "cell_type": "code",
   "execution_count": null,
   "metadata": {},
   "outputs": [],
   "source": []
  }
 ],
 "metadata": {
  "kernelspec": {
   "display_name": "Python 3 (ipykernel)",
   "language": "python",
   "name": "python3"
  },
  "language_info": {
   "codemirror_mode": {
    "name": "ipython",
    "version": 3
   },
   "file_extension": ".py",
   "mimetype": "text/x-python",
   "name": "python",
   "nbconvert_exporter": "python",
   "pygments_lexer": "ipython3",
   "version": "3.9.13"
  },
  "vscode": {
   "interpreter": {
    "hash": "31f2aee4e71d21fbe5cf8b01ff0e069b9275f58929596ceb00d14d90e3e16cd6"
   }
  }
 },
 "nbformat": 4,
 "nbformat_minor": 4
}
